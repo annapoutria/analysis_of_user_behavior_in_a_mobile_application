{
  "cells": [
    {
      "cell_type": "markdown",
      "metadata": {
        "id": "MGzrqN3XN89V"
      },
      "source": [
        "# Анализ поведения пользователей в мобильном приложении"
      ]
    },
    {
      "cell_type": "markdown",
      "metadata": {
        "id": "tgaFBk2tOeWJ"
      },
      "source": [
        "# Описание проекта\n",
        "Вы работаете в стартапе, который продаёт продукты питания. Нужно разобраться, как ведут себя пользователи вашего мобильного приложения.  \n",
        "Изучите воронку продаж. Узнайте, как пользователи доходят до покупки. Сколько пользователей доходит до покупки, а сколько — «застревает» на предыдущих шагах? На каких именно?  \n",
        "После этого исследуйте результаты A/A/B-эксперимента. Дизайнеры захотели поменять шрифты во всём приложении, а менеджеры испугались, что пользователям будет непривычно. Договорились принять решение по результатам A/A/B-теста. Пользователей разбили на 3 группы: 2 контрольные со старыми шрифтами и одну экспериментальную — с новыми. Выясните, какой шрифт лучше.  \n",
        "Создание двух групп A вместо одной имеет определённые преимущества. Если две контрольные группы окажутся равны, вы можете быть уверены в точности проведенного тестирования. Если же между значениями A и A будут существенные различия, это поможет обнаружить факторы, которые привели к искажению результатов. Сравнение контрольных групп также помогает понять, сколько времени и данных потребуется для дальнейших тестов.  \n",
        "В случае общей аналитики и A/A/B-эксперимента работайте с одними и теми же данными. В реальных проектах всегда идут эксперименты. Аналитики исследуют качество работы приложения по общим данным, не учитывая принадлежность пользователей к экспериментам.  \n",
        "#Описание данных\n",
        "Каждая запись в логе — это действие пользователя, или событие.  \n",
        "EventName — название события;  \n",
        "DeviceIDHash — уникальный идентификатор пользователя;  \n",
        "EventTimestamp — время события;  \n",
        "ExpId — номер эксперимента: 246 и 247 — контрольные группы, а 248 — экспериментальная."
      ]
    },
    {
      "cell_type": "markdown",
      "metadata": {
        "id": "QbvpOLbEUWf0"
      },
      "source": [
        "# Выполнение проекта  \n",
        "Шаг 1. Откройте файл с данными и изучите общую информацию"
      ]
    },
    {
      "cell_type": "code",
      "execution_count": 1,
      "metadata": {
        "id": "az5HyAMPOkfM"
      },
      "outputs": [],
      "source": [
        "import pandas as pd\n",
        "import numpy as np\n",
        "import matplotlib.pyplot as plt\n",
        "import datetime as dt\n",
        "from scipy import stats as st\n",
        "import math as mth\n",
        "from plotly import graph_objects as go"
      ]
    },
    {
      "cell_type": "code",
      "execution_count": 2,
      "metadata": {
        "id": "LjVcDXvSSZ--"
      },
      "outputs": [],
      "source": [
        "df = pd.read_csv('https://code.s3.yandex.net/datasets/logs_exp.csv', sep='\\t')"
      ]
    },
    {
      "cell_type": "code",
      "execution_count": 3,
      "metadata": {
        "id": "_yRzC-MLN89W"
      },
      "outputs": [],
      "source": [
        "def data_info(dataframe):\n",
        "   display(dataframe.head()),\n",
        "   display(dataframe.describe()),\n",
        "   dataframe.info(),\n",
        "   print(),\n",
        "   print('Количество дубликатов:', dataframe.duplicated().sum()),\n",
        "   print(),\n",
        "   print('Доля дубликатов:', '{:.2%}'.format((dataframe.duplicated().sum() / len(dataframe)))),\n",
        "   print(),\n",
        "   print('Количество пропущенных значений:'),\n",
        "   print(dataframe.isna().sum())"
      ]
    },
    {
      "cell_type": "code",
      "execution_count": 4,
      "metadata": {
        "colab": {
          "base_uri": "https://localhost:8080/",
          "height": 890
        },
        "id": "W0qFV496N89X",
        "outputId": "408e7d15-2c86-44c6-8a5b-d973e9c72cac"
      },
      "outputs": [
        {
          "output_type": "display_data",
          "data": {
            "text/plain": [
              "                 EventName         DeviceIDHash  EventTimestamp  ExpId\n",
              "0         MainScreenAppear  4575588528974610257      1564029816    246\n",
              "1         MainScreenAppear  7416695313311560658      1564053102    246\n",
              "2  PaymentScreenSuccessful  3518123091307005509      1564054127    248\n",
              "3         CartScreenAppear  3518123091307005509      1564054127    248\n",
              "4  PaymentScreenSuccessful  6217807653094995999      1564055322    248"
            ],
            "text/html": [
              "\n",
              "  <div id=\"df-3710b548-28ea-47f5-aa33-e5a30046c3ad\">\n",
              "    <div class=\"colab-df-container\">\n",
              "      <div>\n",
              "<style scoped>\n",
              "    .dataframe tbody tr th:only-of-type {\n",
              "        vertical-align: middle;\n",
              "    }\n",
              "\n",
              "    .dataframe tbody tr th {\n",
              "        vertical-align: top;\n",
              "    }\n",
              "\n",
              "    .dataframe thead th {\n",
              "        text-align: right;\n",
              "    }\n",
              "</style>\n",
              "<table border=\"1\" class=\"dataframe\">\n",
              "  <thead>\n",
              "    <tr style=\"text-align: right;\">\n",
              "      <th></th>\n",
              "      <th>EventName</th>\n",
              "      <th>DeviceIDHash</th>\n",
              "      <th>EventTimestamp</th>\n",
              "      <th>ExpId</th>\n",
              "    </tr>\n",
              "  </thead>\n",
              "  <tbody>\n",
              "    <tr>\n",
              "      <th>0</th>\n",
              "      <td>MainScreenAppear</td>\n",
              "      <td>4575588528974610257</td>\n",
              "      <td>1564029816</td>\n",
              "      <td>246</td>\n",
              "    </tr>\n",
              "    <tr>\n",
              "      <th>1</th>\n",
              "      <td>MainScreenAppear</td>\n",
              "      <td>7416695313311560658</td>\n",
              "      <td>1564053102</td>\n",
              "      <td>246</td>\n",
              "    </tr>\n",
              "    <tr>\n",
              "      <th>2</th>\n",
              "      <td>PaymentScreenSuccessful</td>\n",
              "      <td>3518123091307005509</td>\n",
              "      <td>1564054127</td>\n",
              "      <td>248</td>\n",
              "    </tr>\n",
              "    <tr>\n",
              "      <th>3</th>\n",
              "      <td>CartScreenAppear</td>\n",
              "      <td>3518123091307005509</td>\n",
              "      <td>1564054127</td>\n",
              "      <td>248</td>\n",
              "    </tr>\n",
              "    <tr>\n",
              "      <th>4</th>\n",
              "      <td>PaymentScreenSuccessful</td>\n",
              "      <td>6217807653094995999</td>\n",
              "      <td>1564055322</td>\n",
              "      <td>248</td>\n",
              "    </tr>\n",
              "  </tbody>\n",
              "</table>\n",
              "</div>\n",
              "      <button class=\"colab-df-convert\" onclick=\"convertToInteractive('df-3710b548-28ea-47f5-aa33-e5a30046c3ad')\"\n",
              "              title=\"Convert this dataframe to an interactive table.\"\n",
              "              style=\"display:none;\">\n",
              "        \n",
              "  <svg xmlns=\"http://www.w3.org/2000/svg\" height=\"24px\"viewBox=\"0 0 24 24\"\n",
              "       width=\"24px\">\n",
              "    <path d=\"M0 0h24v24H0V0z\" fill=\"none\"/>\n",
              "    <path d=\"M18.56 5.44l.94 2.06.94-2.06 2.06-.94-2.06-.94-.94-2.06-.94 2.06-2.06.94zm-11 1L8.5 8.5l.94-2.06 2.06-.94-2.06-.94L8.5 2.5l-.94 2.06-2.06.94zm10 10l.94 2.06.94-2.06 2.06-.94-2.06-.94-.94-2.06-.94 2.06-2.06.94z\"/><path d=\"M17.41 7.96l-1.37-1.37c-.4-.4-.92-.59-1.43-.59-.52 0-1.04.2-1.43.59L10.3 9.45l-7.72 7.72c-.78.78-.78 2.05 0 2.83L4 21.41c.39.39.9.59 1.41.59.51 0 1.02-.2 1.41-.59l7.78-7.78 2.81-2.81c.8-.78.8-2.07 0-2.86zM5.41 20L4 18.59l7.72-7.72 1.47 1.35L5.41 20z\"/>\n",
              "  </svg>\n",
              "      </button>\n",
              "      \n",
              "  <style>\n",
              "    .colab-df-container {\n",
              "      display:flex;\n",
              "      flex-wrap:wrap;\n",
              "      gap: 12px;\n",
              "    }\n",
              "\n",
              "    .colab-df-convert {\n",
              "      background-color: #E8F0FE;\n",
              "      border: none;\n",
              "      border-radius: 50%;\n",
              "      cursor: pointer;\n",
              "      display: none;\n",
              "      fill: #1967D2;\n",
              "      height: 32px;\n",
              "      padding: 0 0 0 0;\n",
              "      width: 32px;\n",
              "    }\n",
              "\n",
              "    .colab-df-convert:hover {\n",
              "      background-color: #E2EBFA;\n",
              "      box-shadow: 0px 1px 2px rgba(60, 64, 67, 0.3), 0px 1px 3px 1px rgba(60, 64, 67, 0.15);\n",
              "      fill: #174EA6;\n",
              "    }\n",
              "\n",
              "    [theme=dark] .colab-df-convert {\n",
              "      background-color: #3B4455;\n",
              "      fill: #D2E3FC;\n",
              "    }\n",
              "\n",
              "    [theme=dark] .colab-df-convert:hover {\n",
              "      background-color: #434B5C;\n",
              "      box-shadow: 0px 1px 3px 1px rgba(0, 0, 0, 0.15);\n",
              "      filter: drop-shadow(0px 1px 2px rgba(0, 0, 0, 0.3));\n",
              "      fill: #FFFFFF;\n",
              "    }\n",
              "  </style>\n",
              "\n",
              "      <script>\n",
              "        const buttonEl =\n",
              "          document.querySelector('#df-3710b548-28ea-47f5-aa33-e5a30046c3ad button.colab-df-convert');\n",
              "        buttonEl.style.display =\n",
              "          google.colab.kernel.accessAllowed ? 'block' : 'none';\n",
              "\n",
              "        async function convertToInteractive(key) {\n",
              "          const element = document.querySelector('#df-3710b548-28ea-47f5-aa33-e5a30046c3ad');\n",
              "          const dataTable =\n",
              "            await google.colab.kernel.invokeFunction('convertToInteractive',\n",
              "                                                     [key], {});\n",
              "          if (!dataTable) return;\n",
              "\n",
              "          const docLinkHtml = 'Like what you see? Visit the ' +\n",
              "            '<a target=\"_blank\" href=https://colab.research.google.com/notebooks/data_table.ipynb>data table notebook</a>'\n",
              "            + ' to learn more about interactive tables.';\n",
              "          element.innerHTML = '';\n",
              "          dataTable['output_type'] = 'display_data';\n",
              "          await google.colab.output.renderOutput(dataTable, element);\n",
              "          const docLink = document.createElement('div');\n",
              "          docLink.innerHTML = docLinkHtml;\n",
              "          element.appendChild(docLink);\n",
              "        }\n",
              "      </script>\n",
              "    </div>\n",
              "  </div>\n",
              "  "
            ]
          },
          "metadata": {}
        },
        {
          "output_type": "display_data",
          "data": {
            "text/plain": [
              "       DeviceIDHash  EventTimestamp          ExpId\n",
              "count  2.441260e+05    2.441260e+05  244126.000000\n",
              "mean   4.627568e+18    1.564914e+09     247.022296\n",
              "std    2.642425e+18    1.771343e+05       0.824434\n",
              "min    6.888747e+15    1.564030e+09     246.000000\n",
              "25%    2.372212e+18    1.564757e+09     246.000000\n",
              "50%    4.623192e+18    1.564919e+09     247.000000\n",
              "75%    6.932517e+18    1.565075e+09     248.000000\n",
              "max    9.222603e+18    1.565213e+09     248.000000"
            ],
            "text/html": [
              "\n",
              "  <div id=\"df-daac32f3-d7f2-47d0-8830-57a075520136\">\n",
              "    <div class=\"colab-df-container\">\n",
              "      <div>\n",
              "<style scoped>\n",
              "    .dataframe tbody tr th:only-of-type {\n",
              "        vertical-align: middle;\n",
              "    }\n",
              "\n",
              "    .dataframe tbody tr th {\n",
              "        vertical-align: top;\n",
              "    }\n",
              "\n",
              "    .dataframe thead th {\n",
              "        text-align: right;\n",
              "    }\n",
              "</style>\n",
              "<table border=\"1\" class=\"dataframe\">\n",
              "  <thead>\n",
              "    <tr style=\"text-align: right;\">\n",
              "      <th></th>\n",
              "      <th>DeviceIDHash</th>\n",
              "      <th>EventTimestamp</th>\n",
              "      <th>ExpId</th>\n",
              "    </tr>\n",
              "  </thead>\n",
              "  <tbody>\n",
              "    <tr>\n",
              "      <th>count</th>\n",
              "      <td>2.441260e+05</td>\n",
              "      <td>2.441260e+05</td>\n",
              "      <td>244126.000000</td>\n",
              "    </tr>\n",
              "    <tr>\n",
              "      <th>mean</th>\n",
              "      <td>4.627568e+18</td>\n",
              "      <td>1.564914e+09</td>\n",
              "      <td>247.022296</td>\n",
              "    </tr>\n",
              "    <tr>\n",
              "      <th>std</th>\n",
              "      <td>2.642425e+18</td>\n",
              "      <td>1.771343e+05</td>\n",
              "      <td>0.824434</td>\n",
              "    </tr>\n",
              "    <tr>\n",
              "      <th>min</th>\n",
              "      <td>6.888747e+15</td>\n",
              "      <td>1.564030e+09</td>\n",
              "      <td>246.000000</td>\n",
              "    </tr>\n",
              "    <tr>\n",
              "      <th>25%</th>\n",
              "      <td>2.372212e+18</td>\n",
              "      <td>1.564757e+09</td>\n",
              "      <td>246.000000</td>\n",
              "    </tr>\n",
              "    <tr>\n",
              "      <th>50%</th>\n",
              "      <td>4.623192e+18</td>\n",
              "      <td>1.564919e+09</td>\n",
              "      <td>247.000000</td>\n",
              "    </tr>\n",
              "    <tr>\n",
              "      <th>75%</th>\n",
              "      <td>6.932517e+18</td>\n",
              "      <td>1.565075e+09</td>\n",
              "      <td>248.000000</td>\n",
              "    </tr>\n",
              "    <tr>\n",
              "      <th>max</th>\n",
              "      <td>9.222603e+18</td>\n",
              "      <td>1.565213e+09</td>\n",
              "      <td>248.000000</td>\n",
              "    </tr>\n",
              "  </tbody>\n",
              "</table>\n",
              "</div>\n",
              "      <button class=\"colab-df-convert\" onclick=\"convertToInteractive('df-daac32f3-d7f2-47d0-8830-57a075520136')\"\n",
              "              title=\"Convert this dataframe to an interactive table.\"\n",
              "              style=\"display:none;\">\n",
              "        \n",
              "  <svg xmlns=\"http://www.w3.org/2000/svg\" height=\"24px\"viewBox=\"0 0 24 24\"\n",
              "       width=\"24px\">\n",
              "    <path d=\"M0 0h24v24H0V0z\" fill=\"none\"/>\n",
              "    <path d=\"M18.56 5.44l.94 2.06.94-2.06 2.06-.94-2.06-.94-.94-2.06-.94 2.06-2.06.94zm-11 1L8.5 8.5l.94-2.06 2.06-.94-2.06-.94L8.5 2.5l-.94 2.06-2.06.94zm10 10l.94 2.06.94-2.06 2.06-.94-2.06-.94-.94-2.06-.94 2.06-2.06.94z\"/><path d=\"M17.41 7.96l-1.37-1.37c-.4-.4-.92-.59-1.43-.59-.52 0-1.04.2-1.43.59L10.3 9.45l-7.72 7.72c-.78.78-.78 2.05 0 2.83L4 21.41c.39.39.9.59 1.41.59.51 0 1.02-.2 1.41-.59l7.78-7.78 2.81-2.81c.8-.78.8-2.07 0-2.86zM5.41 20L4 18.59l7.72-7.72 1.47 1.35L5.41 20z\"/>\n",
              "  </svg>\n",
              "      </button>\n",
              "      \n",
              "  <style>\n",
              "    .colab-df-container {\n",
              "      display:flex;\n",
              "      flex-wrap:wrap;\n",
              "      gap: 12px;\n",
              "    }\n",
              "\n",
              "    .colab-df-convert {\n",
              "      background-color: #E8F0FE;\n",
              "      border: none;\n",
              "      border-radius: 50%;\n",
              "      cursor: pointer;\n",
              "      display: none;\n",
              "      fill: #1967D2;\n",
              "      height: 32px;\n",
              "      padding: 0 0 0 0;\n",
              "      width: 32px;\n",
              "    }\n",
              "\n",
              "    .colab-df-convert:hover {\n",
              "      background-color: #E2EBFA;\n",
              "      box-shadow: 0px 1px 2px rgba(60, 64, 67, 0.3), 0px 1px 3px 1px rgba(60, 64, 67, 0.15);\n",
              "      fill: #174EA6;\n",
              "    }\n",
              "\n",
              "    [theme=dark] .colab-df-convert {\n",
              "      background-color: #3B4455;\n",
              "      fill: #D2E3FC;\n",
              "    }\n",
              "\n",
              "    [theme=dark] .colab-df-convert:hover {\n",
              "      background-color: #434B5C;\n",
              "      box-shadow: 0px 1px 3px 1px rgba(0, 0, 0, 0.15);\n",
              "      filter: drop-shadow(0px 1px 2px rgba(0, 0, 0, 0.3));\n",
              "      fill: #FFFFFF;\n",
              "    }\n",
              "  </style>\n",
              "\n",
              "      <script>\n",
              "        const buttonEl =\n",
              "          document.querySelector('#df-daac32f3-d7f2-47d0-8830-57a075520136 button.colab-df-convert');\n",
              "        buttonEl.style.display =\n",
              "          google.colab.kernel.accessAllowed ? 'block' : 'none';\n",
              "\n",
              "        async function convertToInteractive(key) {\n",
              "          const element = document.querySelector('#df-daac32f3-d7f2-47d0-8830-57a075520136');\n",
              "          const dataTable =\n",
              "            await google.colab.kernel.invokeFunction('convertToInteractive',\n",
              "                                                     [key], {});\n",
              "          if (!dataTable) return;\n",
              "\n",
              "          const docLinkHtml = 'Like what you see? Visit the ' +\n",
              "            '<a target=\"_blank\" href=https://colab.research.google.com/notebooks/data_table.ipynb>data table notebook</a>'\n",
              "            + ' to learn more about interactive tables.';\n",
              "          element.innerHTML = '';\n",
              "          dataTable['output_type'] = 'display_data';\n",
              "          await google.colab.output.renderOutput(dataTable, element);\n",
              "          const docLink = document.createElement('div');\n",
              "          docLink.innerHTML = docLinkHtml;\n",
              "          element.appendChild(docLink);\n",
              "        }\n",
              "      </script>\n",
              "    </div>\n",
              "  </div>\n",
              "  "
            ]
          },
          "metadata": {}
        },
        {
          "output_type": "stream",
          "name": "stdout",
          "text": [
            "<class 'pandas.core.frame.DataFrame'>\n",
            "RangeIndex: 244126 entries, 0 to 244125\n",
            "Data columns (total 4 columns):\n",
            " #   Column          Non-Null Count   Dtype \n",
            "---  ------          --------------   ----- \n",
            " 0   EventName       244126 non-null  object\n",
            " 1   DeviceIDHash    244126 non-null  int64 \n",
            " 2   EventTimestamp  244126 non-null  int64 \n",
            " 3   ExpId           244126 non-null  int64 \n",
            "dtypes: int64(3), object(1)\n",
            "memory usage: 7.5+ MB\n",
            "\n",
            "Количество дубликатов: 413\n",
            "\n",
            "Доля дубликатов: 0.17%\n",
            "\n",
            "Количество пропущенных значений:\n",
            "EventName         0\n",
            "DeviceIDHash      0\n",
            "EventTimestamp    0\n",
            "ExpId             0\n",
            "dtype: int64\n"
          ]
        }
      ],
      "source": [
        "data_info(df)"
      ]
    },
    {
      "cell_type": "markdown",
      "metadata": {
        "id": "z4QNb8-kUsh5"
      },
      "source": [
        "# Шаг 2. Подготовьте данные  \n",
        "1) Замените названия столбцов на удобные для вас:"
      ]
    },
    {
      "cell_type": "code",
      "execution_count": 5,
      "metadata": {
        "id": "Fze_f_t2VDyo"
      },
      "outputs": [],
      "source": [
        "df = df.rename(columns={'EventName': 'event_name', 'DeviceIDHash': 'user_id', 'EventTimestamp': 'event_timestamp', 'ExpId': 'group'})"
      ]
    },
    {
      "cell_type": "markdown",
      "metadata": {
        "id": "SzD83mv4U2xN"
      },
      "source": [
        "2) Проверьте пропуски. Откорректируйте, если нужно:"
      ]
    },
    {
      "cell_type": "markdown",
      "metadata": {
        "id": "O1mgZBW8N89X"
      },
      "source": [
        "Пропущенных значений нет, дубликаты составляют всего 0,17% от общего размера датафрейма, исключим их:"
      ]
    },
    {
      "cell_type": "code",
      "execution_count": 6,
      "metadata": {
        "id": "dh8dWPSGdP33"
      },
      "outputs": [],
      "source": [
        "df = df.drop_duplicates().reset_index(drop=True) # удаление дубликатов"
      ]
    },
    {
      "cell_type": "markdown",
      "metadata": {
        "id": "xEaImTMoU6WD"
      },
      "source": [
        "3) Проверьте типы данных. Добавьте столбец даты и времени, а также отдельный столбец дат:"
      ]
    },
    {
      "cell_type": "code",
      "execution_count": 7,
      "metadata": {
        "id": "b-tQyzTgVsnM"
      },
      "outputs": [],
      "source": [
        "df['event_time'] = pd.to_datetime(df['event_timestamp'], unit='s')"
      ]
    },
    {
      "cell_type": "code",
      "execution_count": 8,
      "metadata": {
        "id": "cyB7rHDgZWO4"
      },
      "outputs": [],
      "source": [
        "df['event_date'] = pd.to_datetime(df['event_timestamp'], unit='s').dt.date"
      ]
    },
    {
      "cell_type": "code",
      "execution_count": 9,
      "metadata": {
        "colab": {
          "base_uri": "https://localhost:8080/",
          "height": 206
        },
        "id": "7HMtdxQjYbs3",
        "outputId": "b935862c-2998-43c0-e668-2d65fb706982"
      },
      "outputs": [
        {
          "output_type": "execute_result",
          "data": {
            "text/plain": [
              "                event_name              user_id  event_timestamp  group  \\\n",
              "0         MainScreenAppear  4575588528974610257       1564029816    246   \n",
              "1         MainScreenAppear  7416695313311560658       1564053102    246   \n",
              "2  PaymentScreenSuccessful  3518123091307005509       1564054127    248   \n",
              "3         CartScreenAppear  3518123091307005509       1564054127    248   \n",
              "4  PaymentScreenSuccessful  6217807653094995999       1564055322    248   \n",
              "\n",
              "           event_time  event_date  \n",
              "0 2019-07-25 04:43:36  2019-07-25  \n",
              "1 2019-07-25 11:11:42  2019-07-25  \n",
              "2 2019-07-25 11:28:47  2019-07-25  \n",
              "3 2019-07-25 11:28:47  2019-07-25  \n",
              "4 2019-07-25 11:48:42  2019-07-25  "
            ],
            "text/html": [
              "\n",
              "  <div id=\"df-43551df0-d9cb-459a-959c-ea7d11d2cc87\">\n",
              "    <div class=\"colab-df-container\">\n",
              "      <div>\n",
              "<style scoped>\n",
              "    .dataframe tbody tr th:only-of-type {\n",
              "        vertical-align: middle;\n",
              "    }\n",
              "\n",
              "    .dataframe tbody tr th {\n",
              "        vertical-align: top;\n",
              "    }\n",
              "\n",
              "    .dataframe thead th {\n",
              "        text-align: right;\n",
              "    }\n",
              "</style>\n",
              "<table border=\"1\" class=\"dataframe\">\n",
              "  <thead>\n",
              "    <tr style=\"text-align: right;\">\n",
              "      <th></th>\n",
              "      <th>event_name</th>\n",
              "      <th>user_id</th>\n",
              "      <th>event_timestamp</th>\n",
              "      <th>group</th>\n",
              "      <th>event_time</th>\n",
              "      <th>event_date</th>\n",
              "    </tr>\n",
              "  </thead>\n",
              "  <tbody>\n",
              "    <tr>\n",
              "      <th>0</th>\n",
              "      <td>MainScreenAppear</td>\n",
              "      <td>4575588528974610257</td>\n",
              "      <td>1564029816</td>\n",
              "      <td>246</td>\n",
              "      <td>2019-07-25 04:43:36</td>\n",
              "      <td>2019-07-25</td>\n",
              "    </tr>\n",
              "    <tr>\n",
              "      <th>1</th>\n",
              "      <td>MainScreenAppear</td>\n",
              "      <td>7416695313311560658</td>\n",
              "      <td>1564053102</td>\n",
              "      <td>246</td>\n",
              "      <td>2019-07-25 11:11:42</td>\n",
              "      <td>2019-07-25</td>\n",
              "    </tr>\n",
              "    <tr>\n",
              "      <th>2</th>\n",
              "      <td>PaymentScreenSuccessful</td>\n",
              "      <td>3518123091307005509</td>\n",
              "      <td>1564054127</td>\n",
              "      <td>248</td>\n",
              "      <td>2019-07-25 11:28:47</td>\n",
              "      <td>2019-07-25</td>\n",
              "    </tr>\n",
              "    <tr>\n",
              "      <th>3</th>\n",
              "      <td>CartScreenAppear</td>\n",
              "      <td>3518123091307005509</td>\n",
              "      <td>1564054127</td>\n",
              "      <td>248</td>\n",
              "      <td>2019-07-25 11:28:47</td>\n",
              "      <td>2019-07-25</td>\n",
              "    </tr>\n",
              "    <tr>\n",
              "      <th>4</th>\n",
              "      <td>PaymentScreenSuccessful</td>\n",
              "      <td>6217807653094995999</td>\n",
              "      <td>1564055322</td>\n",
              "      <td>248</td>\n",
              "      <td>2019-07-25 11:48:42</td>\n",
              "      <td>2019-07-25</td>\n",
              "    </tr>\n",
              "  </tbody>\n",
              "</table>\n",
              "</div>\n",
              "      <button class=\"colab-df-convert\" onclick=\"convertToInteractive('df-43551df0-d9cb-459a-959c-ea7d11d2cc87')\"\n",
              "              title=\"Convert this dataframe to an interactive table.\"\n",
              "              style=\"display:none;\">\n",
              "        \n",
              "  <svg xmlns=\"http://www.w3.org/2000/svg\" height=\"24px\"viewBox=\"0 0 24 24\"\n",
              "       width=\"24px\">\n",
              "    <path d=\"M0 0h24v24H0V0z\" fill=\"none\"/>\n",
              "    <path d=\"M18.56 5.44l.94 2.06.94-2.06 2.06-.94-2.06-.94-.94-2.06-.94 2.06-2.06.94zm-11 1L8.5 8.5l.94-2.06 2.06-.94-2.06-.94L8.5 2.5l-.94 2.06-2.06.94zm10 10l.94 2.06.94-2.06 2.06-.94-2.06-.94-.94-2.06-.94 2.06-2.06.94z\"/><path d=\"M17.41 7.96l-1.37-1.37c-.4-.4-.92-.59-1.43-.59-.52 0-1.04.2-1.43.59L10.3 9.45l-7.72 7.72c-.78.78-.78 2.05 0 2.83L4 21.41c.39.39.9.59 1.41.59.51 0 1.02-.2 1.41-.59l7.78-7.78 2.81-2.81c.8-.78.8-2.07 0-2.86zM5.41 20L4 18.59l7.72-7.72 1.47 1.35L5.41 20z\"/>\n",
              "  </svg>\n",
              "      </button>\n",
              "      \n",
              "  <style>\n",
              "    .colab-df-container {\n",
              "      display:flex;\n",
              "      flex-wrap:wrap;\n",
              "      gap: 12px;\n",
              "    }\n",
              "\n",
              "    .colab-df-convert {\n",
              "      background-color: #E8F0FE;\n",
              "      border: none;\n",
              "      border-radius: 50%;\n",
              "      cursor: pointer;\n",
              "      display: none;\n",
              "      fill: #1967D2;\n",
              "      height: 32px;\n",
              "      padding: 0 0 0 0;\n",
              "      width: 32px;\n",
              "    }\n",
              "\n",
              "    .colab-df-convert:hover {\n",
              "      background-color: #E2EBFA;\n",
              "      box-shadow: 0px 1px 2px rgba(60, 64, 67, 0.3), 0px 1px 3px 1px rgba(60, 64, 67, 0.15);\n",
              "      fill: #174EA6;\n",
              "    }\n",
              "\n",
              "    [theme=dark] .colab-df-convert {\n",
              "      background-color: #3B4455;\n",
              "      fill: #D2E3FC;\n",
              "    }\n",
              "\n",
              "    [theme=dark] .colab-df-convert:hover {\n",
              "      background-color: #434B5C;\n",
              "      box-shadow: 0px 1px 3px 1px rgba(0, 0, 0, 0.15);\n",
              "      filter: drop-shadow(0px 1px 2px rgba(0, 0, 0, 0.3));\n",
              "      fill: #FFFFFF;\n",
              "    }\n",
              "  </style>\n",
              "\n",
              "      <script>\n",
              "        const buttonEl =\n",
              "          document.querySelector('#df-43551df0-d9cb-459a-959c-ea7d11d2cc87 button.colab-df-convert');\n",
              "        buttonEl.style.display =\n",
              "          google.colab.kernel.accessAllowed ? 'block' : 'none';\n",
              "\n",
              "        async function convertToInteractive(key) {\n",
              "          const element = document.querySelector('#df-43551df0-d9cb-459a-959c-ea7d11d2cc87');\n",
              "          const dataTable =\n",
              "            await google.colab.kernel.invokeFunction('convertToInteractive',\n",
              "                                                     [key], {});\n",
              "          if (!dataTable) return;\n",
              "\n",
              "          const docLinkHtml = 'Like what you see? Visit the ' +\n",
              "            '<a target=\"_blank\" href=https://colab.research.google.com/notebooks/data_table.ipynb>data table notebook</a>'\n",
              "            + ' to learn more about interactive tables.';\n",
              "          element.innerHTML = '';\n",
              "          dataTable['output_type'] = 'display_data';\n",
              "          await google.colab.output.renderOutput(dataTable, element);\n",
              "          const docLink = document.createElement('div');\n",
              "          docLink.innerHTML = docLinkHtml;\n",
              "          element.appendChild(docLink);\n",
              "        }\n",
              "      </script>\n",
              "    </div>\n",
              "  </div>\n",
              "  "
            ]
          },
          "metadata": {},
          "execution_count": 9
        }
      ],
      "source": [
        "df.head()"
      ]
    },
    {
      "cell_type": "markdown",
      "metadata": {
        "id": "ITwCAPOXN89Y"
      },
      "source": [
        "Исследуемая таблица содержит 244126 строк без пропущенных значений, но с 413 строками-дубликатами. Названия столбцов не приведены к нижнему регистру, столбец с датой имеет целочисленный формат. Устранили эти недочеты."
      ]
    },
    {
      "cell_type": "markdown",
      "metadata": {
        "id": "qUuYx8tUajWY"
      },
      "source": [
        "# Шаг 3. Изучите и проверьте данные  \n",
        "1) Сколько всего событий в логе?"
      ]
    },
    {
      "cell_type": "markdown",
      "metadata": {
        "id": "C6GZRw5FeCFB"
      },
      "source": [
        "Посчитаем логи — данные сервера о посещениях и действиях пользователей на сайте или в приложении."
      ]
    },
    {
      "cell_type": "code",
      "execution_count": 10,
      "metadata": {
        "colab": {
          "base_uri": "https://localhost:8080/"
        },
        "id": "BASYwzZtdsTI",
        "outputId": "7ad80362-b445-493d-acc9-17c7e75402b0"
      },
      "outputs": [
        {
          "output_type": "stream",
          "name": "stdout",
          "text": [
            "Событий в логе: 243713\n"
          ]
        }
      ],
      "source": [
        "events_count = df.shape[0]\n",
        "print('Событий в логе:', events_count)"
      ]
    },
    {
      "cell_type": "markdown",
      "metadata": {
        "id": "SpQwzH2rbask"
      },
      "source": [
        "2) Сколько всего пользователей в логе?"
      ]
    },
    {
      "cell_type": "code",
      "execution_count": 11,
      "metadata": {
        "colab": {
          "base_uri": "https://localhost:8080/"
        },
        "id": "WB_5TO3ofchd",
        "outputId": "234a846e-c1d5-4ff4-d407-04e716ff47a8"
      },
      "outputs": [
        {
          "output_type": "stream",
          "name": "stdout",
          "text": [
            "Пользователей в логе: 7551\n"
          ]
        }
      ],
      "source": [
        "users_count = df['user_id'].nunique()\n",
        "print('Пользователей в логе:', users_count)"
      ]
    },
    {
      "cell_type": "markdown",
      "metadata": {
        "id": "lWbI-lxTbcq5"
      },
      "source": [
        "3) Сколько в среднем событий приходится на пользователя?"
      ]
    },
    {
      "cell_type": "markdown",
      "metadata": {
        "id": "4YeRr6bxsgel"
      },
      "source": [
        "Поскольку в данных могут присутствовать аномальные значения, которые сильно исказят реальный результат, найдем среднее и медианное значения:"
      ]
    },
    {
      "cell_type": "code",
      "execution_count": 12,
      "metadata": {
        "colab": {
          "base_uri": "https://localhost:8080/"
        },
        "id": "6Uhs6XF_iT34",
        "outputId": "e1e4c0b5-b044-4c8c-c608-a3a363fb7967"
      },
      "outputs": [
        {
          "output_type": "stream",
          "name": "stdout",
          "text": [
            "Медианное число событий на пользователя: 20\n",
            "Среднее число событий на пользователя: 32\n"
          ]
        }
      ],
      "source": [
        "events_avg = df.groupby('user_id').agg({'event_name': 'count'})\n",
        "print('Медианное число событий на пользователя:', round((events_avg['event_name'].median())))\n",
        "print('Среднее число событий на пользователя:', round((events_avg['event_name'].mean())))"
      ]
    },
    {
      "cell_type": "code",
      "source": [
        "events_avg['event_name'].hist().set_title('Число событий на пользователя')\n",
        "plt.xlabel(\"Число событий\")\n",
        "plt.show()"
      ],
      "metadata": {
        "colab": {
          "base_uri": "https://localhost:8080/",
          "height": 295
        },
        "id": "ZEiy4NFNP4Eq",
        "outputId": "d1eb4a45-9f3e-41db-8c28-cfbce67e9aae"
      },
      "execution_count": 13,
      "outputs": [
        {
          "output_type": "display_data",
          "data": {
            "text/plain": [
              "<Figure size 432x288 with 1 Axes>"
            ],
            "image/png": "[encoded data removed]"
          },
          "metadata": {
            "needs_background": "light"
          }
        }
      ]
    },
    {
      "cell_type": "code",
      "source": [
        "events_avg.query('event_name < 80')['event_name'].hist().set_title('Число событий на пользователя')\n",
        "plt.xlabel(\"Число событий\")\n",
        "plt.show()"
      ],
      "metadata": {
        "colab": {
          "base_uri": "https://localhost:8080/",
          "height": 295
        },
        "id": "QdCBKotLQSdE",
        "outputId": "16a44f93-c4f2-4ae5-959a-29d1feb858aa"
      },
      "execution_count": 14,
      "outputs": [
        {
          "output_type": "display_data",
          "data": {
            "text/plain": [
              "<Figure size 432x288 with 1 Axes>"
            ],
            "image/png": "[encoded data removed]"
          },
          "metadata": {
            "needs_background": "light"
          }
        }
      ]
    },
    {
      "cell_type": "markdown",
      "metadata": {
        "id": "e7b1uCgKN89a"
      },
      "source": [
        "По гистограмме также можно отметить, что с ростом числа событий на пользователя уменьшается их количество, на большинство пользователей приходится до 32 событий, при этом число пользователей с количеством событий до 20 много больше."
      ]
    },
    {
      "cell_type": "markdown",
      "metadata": {
        "id": "8SGWQ0mUbg6J"
      },
      "source": [
        "4) Данными за какой период вы располагаете? Найдите максимальную и минимальную дату. Постройте гистограмму по дате и времени. Можно ли быть уверенным, что у вас одинаково полные данные за весь период? Технически в логи новых дней по некоторым пользователям могут «доезжать» события из прошлого — это может «перекашивать данные». Определите, с какого момента данные полные и отбросьте более старые. Данными за какой период времени вы располагаете на самом деле?"
      ]
    },
    {
      "cell_type": "code",
      "execution_count": 15,
      "metadata": {
        "colab": {
          "base_uri": "https://localhost:8080/"
        },
        "id": "0PrvWQpWjuw8",
        "outputId": "3bc378d5-ac29-4b27-be70-be20f45f1f71"
      },
      "outputs": [
        {
          "output_type": "stream",
          "name": "stdout",
          "text": [
            "Минимальная дата: 2019-07-25\n",
            "Максимальная дата: 2019-08-07\n"
          ]
        }
      ],
      "source": [
        "min_date = min(df['event_date'])\n",
        "max_date = max(df['event_date'])\n",
        "print('Минимальная дата:', min_date)\n",
        "print('Максимальная дата:', max_date)"
      ]
    },
    {
      "cell_type": "markdown",
      "metadata": {
        "id": "b_AiOiWOj8mA"
      },
      "source": [
        "Располагаем данными за период с 25 июля 2019 года по 7 августа 2019 года."
      ]
    },
    {
      "cell_type": "code",
      "execution_count": 16,
      "metadata": {
        "colab": {
          "base_uri": "https://localhost:8080/",
          "height": 388
        },
        "id": "iwI0OQphkkHX",
        "outputId": "7c488411-a5de-4db4-e77a-f36d5a566414"
      },
      "outputs": [
        {
          "output_type": "display_data",
          "data": {
            "text/plain": [
              "<Figure size 1008x360 with 1 Axes>"
            ],
            "image/png": "[encoded data removed]"
          },
          "metadata": {
            "needs_background": "light"
          }
        }
      ],
      "source": [
        "df['event_time'].hist(bins=14*24, figsize=(14, 5))\n",
        "plt.xlabel('Дата')\n",
        "plt.xticks(rotation=45)\n",
        "plt.title('Гистограмма по дате и времени');"
      ]
    },
    {
      "cell_type": "markdown",
      "metadata": {
        "id": "aRWVioLLrp47"
      },
      "source": [
        "Судя по гистограмме, располагаем в полной мере данными с 1 августа 2019 года, отбросим более старые:"
      ]
    },
    {
      "cell_type": "code",
      "execution_count": 17,
      "metadata": {
        "id": "aalPNA6_r-AI"
      },
      "outputs": [],
      "source": [
        "df_new = df.query('event_time >= \"2019/08/01\"')"
      ]
    },
    {
      "cell_type": "markdown",
      "metadata": {
        "id": "-wzIh8fBbhIa"
      },
      "source": [
        "5) Много ли событий и пользователей вы потеряли, отбросив старые данные?"
      ]
    },
    {
      "cell_type": "code",
      "execution_count": 18,
      "metadata": {
        "colab": {
          "base_uri": "https://localhost:8080/"
        },
        "id": "ERwUQwQEv_2I",
        "outputId": "a91eef35-160e-42a1-9ce5-31623e3c7627"
      },
      "outputs": [
        {
          "output_type": "stream",
          "name": "stdout",
          "text": [
            "Доля потерянных пользователей: 0.23\n",
            "Количество потерянных пользователей: 17\n",
            " \n",
            "Доля потерянных событий: 1.16\n",
            "Количество потерянных событий: 2826\n"
          ]
        }
      ],
      "source": [
        "print('Доля потерянных пользователей:',round((1 - df_new['user_id'].nunique() /df['user_id'].nunique()) * 100, 2))\n",
        "print('Количество потерянных пользователей:', df['user_id'].nunique() - df_new['user_id'].nunique())\n",
        "print(' ')\n",
        "print('Доля потерянных событий:',round((1 - df_new['event_name'].count() /df['event_name'].count()) * 100, 2))\n",
        "print('Количество потерянных событий:', df['event_name'].count() - df_new['event_name'].count())"
      ]
    },
    {
      "cell_type": "markdown",
      "metadata": {
        "id": "9Gno2rVybmEJ"
      },
      "source": [
        "6) Проверьте, что у вас есть пользователи из всех трёх экспериментальных групп."
      ]
    },
    {
      "cell_type": "code",
      "execution_count": 19,
      "metadata": {
        "colab": {
          "base_uri": "https://localhost:8080/",
          "height": 175
        },
        "id": "_AqEBFxxxCSD",
        "outputId": "8d3846f8-a8c4-4f74-8e9d-f9196422cdc8"
      },
      "outputs": [
        {
          "output_type": "execute_result",
          "data": {
            "text/plain": [
              "       user_id\n",
              "group         \n",
              "246       2484\n",
              "247       2513\n",
              "248       2537"
            ],
            "text/html": [
              "\n",
              "  <div id=\"df-0d908e7c-8828-4423-9127-d491871a9e48\">\n",
              "    <div class=\"colab-df-container\">\n",
              "      <div>\n",
              "<style scoped>\n",
              "    .dataframe tbody tr th:only-of-type {\n",
              "        vertical-align: middle;\n",
              "    }\n",
              "\n",
              "    .dataframe tbody tr th {\n",
              "        vertical-align: top;\n",
              "    }\n",
              "\n",
              "    .dataframe thead th {\n",
              "        text-align: right;\n",
              "    }\n",
              "</style>\n",
              "<table border=\"1\" class=\"dataframe\">\n",
              "  <thead>\n",
              "    <tr style=\"text-align: right;\">\n",
              "      <th></th>\n",
              "      <th>user_id</th>\n",
              "    </tr>\n",
              "    <tr>\n",
              "      <th>group</th>\n",
              "      <th></th>\n",
              "    </tr>\n",
              "  </thead>\n",
              "  <tbody>\n",
              "    <tr>\n",
              "      <th>246</th>\n",
              "      <td>2484</td>\n",
              "    </tr>\n",
              "    <tr>\n",
              "      <th>247</th>\n",
              "      <td>2513</td>\n",
              "    </tr>\n",
              "    <tr>\n",
              "      <th>248</th>\n",
              "      <td>2537</td>\n",
              "    </tr>\n",
              "  </tbody>\n",
              "</table>\n",
              "</div>\n",
              "      <button class=\"colab-df-convert\" onclick=\"convertToInteractive('df-0d908e7c-8828-4423-9127-d491871a9e48')\"\n",
              "              title=\"Convert this dataframe to an interactive table.\"\n",
              "              style=\"display:none;\">\n",
              "        \n",
              "  <svg xmlns=\"http://www.w3.org/2000/svg\" height=\"24px\"viewBox=\"0 0 24 24\"\n",
              "       width=\"24px\">\n",
              "    <path d=\"M0 0h24v24H0V0z\" fill=\"none\"/>\n",
              "    <path d=\"M18.56 5.44l.94 2.06.94-2.06 2.06-.94-2.06-.94-.94-2.06-.94 2.06-2.06.94zm-11 1L8.5 8.5l.94-2.06 2.06-.94-2.06-.94L8.5 2.5l-.94 2.06-2.06.94zm10 10l.94 2.06.94-2.06 2.06-.94-2.06-.94-.94-2.06-.94 2.06-2.06.94z\"/><path d=\"M17.41 7.96l-1.37-1.37c-.4-.4-.92-.59-1.43-.59-.52 0-1.04.2-1.43.59L10.3 9.45l-7.72 7.72c-.78.78-.78 2.05 0 2.83L4 21.41c.39.39.9.59 1.41.59.51 0 1.02-.2 1.41-.59l7.78-7.78 2.81-2.81c.8-.78.8-2.07 0-2.86zM5.41 20L4 18.59l7.72-7.72 1.47 1.35L5.41 20z\"/>\n",
              "  </svg>\n",
              "      </button>\n",
              "      \n",
              "  <style>\n",
              "    .colab-df-container {\n",
              "      display:flex;\n",
              "      flex-wrap:wrap;\n",
              "      gap: 12px;\n",
              "    }\n",
              "\n",
              "    .colab-df-convert {\n",
              "      background-color: #E8F0FE;\n",
              "      border: none;\n",
              "      border-radius: 50%;\n",
              "      cursor: pointer;\n",
              "      display: none;\n",
              "      fill: #1967D2;\n",
              "      height: 32px;\n",
              "      padding: 0 0 0 0;\n",
              "      width: 32px;\n",
              "    }\n",
              "\n",
              "    .colab-df-convert:hover {\n",
              "      background-color: #E2EBFA;\n",
              "      box-shadow: 0px 1px 2px rgba(60, 64, 67, 0.3), 0px 1px 3px 1px rgba(60, 64, 67, 0.15);\n",
              "      fill: #174EA6;\n",
              "    }\n",
              "\n",
              "    [theme=dark] .colab-df-convert {\n",
              "      background-color: #3B4455;\n",
              "      fill: #D2E3FC;\n",
              "    }\n",
              "\n",
              "    [theme=dark] .colab-df-convert:hover {\n",
              "      background-color: #434B5C;\n",
              "      box-shadow: 0px 1px 3px 1px rgba(0, 0, 0, 0.15);\n",
              "      filter: drop-shadow(0px 1px 2px rgba(0, 0, 0, 0.3));\n",
              "      fill: #FFFFFF;\n",
              "    }\n",
              "  </style>\n",
              "\n",
              "      <script>\n",
              "        const buttonEl =\n",
              "          document.querySelector('#df-0d908e7c-8828-4423-9127-d491871a9e48 button.colab-df-convert');\n",
              "        buttonEl.style.display =\n",
              "          google.colab.kernel.accessAllowed ? 'block' : 'none';\n",
              "\n",
              "        async function convertToInteractive(key) {\n",
              "          const element = document.querySelector('#df-0d908e7c-8828-4423-9127-d491871a9e48');\n",
              "          const dataTable =\n",
              "            await google.colab.kernel.invokeFunction('convertToInteractive',\n",
              "                                                     [key], {});\n",
              "          if (!dataTable) return;\n",
              "\n",
              "          const docLinkHtml = 'Like what you see? Visit the ' +\n",
              "            '<a target=\"_blank\" href=https://colab.research.google.com/notebooks/data_table.ipynb>data table notebook</a>'\n",
              "            + ' to learn more about interactive tables.';\n",
              "          element.innerHTML = '';\n",
              "          dataTable['output_type'] = 'display_data';\n",
              "          await google.colab.output.renderOutput(dataTable, element);\n",
              "          const docLink = document.createElement('div');\n",
              "          docLink.innerHTML = docLinkHtml;\n",
              "          element.appendChild(docLink);\n",
              "        }\n",
              "      </script>\n",
              "    </div>\n",
              "  </div>\n",
              "  "
            ]
          },
          "metadata": {},
          "execution_count": 19
        }
      ],
      "source": [
        "df = df_new\n",
        "df.groupby('group').agg({'user_id': 'nunique'})"
      ]
    },
    {
      "cell_type": "markdown",
      "metadata": {
        "id": "bKpG03OZxQrQ"
      },
      "source": [
        "В таблице есть пользователи из всех трёх экспериментальных групп."
      ]
    },
    {
      "cell_type": "markdown",
      "metadata": {
        "id": "3mpclVu9xkiC"
      },
      "source": [
        "# Шаг 4. Изучите воронку событий  \n",
        "1) Посмотрите, какие события есть в логах, как часто они встречаются. Отсортируйте события по частоте."
      ]
    },
    {
      "cell_type": "code",
      "execution_count": 20,
      "metadata": {
        "colab": {
          "base_uri": "https://localhost:8080/",
          "height": 237
        },
        "id": "4MPhnDhMyyj9",
        "outputId": "d26755bc-7414-4c02-efcc-bd2ec4b0db63"
      },
      "outputs": [
        {
          "output_type": "execute_result",
          "data": {
            "text/plain": [
              "                         user_id\n",
              "event_name                      \n",
              "MainScreenAppear          117328\n",
              "OffersScreenAppear         46333\n",
              "CartScreenAppear           42303\n",
              "PaymentScreenSuccessful    33918\n",
              "Tutorial                    1005"
            ],
            "text/html": [
              "\n",
              "  <div id=\"df-f9219c1f-fd2e-4874-9262-55c18fa97ce2\">\n",
              "    <div class=\"colab-df-container\">\n",
              "      <div>\n",
              "<style scoped>\n",
              "    .dataframe tbody tr th:only-of-type {\n",
              "        vertical-align: middle;\n",
              "    }\n",
              "\n",
              "    .dataframe tbody tr th {\n",
              "        vertical-align: top;\n",
              "    }\n",
              "\n",
              "    .dataframe thead th {\n",
              "        text-align: right;\n",
              "    }\n",
              "</style>\n",
              "<table border=\"1\" class=\"dataframe\">\n",
              "  <thead>\n",
              "    <tr style=\"text-align: right;\">\n",
              "      <th></th>\n",
              "      <th>user_id</th>\n",
              "    </tr>\n",
              "    <tr>\n",
              "      <th>event_name</th>\n",
              "      <th></th>\n",
              "    </tr>\n",
              "  </thead>\n",
              "  <tbody>\n",
              "    <tr>\n",
              "      <th>MainScreenAppear</th>\n",
              "      <td>117328</td>\n",
              "    </tr>\n",
              "    <tr>\n",
              "      <th>OffersScreenAppear</th>\n",
              "      <td>46333</td>\n",
              "    </tr>\n",
              "    <tr>\n",
              "      <th>CartScreenAppear</th>\n",
              "      <td>42303</td>\n",
              "    </tr>\n",
              "    <tr>\n",
              "      <th>PaymentScreenSuccessful</th>\n",
              "      <td>33918</td>\n",
              "    </tr>\n",
              "    <tr>\n",
              "      <th>Tutorial</th>\n",
              "      <td>1005</td>\n",
              "    </tr>\n",
              "  </tbody>\n",
              "</table>\n",
              "</div>\n",
              "      <button class=\"colab-df-convert\" onclick=\"convertToInteractive('df-f9219c1f-fd2e-4874-9262-55c18fa97ce2')\"\n",
              "              title=\"Convert this dataframe to an interactive table.\"\n",
              "              style=\"display:none;\">\n",
              "        \n",
              "  <svg xmlns=\"http://www.w3.org/2000/svg\" height=\"24px\"viewBox=\"0 0 24 24\"\n",
              "       width=\"24px\">\n",
              "    <path d=\"M0 0h24v24H0V0z\" fill=\"none\"/>\n",
              "    <path d=\"M18.56 5.44l.94 2.06.94-2.06 2.06-.94-2.06-.94-.94-2.06-.94 2.06-2.06.94zm-11 1L8.5 8.5l.94-2.06 2.06-.94-2.06-.94L8.5 2.5l-.94 2.06-2.06.94zm10 10l.94 2.06.94-2.06 2.06-.94-2.06-.94-.94-2.06-.94 2.06-2.06.94z\"/><path d=\"M17.41 7.96l-1.37-1.37c-.4-.4-.92-.59-1.43-.59-.52 0-1.04.2-1.43.59L10.3 9.45l-7.72 7.72c-.78.78-.78 2.05 0 2.83L4 21.41c.39.39.9.59 1.41.59.51 0 1.02-.2 1.41-.59l7.78-7.78 2.81-2.81c.8-.78.8-2.07 0-2.86zM5.41 20L4 18.59l7.72-7.72 1.47 1.35L5.41 20z\"/>\n",
              "  </svg>\n",
              "      </button>\n",
              "      \n",
              "  <style>\n",
              "    .colab-df-container {\n",
              "      display:flex;\n",
              "      flex-wrap:wrap;\n",
              "      gap: 12px;\n",
              "    }\n",
              "\n",
              "    .colab-df-convert {\n",
              "      background-color: #E8F0FE;\n",
              "      border: none;\n",
              "      border-radius: 50%;\n",
              "      cursor: pointer;\n",
              "      display: none;\n",
              "      fill: #1967D2;\n",
              "      height: 32px;\n",
              "      padding: 0 0 0 0;\n",
              "      width: 32px;\n",
              "    }\n",
              "\n",
              "    .colab-df-convert:hover {\n",
              "      background-color: #E2EBFA;\n",
              "      box-shadow: 0px 1px 2px rgba(60, 64, 67, 0.3), 0px 1px 3px 1px rgba(60, 64, 67, 0.15);\n",
              "      fill: #174EA6;\n",
              "    }\n",
              "\n",
              "    [theme=dark] .colab-df-convert {\n",
              "      background-color: #3B4455;\n",
              "      fill: #D2E3FC;\n",
              "    }\n",
              "\n",
              "    [theme=dark] .colab-df-convert:hover {\n",
              "      background-color: #434B5C;\n",
              "      box-shadow: 0px 1px 3px 1px rgba(0, 0, 0, 0.15);\n",
              "      filter: drop-shadow(0px 1px 2px rgba(0, 0, 0, 0.3));\n",
              "      fill: #FFFFFF;\n",
              "    }\n",
              "  </style>\n",
              "\n",
              "      <script>\n",
              "        const buttonEl =\n",
              "          document.querySelector('#df-f9219c1f-fd2e-4874-9262-55c18fa97ce2 button.colab-df-convert');\n",
              "        buttonEl.style.display =\n",
              "          google.colab.kernel.accessAllowed ? 'block' : 'none';\n",
              "\n",
              "        async function convertToInteractive(key) {\n",
              "          const element = document.querySelector('#df-f9219c1f-fd2e-4874-9262-55c18fa97ce2');\n",
              "          const dataTable =\n",
              "            await google.colab.kernel.invokeFunction('convertToInteractive',\n",
              "                                                     [key], {});\n",
              "          if (!dataTable) return;\n",
              "\n",
              "          const docLinkHtml = 'Like what you see? Visit the ' +\n",
              "            '<a target=\"_blank\" href=https://colab.research.google.com/notebooks/data_table.ipynb>data table notebook</a>'\n",
              "            + ' to learn more about interactive tables.';\n",
              "          element.innerHTML = '';\n",
              "          dataTable['output_type'] = 'display_data';\n",
              "          await google.colab.output.renderOutput(dataTable, element);\n",
              "          const docLink = document.createElement('div');\n",
              "          docLink.innerHTML = docLinkHtml;\n",
              "          element.appendChild(docLink);\n",
              "        }\n",
              "      </script>\n",
              "    </div>\n",
              "  </div>\n",
              "  "
            ]
          },
          "metadata": {},
          "execution_count": 20
        }
      ],
      "source": [
        "df.groupby('event_name').agg({'user_id': 'count'}).sort_values(by='user_id', ascending=False)"
      ]
    },
    {
      "cell_type": "markdown",
      "metadata": {
        "id": "mxtUJwVl0ZS1"
      },
      "source": [
        "В логах имеется 5 событий.  \n",
        "Самое часто встречаемое событие, очевидно, MainScreenAppear - появление главного экрана приложения. Далее событие OffersScreenAppear - появление экрана с предложениями, чуть меньше пользователей доходят до CartScreenAppear - экрана корзины, еще меньше до окна PaymentScreenSuccessful - успешной оплаты. Совсем немного пользователей заходят в раздел Tutorial - руководства. "
      ]
    },
    {
      "cell_type": "markdown",
      "metadata": {
        "id": "XR8jAvOwydC3"
      },
      "source": [
        "2) Посчитайте, сколько пользователей совершали каждое из этих событий. Отсортируйте события по числу пользователей. Посчитайте долю пользователей, которые хоть раз совершали событие."
      ]
    },
    {
      "cell_type": "code",
      "execution_count": 21,
      "metadata": {
        "colab": {
          "base_uri": "https://localhost:8080/",
          "height": 206
        },
        "id": "DJyfCB4Y6XxC",
        "outputId": "cf4ced05-231f-45a8-8263-1aeeee34ab0d"
      },
      "outputs": [
        {
          "output_type": "execute_result",
          "data": {
            "text/plain": [
              "                event_name  user_id  users_share\n",
              "0         MainScreenAppear     7419        98.47\n",
              "1       OffersScreenAppear     4593        60.96\n",
              "2         CartScreenAppear     3734        49.56\n",
              "3  PaymentScreenSuccessful     3539        46.97\n",
              "4                 Tutorial      840        11.15"
            ],
            "text/html": [
              "\n",
              "  <div id=\"df-0725ca7c-adfc-4150-a864-a47e670f85bb\">\n",
              "    <div class=\"colab-df-container\">\n",
              "      <div>\n",
              "<style scoped>\n",
              "    .dataframe tbody tr th:only-of-type {\n",
              "        vertical-align: middle;\n",
              "    }\n",
              "\n",
              "    .dataframe tbody tr th {\n",
              "        vertical-align: top;\n",
              "    }\n",
              "\n",
              "    .dataframe thead th {\n",
              "        text-align: right;\n",
              "    }\n",
              "</style>\n",
              "<table border=\"1\" class=\"dataframe\">\n",
              "  <thead>\n",
              "    <tr style=\"text-align: right;\">\n",
              "      <th></th>\n",
              "      <th>event_name</th>\n",
              "      <th>user_id</th>\n",
              "      <th>users_share</th>\n",
              "    </tr>\n",
              "  </thead>\n",
              "  <tbody>\n",
              "    <tr>\n",
              "      <th>0</th>\n",
              "      <td>MainScreenAppear</td>\n",
              "      <td>7419</td>\n",
              "      <td>98.47</td>\n",
              "    </tr>\n",
              "    <tr>\n",
              "      <th>1</th>\n",
              "      <td>OffersScreenAppear</td>\n",
              "      <td>4593</td>\n",
              "      <td>60.96</td>\n",
              "    </tr>\n",
              "    <tr>\n",
              "      <th>2</th>\n",
              "      <td>CartScreenAppear</td>\n",
              "      <td>3734</td>\n",
              "      <td>49.56</td>\n",
              "    </tr>\n",
              "    <tr>\n",
              "      <th>3</th>\n",
              "      <td>PaymentScreenSuccessful</td>\n",
              "      <td>3539</td>\n",
              "      <td>46.97</td>\n",
              "    </tr>\n",
              "    <tr>\n",
              "      <th>4</th>\n",
              "      <td>Tutorial</td>\n",
              "      <td>840</td>\n",
              "      <td>11.15</td>\n",
              "    </tr>\n",
              "  </tbody>\n",
              "</table>\n",
              "</div>\n",
              "      <button class=\"colab-df-convert\" onclick=\"convertToInteractive('df-0725ca7c-adfc-4150-a864-a47e670f85bb')\"\n",
              "              title=\"Convert this dataframe to an interactive table.\"\n",
              "              style=\"display:none;\">\n",
              "        \n",
              "  <svg xmlns=\"http://www.w3.org/2000/svg\" height=\"24px\"viewBox=\"0 0 24 24\"\n",
              "       width=\"24px\">\n",
              "    <path d=\"M0 0h24v24H0V0z\" fill=\"none\"/>\n",
              "    <path d=\"M18.56 5.44l.94 2.06.94-2.06 2.06-.94-2.06-.94-.94-2.06-.94 2.06-2.06.94zm-11 1L8.5 8.5l.94-2.06 2.06-.94-2.06-.94L8.5 2.5l-.94 2.06-2.06.94zm10 10l.94 2.06.94-2.06 2.06-.94-2.06-.94-.94-2.06-.94 2.06-2.06.94z\"/><path d=\"M17.41 7.96l-1.37-1.37c-.4-.4-.92-.59-1.43-.59-.52 0-1.04.2-1.43.59L10.3 9.45l-7.72 7.72c-.78.78-.78 2.05 0 2.83L4 21.41c.39.39.9.59 1.41.59.51 0 1.02-.2 1.41-.59l7.78-7.78 2.81-2.81c.8-.78.8-2.07 0-2.86zM5.41 20L4 18.59l7.72-7.72 1.47 1.35L5.41 20z\"/>\n",
              "  </svg>\n",
              "      </button>\n",
              "      \n",
              "  <style>\n",
              "    .colab-df-container {\n",
              "      display:flex;\n",
              "      flex-wrap:wrap;\n",
              "      gap: 12px;\n",
              "    }\n",
              "\n",
              "    .colab-df-convert {\n",
              "      background-color: #E8F0FE;\n",
              "      border: none;\n",
              "      border-radius: 50%;\n",
              "      cursor: pointer;\n",
              "      display: none;\n",
              "      fill: #1967D2;\n",
              "      height: 32px;\n",
              "      padding: 0 0 0 0;\n",
              "      width: 32px;\n",
              "    }\n",
              "\n",
              "    .colab-df-convert:hover {\n",
              "      background-color: #E2EBFA;\n",
              "      box-shadow: 0px 1px 2px rgba(60, 64, 67, 0.3), 0px 1px 3px 1px rgba(60, 64, 67, 0.15);\n",
              "      fill: #174EA6;\n",
              "    }\n",
              "\n",
              "    [theme=dark] .colab-df-convert {\n",
              "      background-color: #3B4455;\n",
              "      fill: #D2E3FC;\n",
              "    }\n",
              "\n",
              "    [theme=dark] .colab-df-convert:hover {\n",
              "      background-color: #434B5C;\n",
              "      box-shadow: 0px 1px 3px 1px rgba(0, 0, 0, 0.15);\n",
              "      filter: drop-shadow(0px 1px 2px rgba(0, 0, 0, 0.3));\n",
              "      fill: #FFFFFF;\n",
              "    }\n",
              "  </style>\n",
              "\n",
              "      <script>\n",
              "        const buttonEl =\n",
              "          document.querySelector('#df-0725ca7c-adfc-4150-a864-a47e670f85bb button.colab-df-convert');\n",
              "        buttonEl.style.display =\n",
              "          google.colab.kernel.accessAllowed ? 'block' : 'none';\n",
              "\n",
              "        async function convertToInteractive(key) {\n",
              "          const element = document.querySelector('#df-0725ca7c-adfc-4150-a864-a47e670f85bb');\n",
              "          const dataTable =\n",
              "            await google.colab.kernel.invokeFunction('convertToInteractive',\n",
              "                                                     [key], {});\n",
              "          if (!dataTable) return;\n",
              "\n",
              "          const docLinkHtml = 'Like what you see? Visit the ' +\n",
              "            '<a target=\"_blank\" href=https://colab.research.google.com/notebooks/data_table.ipynb>data table notebook</a>'\n",
              "            + ' to learn more about interactive tables.';\n",
              "          element.innerHTML = '';\n",
              "          dataTable['output_type'] = 'display_data';\n",
              "          await google.colab.output.renderOutput(dataTable, element);\n",
              "          const docLink = document.createElement('div');\n",
              "          docLink.innerHTML = docLinkHtml;\n",
              "          element.appendChild(docLink);\n",
              "        }\n",
              "      </script>\n",
              "    </div>\n",
              "  </div>\n",
              "  "
            ]
          },
          "metadata": {},
          "execution_count": 21
        }
      ],
      "source": [
        "events_share = df.groupby('event_name').agg({'user_id':'nunique'})\n",
        "events_share['users_share'] = round((events_share['user_id'] / df['user_id'].nunique() * 100), 2)\n",
        "logs_funnel = events_share.sort_values(by='user_id', ascending=False).reset_index()\n",
        "logs_funnel"
      ]
    },
    {
      "cell_type": "markdown",
      "metadata": {
        "id": "nHALFeZO2pBK"
      },
      "source": [
        "Главный экран посетили 98,47% пользователей (остальные 1,53% могли переходить, например, из поисковой строки, из рассылки, из пуша), на странице с рекомендациями много меньше - 60,96%. Добавили товар в корзину 49,56% пользователей, а оплатили - 46,97%. Инструкции смотрело всего 11,15% пользователей."
      ]
    },
    {
      "cell_type": "markdown",
      "metadata": {
        "id": "u7Sm8AyHyfWA"
      },
      "source": [
        "3) Предположите, в каком порядке происходят события. Все ли они выстраиваются в последовательную цепочку? Их не нужно учитывать при расчёте воронки."
      ]
    },
    {
      "cell_type": "markdown",
      "metadata": {
        "id": "5HjXrr5G4pry"
      },
      "source": [
        "Первые четыре события выше выстраиваются в последовательную цепочку - сначала пользователь заходит на главную страницу, затем получает персональные предложения, переходит в корзину и оплачивает заказ. Получать рекомендации человек может в любой момент цепочки, потому из дальнейшего анализа это событие исключим:"
      ]
    },
    {
      "cell_type": "code",
      "execution_count": 22,
      "metadata": {
        "id": "4l_bq8MiDvMB"
      },
      "outputs": [],
      "source": [
        "logs_funnel = logs_funnel.query('event_name != \"Tutorial\"')\n",
        "df = df.query('event_name != \"Tutorial\"')"
      ]
    },
    {
      "cell_type": "markdown",
      "metadata": {
        "id": "SdcgErEUyh33"
      },
      "source": [
        "4) По воронке событий посчитайте, какая доля пользователей проходит на следующий шаг воронки (от числа пользователей на предыдущем). То есть для последовательности событий A → B → C посчитайте отношение числа пользователей с событием B к количеству пользователей с событием A, а также отношение числа пользователей с событием C к количеству пользователей с событием B."
      ]
    },
    {
      "cell_type": "code",
      "execution_count": 23,
      "metadata": {
        "colab": {
          "base_uri": "https://localhost:8080/",
          "height": 393
        },
        "id": "y_8kkPLLERDa",
        "outputId": "498dca5b-e654-465b-971e-02fc5212720f"
      },
      "outputs": [
        {
          "output_type": "stream",
          "name": "stderr",
          "text": [
            "<ipython-input-23-f19a04374484>:1: SettingWithCopyWarning: \n",
            "A value is trying to be set on a copy of a slice from a DataFrame.\n",
            "Try using .loc[row_indexer,col_indexer] = value instead\n",
            "\n",
            "See the caveats in the documentation: https://pandas.pydata.org/pandas-docs/stable/user_guide/indexing.html#returning-a-view-versus-a-copy\n",
            "  logs_funnel['conversion'] = round((logs_funnel['user_id'] / logs_funnel['user_id'].shift() * 100),2)\n",
            "<ipython-input-23-f19a04374484>:2: SettingWithCopyWarning: \n",
            "A value is trying to be set on a copy of a slice from a DataFrame.\n",
            "Try using .loc[row_indexer,col_indexer] = value instead\n",
            "\n",
            "See the caveats in the documentation: https://pandas.pydata.org/pandas-docs/stable/user_guide/indexing.html#returning-a-view-versus-a-copy\n",
            "  logs_funnel['loss_users'] = 100 - logs_funnel['conversion']\n"
          ]
        },
        {
          "output_type": "execute_result",
          "data": {
            "text/plain": [
              "                event_name  user_id  users_share  conversion  loss_users\n",
              "0         MainScreenAppear     7419        98.47         NaN         NaN\n",
              "1       OffersScreenAppear     4593        60.96       61.91       38.09\n",
              "2         CartScreenAppear     3734        49.56       81.30       18.70\n",
              "3  PaymentScreenSuccessful     3539        46.97       94.78        5.22"
            ],
            "text/html": [
              "\n",
              "  <div id=\"df-96c5f620-078a-44c6-977f-cbabedc85d2d\">\n",
              "    <div class=\"colab-df-container\">\n",
              "      <div>\n",
              "<style scoped>\n",
              "    .dataframe tbody tr th:only-of-type {\n",
              "        vertical-align: middle;\n",
              "    }\n",
              "\n",
              "    .dataframe tbody tr th {\n",
              "        vertical-align: top;\n",
              "    }\n",
              "\n",
              "    .dataframe thead th {\n",
              "        text-align: right;\n",
              "    }\n",
              "</style>\n",
              "<table border=\"1\" class=\"dataframe\">\n",
              "  <thead>\n",
              "    <tr style=\"text-align: right;\">\n",
              "      <th></th>\n",
              "      <th>event_name</th>\n",
              "      <th>user_id</th>\n",
              "      <th>users_share</th>\n",
              "      <th>conversion</th>\n",
              "      <th>loss_users</th>\n",
              "    </tr>\n",
              "  </thead>\n",
              "  <tbody>\n",
              "    <tr>\n",
              "      <th>0</th>\n",
              "      <td>MainScreenAppear</td>\n",
              "      <td>7419</td>\n",
              "      <td>98.47</td>\n",
              "      <td>NaN</td>\n",
              "      <td>NaN</td>\n",
              "    </tr>\n",
              "    <tr>\n",
              "      <th>1</th>\n",
              "      <td>OffersScreenAppear</td>\n",
              "      <td>4593</td>\n",
              "      <td>60.96</td>\n",
              "      <td>61.91</td>\n",
              "      <td>38.09</td>\n",
              "    </tr>\n",
              "    <tr>\n",
              "      <th>2</th>\n",
              "      <td>CartScreenAppear</td>\n",
              "      <td>3734</td>\n",
              "      <td>49.56</td>\n",
              "      <td>81.30</td>\n",
              "      <td>18.70</td>\n",
              "    </tr>\n",
              "    <tr>\n",
              "      <th>3</th>\n",
              "      <td>PaymentScreenSuccessful</td>\n",
              "      <td>3539</td>\n",
              "      <td>46.97</td>\n",
              "      <td>94.78</td>\n",
              "      <td>5.22</td>\n",
              "    </tr>\n",
              "  </tbody>\n",
              "</table>\n",
              "</div>\n",
              "      <button class=\"colab-df-convert\" onclick=\"convertToInteractive('df-96c5f620-078a-44c6-977f-cbabedc85d2d')\"\n",
              "              title=\"Convert this dataframe to an interactive table.\"\n",
              "              style=\"display:none;\">\n",
              "        \n",
              "  <svg xmlns=\"http://www.w3.org/2000/svg\" height=\"24px\"viewBox=\"0 0 24 24\"\n",
              "       width=\"24px\">\n",
              "    <path d=\"M0 0h24v24H0V0z\" fill=\"none\"/>\n",
              "    <path d=\"M18.56 5.44l.94 2.06.94-2.06 2.06-.94-2.06-.94-.94-2.06-.94 2.06-2.06.94zm-11 1L8.5 8.5l.94-2.06 2.06-.94-2.06-.94L8.5 2.5l-.94 2.06-2.06.94zm10 10l.94 2.06.94-2.06 2.06-.94-2.06-.94-.94-2.06-.94 2.06-2.06.94z\"/><path d=\"M17.41 7.96l-1.37-1.37c-.4-.4-.92-.59-1.43-.59-.52 0-1.04.2-1.43.59L10.3 9.45l-7.72 7.72c-.78.78-.78 2.05 0 2.83L4 21.41c.39.39.9.59 1.41.59.51 0 1.02-.2 1.41-.59l7.78-7.78 2.81-2.81c.8-.78.8-2.07 0-2.86zM5.41 20L4 18.59l7.72-7.72 1.47 1.35L5.41 20z\"/>\n",
              "  </svg>\n",
              "      </button>\n",
              "      \n",
              "  <style>\n",
              "    .colab-df-container {\n",
              "      display:flex;\n",
              "      flex-wrap:wrap;\n",
              "      gap: 12px;\n",
              "    }\n",
              "\n",
              "    .colab-df-convert {\n",
              "      background-color: #E8F0FE;\n",
              "      border: none;\n",
              "      border-radius: 50%;\n",
              "      cursor: pointer;\n",
              "      display: none;\n",
              "      fill: #1967D2;\n",
              "      height: 32px;\n",
              "      padding: 0 0 0 0;\n",
              "      width: 32px;\n",
              "    }\n",
              "\n",
              "    .colab-df-convert:hover {\n",
              "      background-color: #E2EBFA;\n",
              "      box-shadow: 0px 1px 2px rgba(60, 64, 67, 0.3), 0px 1px 3px 1px rgba(60, 64, 67, 0.15);\n",
              "      fill: #174EA6;\n",
              "    }\n",
              "\n",
              "    [theme=dark] .colab-df-convert {\n",
              "      background-color: #3B4455;\n",
              "      fill: #D2E3FC;\n",
              "    }\n",
              "\n",
              "    [theme=dark] .colab-df-convert:hover {\n",
              "      background-color: #434B5C;\n",
              "      box-shadow: 0px 1px 3px 1px rgba(0, 0, 0, 0.15);\n",
              "      filter: drop-shadow(0px 1px 2px rgba(0, 0, 0, 0.3));\n",
              "      fill: #FFFFFF;\n",
              "    }\n",
              "  </style>\n",
              "\n",
              "      <script>\n",
              "        const buttonEl =\n",
              "          document.querySelector('#df-96c5f620-078a-44c6-977f-cbabedc85d2d button.colab-df-convert');\n",
              "        buttonEl.style.display =\n",
              "          google.colab.kernel.accessAllowed ? 'block' : 'none';\n",
              "\n",
              "        async function convertToInteractive(key) {\n",
              "          const element = document.querySelector('#df-96c5f620-078a-44c6-977f-cbabedc85d2d');\n",
              "          const dataTable =\n",
              "            await google.colab.kernel.invokeFunction('convertToInteractive',\n",
              "                                                     [key], {});\n",
              "          if (!dataTable) return;\n",
              "\n",
              "          const docLinkHtml = 'Like what you see? Visit the ' +\n",
              "            '<a target=\"_blank\" href=https://colab.research.google.com/notebooks/data_table.ipynb>data table notebook</a>'\n",
              "            + ' to learn more about interactive tables.';\n",
              "          element.innerHTML = '';\n",
              "          dataTable['output_type'] = 'display_data';\n",
              "          await google.colab.output.renderOutput(dataTable, element);\n",
              "          const docLink = document.createElement('div');\n",
              "          docLink.innerHTML = docLinkHtml;\n",
              "          element.appendChild(docLink);\n",
              "        }\n",
              "      </script>\n",
              "    </div>\n",
              "  </div>\n",
              "  "
            ]
          },
          "metadata": {},
          "execution_count": 23
        }
      ],
      "source": [
        "logs_funnel['conversion'] = round((logs_funnel['user_id'] / logs_funnel['user_id'].shift() * 100),2)\n",
        "logs_funnel['loss_users'] = 100 - logs_funnel['conversion']\n",
        "logs_funnel"
      ]
    },
    {
      "cell_type": "markdown",
      "metadata": {
        "id": "sb5Hjh4Uyj8c"
      },
      "source": [
        "5) На каком шаге теряете больше всего пользователей?"
      ]
    },
    {
      "cell_type": "markdown",
      "metadata": {
        "id": "vAx98rIDfv0b"
      },
      "source": [
        "Больше всего пользователей (38,09%) теряется при переходе с \"Главной страницы\" в \"Предложение\"."
      ]
    },
    {
      "cell_type": "markdown",
      "metadata": {
        "id": "XdD9ANT7ylRT"
      },
      "source": [
        "6) Какая доля пользователей доходит от первого события до оплаты?"
      ]
    },
    {
      "cell_type": "code",
      "execution_count": 24,
      "metadata": {
        "colab": {
          "base_uri": "https://localhost:8080/"
        },
        "id": "nrN2IoDqgJNC",
        "outputId": "660a7a7a-ffcc-42fa-e3ff-e5e7152205ba"
      },
      "outputs": [
        {
          "output_type": "stream",
          "name": "stdout",
          "text": [
            "Доля пользователей, дошедших до оплаты: 47.7\n"
          ]
        }
      ],
      "source": [
        "main_end = df.query('event_name==\"MainScreenAppear\"')['user_id'].nunique() #число уникальных пользователей, дошедших до события \"Главная страница\"\n",
        "payment_end = df.query('event_name==\"PaymentScreenSuccessful\"')['user_id'].nunique() #число уникальных пользователей, дошедших до события \"Оплата\"\n",
        "main_to_payment = round((payment_end / main_end) * 100, 2)\n",
        "print('Доля пользователей, дошедших до оплаты:', main_to_payment)"
      ]
    },
    {
      "cell_type": "code",
      "source": [
        "funnel = logs_funnel[['event_name', 'users_share']].query('event_name != \"Tutorial\"')\n",
        "fig = go.Figure(\n",
        "    go.Funnel(\n",
        "        y=funnel['event_name'].to_list(),\n",
        "        x=funnel['users_share'].to_list()))\n",
        "fig.update_layout(autosize=False, width=800, height=500)\n",
        "fig.show()"
      ],
      "metadata": {
        "colab": {
          "base_uri": "https://localhost:8080/",
          "height": 517
        },
        "id": "NvXVIgkkSL4B",
        "outputId": "156d8ead-25d7-4cd6-8237-783bf1dd23de"
      },
      "execution_count": 25,
      "outputs": [
        {
          "output_type": "display_data",
          "data": {
            "text/html": [
              "<html>\n",
              "<head><meta charset=\"utf-8\" /></head>\n",
              "<body>\n",
              "    <div>            <script src=\"https://cdnjs.cloudflare.com/ajax/libs/mathjax/2.7.5/MathJax.js?config=TeX-AMS-MML_SVG\"></script><script type=\"text/javascript\">if (window.MathJax) {MathJax.Hub.Config({SVG: {font: \"STIX-Web\"}});}</script>                <script type=\"text/javascript\">window.PlotlyConfig = {MathJaxConfig: 'local'};</script>\n",
              "        <script src=\"https://cdn.plot.ly/plotly-2.8.3.min.js\"></script>                <div id=\"762eee34-d180-448a-97af-40dafe293931\" class=\"plotly-graph-div\" style=\"height:500px; width:800px;\"></div>            <script type=\"text/javascript\">                                    window.PLOTLYENV=window.PLOTLYENV || {};                                    if (document.getElementById(\"762eee34-d180-448a-97af-40dafe293931\")) {                    Plotly.newPlot(                        \"762eee34-d180-448a-97af-40dafe293931\",                        [{\"x\":[98.47,60.96,49.56,46.97],\"y\":[\"MainScreenAppear\",\"OffersScreenAppear\",\"CartScreenAppear\",\"PaymentScreenSuccessful\"],\"type\":\"funnel\"}],                        {\"template\":{\"data\":{\"bar\":[{\"error_x\":{\"color\":\"#2a3f5f\"},\"error_y\":{\"color\":\"#2a3f5f\"},\"marker\":{\"line\":{\"color\":\"#E5ECF6\",\"width\":0.5},\"pattern\":{\"fillmode\":\"overlay\",\"size\":10,\"solidity\":0.2}},\"type\":\"bar\"}],\"barpolar\":[{\"marker\":{\"line\":{\"color\":\"#E5ECF6\",\"width\":0.5},\"pattern\":{\"fillmode\":\"overlay\",\"size\":10,\"solidity\":0.2}},\"type\":\"barpolar\"}],\"carpet\":[{\"aaxis\":{\"endlinecolor\":\"#2a3f5f\",\"gridcolor\":\"white\",\"linecolor\":\"white\",\"minorgridcolor\":\"white\",\"startlinecolor\":\"#2a3f5f\"},\"baxis\":{\"endlinecolor\":\"#2a3f5f\",\"gridcolor\":\"white\",\"linecolor\":\"white\",\"minorgridcolor\":\"white\",\"startlinecolor\":\"#2a3f5f\"},\"type\":\"carpet\"}],\"choropleth\":[{\"colorbar\":{\"outlinewidth\":0,\"ticks\":\"\"},\"type\":\"choropleth\"}],\"contour\":[{\"colorbar\":{\"outlinewidth\":0,\"ticks\":\"\"},\"colorscale\":[[0.0,\"#0d0887\"],[0.1111111111111111,\"#46039f\"],[0.2222222222222222,\"#7201a8\"],[0.3333333333333333,\"#9c179e\"],[0.4444444444444444,\"#bd3786\"],[0.5555555555555556,\"#d8576b\"],[0.6666666666666666,\"#ed7953\"],[0.7777777777777778,\"#fb9f3a\"],[0.8888888888888888,\"#fdca26\"],[1.0,\"#f0f921\"]],\"type\":\"contour\"}],\"contourcarpet\":[{\"colorbar\":{\"outlinewidth\":0,\"ticks\":\"\"},\"type\":\"contourcarpet\"}],\"heatmap\":[{\"colorbar\":{\"outlinewidth\":0,\"ticks\":\"\"},\"colorscale\":[[0.0,\"#0d0887\"],[0.1111111111111111,\"#46039f\"],[0.2222222222222222,\"#7201a8\"],[0.3333333333333333,\"#9c179e\"],[0.4444444444444444,\"#bd3786\"],[0.5555555555555556,\"#d8576b\"],[0.6666666666666666,\"#ed7953\"],[0.7777777777777778,\"#fb9f3a\"],[0.8888888888888888,\"#fdca26\"],[1.0,\"#f0f921\"]],\"type\":\"heatmap\"}],\"heatmapgl\":[{\"colorbar\":{\"outlinewidth\":0,\"ticks\":\"\"},\"colorscale\":[[0.0,\"#0d0887\"],[0.1111111111111111,\"#46039f\"],[0.2222222222222222,\"#7201a8\"],[0.3333333333333333,\"#9c179e\"],[0.4444444444444444,\"#bd3786\"],[0.5555555555555556,\"#d8576b\"],[0.6666666666666666,\"#ed7953\"],[0.7777777777777778,\"#fb9f3a\"],[0.8888888888888888,\"#fdca26\"],[1.0,\"#f0f921\"]],\"type\":\"heatmapgl\"}],\"histogram\":[{\"marker\":{\"pattern\":{\"fillmode\":\"overlay\",\"size\":10,\"solidity\":0.2}},\"type\":\"histogram\"}],\"histogram2d\":[{\"colorbar\":{\"outlinewidth\":0,\"ticks\":\"\"},\"colorscale\":[[0.0,\"#0d0887\"],[0.1111111111111111,\"#46039f\"],[0.2222222222222222,\"#7201a8\"],[0.3333333333333333,\"#9c179e\"],[0.4444444444444444,\"#bd3786\"],[0.5555555555555556,\"#d8576b\"],[0.6666666666666666,\"#ed7953\"],[0.7777777777777778,\"#fb9f3a\"],[0.8888888888888888,\"#fdca26\"],[1.0,\"#f0f921\"]],\"type\":\"histogram2d\"}],\"histogram2dcontour\":[{\"colorbar\":{\"outlinewidth\":0,\"ticks\":\"\"},\"colorscale\":[[0.0,\"#0d0887\"],[0.1111111111111111,\"#46039f\"],[0.2222222222222222,\"#7201a8\"],[0.3333333333333333,\"#9c179e\"],[0.4444444444444444,\"#bd3786\"],[0.5555555555555556,\"#d8576b\"],[0.6666666666666666,\"#ed7953\"],[0.7777777777777778,\"#fb9f3a\"],[0.8888888888888888,\"#fdca26\"],[1.0,\"#f0f921\"]],\"type\":\"histogram2dcontour\"}],\"mesh3d\":[{\"colorbar\":{\"outlinewidth\":0,\"ticks\":\"\"},\"type\":\"mesh3d\"}],\"parcoords\":[{\"line\":{\"colorbar\":{\"outlinewidth\":0,\"ticks\":\"\"}},\"type\":\"parcoords\"}],\"pie\":[{\"automargin\":true,\"type\":\"pie\"}],\"scatter\":[{\"marker\":{\"colorbar\":{\"outlinewidth\":0,\"ticks\":\"\"}},\"type\":\"scatter\"}],\"scatter3d\":[{\"line\":{\"colorbar\":{\"outlinewidth\":0,\"ticks\":\"\"}},\"marker\":{\"colorbar\":{\"outlinewidth\":0,\"ticks\":\"\"}},\"type\":\"scatter3d\"}],\"scattercarpet\":[{\"marker\":{\"colorbar\":{\"outlinewidth\":0,\"ticks\":\"\"}},\"type\":\"scattercarpet\"}],\"scattergeo\":[{\"marker\":{\"colorbar\":{\"outlinewidth\":0,\"ticks\":\"\"}},\"type\":\"scattergeo\"}],\"scattergl\":[{\"marker\":{\"colorbar\":{\"outlinewidth\":0,\"ticks\":\"\"}},\"type\":\"scattergl\"}],\"scattermapbox\":[{\"marker\":{\"colorbar\":{\"outlinewidth\":0,\"ticks\":\"\"}},\"type\":\"scattermapbox\"}],\"scatterpolar\":[{\"marker\":{\"colorbar\":{\"outlinewidth\":0,\"ticks\":\"\"}},\"type\":\"scatterpolar\"}],\"scatterpolargl\":[{\"marker\":{\"colorbar\":{\"outlinewidth\":0,\"ticks\":\"\"}},\"type\":\"scatterpolargl\"}],\"scatterternary\":[{\"marker\":{\"colorbar\":{\"outlinewidth\":0,\"ticks\":\"\"}},\"type\":\"scatterternary\"}],\"surface\":[{\"colorbar\":{\"outlinewidth\":0,\"ticks\":\"\"},\"colorscale\":[[0.0,\"#0d0887\"],[0.1111111111111111,\"#46039f\"],[0.2222222222222222,\"#7201a8\"],[0.3333333333333333,\"#9c179e\"],[0.4444444444444444,\"#bd3786\"],[0.5555555555555556,\"#d8576b\"],[0.6666666666666666,\"#ed7953\"],[0.7777777777777778,\"#fb9f3a\"],[0.8888888888888888,\"#fdca26\"],[1.0,\"#f0f921\"]],\"type\":\"surface\"}],\"table\":[{\"cells\":{\"fill\":{\"color\":\"#EBF0F8\"},\"line\":{\"color\":\"white\"}},\"header\":{\"fill\":{\"color\":\"#C8D4E3\"},\"line\":{\"color\":\"white\"}},\"type\":\"table\"}]},\"layout\":{\"annotationdefaults\":{\"arrowcolor\":\"#2a3f5f\",\"arrowhead\":0,\"arrowwidth\":1},\"autotypenumbers\":\"strict\",\"coloraxis\":{\"colorbar\":{\"outlinewidth\":0,\"ticks\":\"\"}},\"colorscale\":{\"diverging\":[[0,\"#8e0152\"],[0.1,\"#c51b7d\"],[0.2,\"#de77ae\"],[0.3,\"#f1b6da\"],[0.4,\"#fde0ef\"],[0.5,\"#f7f7f7\"],[0.6,\"#e6f5d0\"],[0.7,\"#b8e186\"],[0.8,\"#7fbc41\"],[0.9,\"#4d9221\"],[1,\"#276419\"]],\"sequential\":[[0.0,\"#0d0887\"],[0.1111111111111111,\"#46039f\"],[0.2222222222222222,\"#7201a8\"],[0.3333333333333333,\"#9c179e\"],[0.4444444444444444,\"#bd3786\"],[0.5555555555555556,\"#d8576b\"],[0.6666666666666666,\"#ed7953\"],[0.7777777777777778,\"#fb9f3a\"],[0.8888888888888888,\"#fdca26\"],[1.0,\"#f0f921\"]],\"sequentialminus\":[[0.0,\"#0d0887\"],[0.1111111111111111,\"#46039f\"],[0.2222222222222222,\"#7201a8\"],[0.3333333333333333,\"#9c179e\"],[0.4444444444444444,\"#bd3786\"],[0.5555555555555556,\"#d8576b\"],[0.6666666666666666,\"#ed7953\"],[0.7777777777777778,\"#fb9f3a\"],[0.8888888888888888,\"#fdca26\"],[1.0,\"#f0f921\"]]},\"colorway\":[\"#636efa\",\"#EF553B\",\"#00cc96\",\"#ab63fa\",\"#FFA15A\",\"#19d3f3\",\"#FF6692\",\"#B6E880\",\"#FF97FF\",\"#FECB52\"],\"font\":{\"color\":\"#2a3f5f\"},\"geo\":{\"bgcolor\":\"white\",\"lakecolor\":\"white\",\"landcolor\":\"#E5ECF6\",\"showlakes\":true,\"showland\":true,\"subunitcolor\":\"white\"},\"hoverlabel\":{\"align\":\"left\"},\"hovermode\":\"closest\",\"mapbox\":{\"style\":\"light\"},\"paper_bgcolor\":\"white\",\"plot_bgcolor\":\"#E5ECF6\",\"polar\":{\"angularaxis\":{\"gridcolor\":\"white\",\"linecolor\":\"white\",\"ticks\":\"\"},\"bgcolor\":\"#E5ECF6\",\"radialaxis\":{\"gridcolor\":\"white\",\"linecolor\":\"white\",\"ticks\":\"\"}},\"scene\":{\"xaxis\":{\"backgroundcolor\":\"#E5ECF6\",\"gridcolor\":\"white\",\"gridwidth\":2,\"linecolor\":\"white\",\"showbackground\":true,\"ticks\":\"\",\"zerolinecolor\":\"white\"},\"yaxis\":{\"backgroundcolor\":\"#E5ECF6\",\"gridcolor\":\"white\",\"gridwidth\":2,\"linecolor\":\"white\",\"showbackground\":true,\"ticks\":\"\",\"zerolinecolor\":\"white\"},\"zaxis\":{\"backgroundcolor\":\"#E5ECF6\",\"gridcolor\":\"white\",\"gridwidth\":2,\"linecolor\":\"white\",\"showbackground\":true,\"ticks\":\"\",\"zerolinecolor\":\"white\"}},\"shapedefaults\":{\"line\":{\"color\":\"#2a3f5f\"}},\"ternary\":{\"aaxis\":{\"gridcolor\":\"white\",\"linecolor\":\"white\",\"ticks\":\"\"},\"baxis\":{\"gridcolor\":\"white\",\"linecolor\":\"white\",\"ticks\":\"\"},\"bgcolor\":\"#E5ECF6\",\"caxis\":{\"gridcolor\":\"white\",\"linecolor\":\"white\",\"ticks\":\"\"}},\"title\":{\"x\":0.05},\"xaxis\":{\"automargin\":true,\"gridcolor\":\"white\",\"linecolor\":\"white\",\"ticks\":\"\",\"title\":{\"standoff\":15},\"zerolinecolor\":\"white\",\"zerolinewidth\":2},\"yaxis\":{\"automargin\":true,\"gridcolor\":\"white\",\"linecolor\":\"white\",\"ticks\":\"\",\"title\":{\"standoff\":15},\"zerolinecolor\":\"white\",\"zerolinewidth\":2}}},\"autosize\":false,\"width\":800,\"height\":500},                        {\"responsive\": true}                    ).then(function(){\n",
              "                            \n",
              "var gd = document.getElementById('762eee34-d180-448a-97af-40dafe293931');\n",
              "var x = new MutationObserver(function (mutations, observer) {{\n",
              "        var display = window.getComputedStyle(gd).display;\n",
              "        if (!display || display === 'none') {{\n",
              "            console.log([gd, 'removed!']);\n",
              "            Plotly.purge(gd);\n",
              "            observer.disconnect();\n",
              "        }}\n",
              "}});\n",
              "\n",
              "// Listen for the removal of the full notebook cells\n",
              "var notebookContainer = gd.closest('#notebook-container');\n",
              "if (notebookContainer) {{\n",
              "    x.observe(notebookContainer, {childList: true});\n",
              "}}\n",
              "\n",
              "// Listen for the clearing of the current output cell\n",
              "var outputEl = gd.closest('.output');\n",
              "if (outputEl) {{\n",
              "    x.observe(outputEl, {childList: true});\n",
              "}}\n",
              "\n",
              "                        })                };                            </script>        </div>\n",
              "</body>\n",
              "</html>"
            ]
          },
          "metadata": {}
        }
      ]
    },
    {
      "cell_type": "markdown",
      "metadata": {
        "id": "M1F7jf-2I266"
      },
      "source": [
        "# Шаг 5. Изучите результаты эксперимента  \n",
        "1) Сколько пользователей в каждой экспериментальной группе?"
      ]
    },
    {
      "cell_type": "code",
      "execution_count": 26,
      "metadata": {
        "colab": {
          "base_uri": "https://localhost:8080/",
          "height": 175
        },
        "id": "LKPjeY-KJKYN",
        "outputId": "99d9ed63-f282-4afd-d510-a0b1ba17a593"
      },
      "outputs": [
        {
          "output_type": "execute_result",
          "data": {
            "text/plain": [
              "       user_id\n",
              "group         \n",
              "246       2483\n",
              "247       2512\n",
              "248       2535"
            ],
            "text/html": [
              "\n",
              "  <div id=\"df-b24e270a-85a2-42f0-82c7-b68c08e1bd51\">\n",
              "    <div class=\"colab-df-container\">\n",
              "      <div>\n",
              "<style scoped>\n",
              "    .dataframe tbody tr th:only-of-type {\n",
              "        vertical-align: middle;\n",
              "    }\n",
              "\n",
              "    .dataframe tbody tr th {\n",
              "        vertical-align: top;\n",
              "    }\n",
              "\n",
              "    .dataframe thead th {\n",
              "        text-align: right;\n",
              "    }\n",
              "</style>\n",
              "<table border=\"1\" class=\"dataframe\">\n",
              "  <thead>\n",
              "    <tr style=\"text-align: right;\">\n",
              "      <th></th>\n",
              "      <th>user_id</th>\n",
              "    </tr>\n",
              "    <tr>\n",
              "      <th>group</th>\n",
              "      <th></th>\n",
              "    </tr>\n",
              "  </thead>\n",
              "  <tbody>\n",
              "    <tr>\n",
              "      <th>246</th>\n",
              "      <td>2483</td>\n",
              "    </tr>\n",
              "    <tr>\n",
              "      <th>247</th>\n",
              "      <td>2512</td>\n",
              "    </tr>\n",
              "    <tr>\n",
              "      <th>248</th>\n",
              "      <td>2535</td>\n",
              "    </tr>\n",
              "  </tbody>\n",
              "</table>\n",
              "</div>\n",
              "      <button class=\"colab-df-convert\" onclick=\"convertToInteractive('df-b24e270a-85a2-42f0-82c7-b68c08e1bd51')\"\n",
              "              title=\"Convert this dataframe to an interactive table.\"\n",
              "              style=\"display:none;\">\n",
              "        \n",
              "  <svg xmlns=\"http://www.w3.org/2000/svg\" height=\"24px\"viewBox=\"0 0 24 24\"\n",
              "       width=\"24px\">\n",
              "    <path d=\"M0 0h24v24H0V0z\" fill=\"none\"/>\n",
              "    <path d=\"M18.56 5.44l.94 2.06.94-2.06 2.06-.94-2.06-.94-.94-2.06-.94 2.06-2.06.94zm-11 1L8.5 8.5l.94-2.06 2.06-.94-2.06-.94L8.5 2.5l-.94 2.06-2.06.94zm10 10l.94 2.06.94-2.06 2.06-.94-2.06-.94-.94-2.06-.94 2.06-2.06.94z\"/><path d=\"M17.41 7.96l-1.37-1.37c-.4-.4-.92-.59-1.43-.59-.52 0-1.04.2-1.43.59L10.3 9.45l-7.72 7.72c-.78.78-.78 2.05 0 2.83L4 21.41c.39.39.9.59 1.41.59.51 0 1.02-.2 1.41-.59l7.78-7.78 2.81-2.81c.8-.78.8-2.07 0-2.86zM5.41 20L4 18.59l7.72-7.72 1.47 1.35L5.41 20z\"/>\n",
              "  </svg>\n",
              "      </button>\n",
              "      \n",
              "  <style>\n",
              "    .colab-df-container {\n",
              "      display:flex;\n",
              "      flex-wrap:wrap;\n",
              "      gap: 12px;\n",
              "    }\n",
              "\n",
              "    .colab-df-convert {\n",
              "      background-color: #E8F0FE;\n",
              "      border: none;\n",
              "      border-radius: 50%;\n",
              "      cursor: pointer;\n",
              "      display: none;\n",
              "      fill: #1967D2;\n",
              "      height: 32px;\n",
              "      padding: 0 0 0 0;\n",
              "      width: 32px;\n",
              "    }\n",
              "\n",
              "    .colab-df-convert:hover {\n",
              "      background-color: #E2EBFA;\n",
              "      box-shadow: 0px 1px 2px rgba(60, 64, 67, 0.3), 0px 1px 3px 1px rgba(60, 64, 67, 0.15);\n",
              "      fill: #174EA6;\n",
              "    }\n",
              "\n",
              "    [theme=dark] .colab-df-convert {\n",
              "      background-color: #3B4455;\n",
              "      fill: #D2E3FC;\n",
              "    }\n",
              "\n",
              "    [theme=dark] .colab-df-convert:hover {\n",
              "      background-color: #434B5C;\n",
              "      box-shadow: 0px 1px 3px 1px rgba(0, 0, 0, 0.15);\n",
              "      filter: drop-shadow(0px 1px 2px rgba(0, 0, 0, 0.3));\n",
              "      fill: #FFFFFF;\n",
              "    }\n",
              "  </style>\n",
              "\n",
              "      <script>\n",
              "        const buttonEl =\n",
              "          document.querySelector('#df-b24e270a-85a2-42f0-82c7-b68c08e1bd51 button.colab-df-convert');\n",
              "        buttonEl.style.display =\n",
              "          google.colab.kernel.accessAllowed ? 'block' : 'none';\n",
              "\n",
              "        async function convertToInteractive(key) {\n",
              "          const element = document.querySelector('#df-b24e270a-85a2-42f0-82c7-b68c08e1bd51');\n",
              "          const dataTable =\n",
              "            await google.colab.kernel.invokeFunction('convertToInteractive',\n",
              "                                                     [key], {});\n",
              "          if (!dataTable) return;\n",
              "\n",
              "          const docLinkHtml = 'Like what you see? Visit the ' +\n",
              "            '<a target=\"_blank\" href=https://colab.research.google.com/notebooks/data_table.ipynb>data table notebook</a>'\n",
              "            + ' to learn more about interactive tables.';\n",
              "          element.innerHTML = '';\n",
              "          dataTable['output_type'] = 'display_data';\n",
              "          await google.colab.output.renderOutput(dataTable, element);\n",
              "          const docLink = document.createElement('div');\n",
              "          docLink.innerHTML = docLinkHtml;\n",
              "          element.appendChild(docLink);\n",
              "        }\n",
              "      </script>\n",
              "    </div>\n",
              "  </div>\n",
              "  "
            ]
          },
          "metadata": {},
          "execution_count": 26
        }
      ],
      "source": [
        "all_users = df.groupby('group').agg({'user_id': 'nunique'})\n",
        "all_users"
      ]
    },
    {
      "cell_type": "markdown",
      "metadata": {
        "id": "_Jr0ifKFJAYK"
      },
      "source": [
        "2) Есть 2 контрольные группы для А/А-эксперимента, чтобы проверить корректность всех механизмов и расчётов. Проверьте, находят ли статистические критерии разницу между выборками 246 и 247."
      ]
    },
    {
      "cell_type": "markdown",
      "metadata": {
        "id": "o_Li3xrvUOvW"
      },
      "source": [
        "Критерии успешного A/A-теста:   \n",
        "а) Количество пользователей в различных группах различается не более, чем на 1%;"
      ]
    },
    {
      "cell_type": "code",
      "execution_count": 27,
      "metadata": {
        "id": "r7moYIubSVL2"
      },
      "outputs": [],
      "source": [
        "sample_A = df.query('group == 246')['user_id'].nunique()\n",
        "sample_B = df.query('group == 247')['user_id'].nunique()"
      ]
    },
    {
      "cell_type": "code",
      "execution_count": 28,
      "metadata": {
        "colab": {
          "base_uri": "https://localhost:8080/"
        },
        "id": "Hdy6k-DHUkoa",
        "outputId": "1fd125e9-d23f-4706-d6c5-943ad8d52328"
      },
      "outputs": [
        {
          "output_type": "stream",
          "name": "stdout",
          "text": [
            "Разница в количестве пользователей между группами 246 и 247 в процентах: 1.15\n"
          ]
        }
      ],
      "source": [
        "sample_diff_AB = round((abs(100 * ((sample_A / sample_B) -1))), 2)\n",
        "print('Разница в количестве пользователей между группами 246 и 247 в процентах:', sample_diff_AB)"
      ]
    },
    {
      "cell_type": "markdown",
      "metadata": {
        "id": "MjFLpkocdGor"
      },
      "source": [
        "б) Для всех групп фиксируют и отправляют в системы аналитики данные об одном и том же - соблюдено;  \n",
        "в) Различие ключевых метрик по группам не превышает 1% и не имеет статистической значимости:  \n",
        "\n",
        "Нулевая гипотеза - статистически значимых различий между двумя долями нет;  \n",
        "Альтернативная гипотеза - между долями есть статистическая значимость."
      ]
    },
    {
      "cell_type": "code",
      "execution_count": 29,
      "metadata": {
        "colab": {
          "base_uri": "https://localhost:8080/"
        },
        "id": "T7Hg00muebDm",
        "outputId": "1d75bcc5-fba6-459d-bcf5-85c81f231503"
      },
      "outputs": [
        {
          "output_type": "stream",
          "name": "stdout",
          "text": [
            "Результат теста для групп 246 и 247 и события PaymentScreenSuccessful\n",
            "\n",
            "p-значение:  0.11446627829276612\n",
            "Не получилось отвергнуть нулевую гипотезу, нет оснований считать доли разными\n"
          ]
        }
      ],
      "source": [
        "alpha = .05 # критический уровень статистической значимости\n",
        "\n",
        "successes = np.array([df.query(f'group == 246 & event_name == \"PaymentScreenSuccessful\"')['user_id'].nunique(),\n",
        "                      df.query(f'group == 247 & event_name == \"PaymentScreenSuccessful\"')['user_id'].nunique()])\n",
        "\n",
        "trials = np.array([df.query(f'group == 246')['user_id'].nunique(), df.query(f'group == 247')['user_id'].nunique()])\n",
        "\n",
        "p1 = successes[0]/trials[0] # пропорция успехов в первой группе\n",
        "\n",
        "p2 = successes[1]/trials[1] # пропорция успехов во второй группе\n",
        "\n",
        "p_combined = (successes[0] + successes[1]) / (trials[0] + trials[1]) # пропорция успехов в комбинированном датасете:\n",
        "\n",
        "difference = p1 - p2 # разница пропорций в датасетах\n",
        "\n",
        "z_value = difference / mth.sqrt(p_combined * (1 - p_combined) * (1/trials[0] + 1/trials[1])) # считаем статистику в ст.отклонениях стандартного нормального распределения\n",
        "\n",
        "distr = st.norm(0, 1) # задаем стандартное нормальное распределение (среднее 0, ст.отклонение 1)\n",
        "\n",
        "p_value = (1 - distr.cdf(abs(z_value))) * 2\n",
        "\n",
        "print(\"Результат теста для групп 246 и 247 и события PaymentScreenSuccessful\")\n",
        "print()\n",
        "print('p-значение: ', p_value)\n",
        "\n",
        "if p_value < alpha:\n",
        "    print('Отвергаем нулевую гипотезу: между долями есть значимая разница')\n",
        "else:\n",
        "    print('Не получилось отвергнуть нулевую гипотезу, нет оснований считать доли разными')"
      ]
    },
    {
      "cell_type": "markdown",
      "metadata": {
        "id": "KWL_88mGdNXZ"
      },
      "source": [
        "г) Попавший в одну из групп посетитель остаётся в этой группе до конца теста. Если пользователь видит разные версии исследуемой страницы в ходе одного исследования, неизвестно, какая именно повлияла на его решения. Значит, и результаты такого теста нельзя интерпретировать однозначно. Проверим этот факт:"
      ]
    },
    {
      "cell_type": "code",
      "execution_count": 30,
      "metadata": {
        "colab": {
          "base_uri": "https://localhost:8080/"
        },
        "id": "uWiOGEaBc0RG",
        "outputId": "1d4e42e4-07ce-481e-9c44-fbc6a570c664"
      },
      "outputs": [
        {
          "output_type": "execute_result",
          "data": {
            "text/plain": [
              "group    0\n",
              "dtype: int64"
            ]
          },
          "metadata": {},
          "execution_count": 30
        }
      ],
      "source": [
        "df.groupby('user_id').agg({'group' : 'nunique'}).query('group > 1').count()"
      ]
    },
    {
      "cell_type": "markdown",
      "metadata": {
        "id": "3E8I9XjrnDhp"
      },
      "source": [
        "Каждый пользователь состоит лишь в одной группе."
      ]
    },
    {
      "cell_type": "markdown",
      "metadata": {
        "id": "he1EGgSrJEuG"
      },
      "source": [
        "3) Выберите самое популярное событие. Посчитайте число пользователей, совершивших это событие в каждой из контрольных групп. Посчитайте долю пользователей, совершивших это событие."
      ]
    },
    {
      "cell_type": "code",
      "execution_count": 31,
      "metadata": {
        "colab": {
          "base_uri": "https://localhost:8080/",
          "height": 175
        },
        "id": "tC5-3-tSRcAe",
        "outputId": "aea49755-be70-462b-ce23-9afe544759e2"
      },
      "outputs": [
        {
          "output_type": "execute_result",
          "data": {
            "text/plain": [
              "       user_id  share\n",
              "group                \n",
              "246       2450  98.67\n",
              "247       2476  98.57\n",
              "248       2493  98.34"
            ],
            "text/html": [
              "\n",
              "  <div id=\"df-8197eb5b-2a76-4e6b-8683-9743ee782228\">\n",
              "    <div class=\"colab-df-container\">\n",
              "      <div>\n",
              "<style scoped>\n",
              "    .dataframe tbody tr th:only-of-type {\n",
              "        vertical-align: middle;\n",
              "    }\n",
              "\n",
              "    .dataframe tbody tr th {\n",
              "        vertical-align: top;\n",
              "    }\n",
              "\n",
              "    .dataframe thead th {\n",
              "        text-align: right;\n",
              "    }\n",
              "</style>\n",
              "<table border=\"1\" class=\"dataframe\">\n",
              "  <thead>\n",
              "    <tr style=\"text-align: right;\">\n",
              "      <th></th>\n",
              "      <th>user_id</th>\n",
              "      <th>share</th>\n",
              "    </tr>\n",
              "    <tr>\n",
              "      <th>group</th>\n",
              "      <th></th>\n",
              "      <th></th>\n",
              "    </tr>\n",
              "  </thead>\n",
              "  <tbody>\n",
              "    <tr>\n",
              "      <th>246</th>\n",
              "      <td>2450</td>\n",
              "      <td>98.67</td>\n",
              "    </tr>\n",
              "    <tr>\n",
              "      <th>247</th>\n",
              "      <td>2476</td>\n",
              "      <td>98.57</td>\n",
              "    </tr>\n",
              "    <tr>\n",
              "      <th>248</th>\n",
              "      <td>2493</td>\n",
              "      <td>98.34</td>\n",
              "    </tr>\n",
              "  </tbody>\n",
              "</table>\n",
              "</div>\n",
              "      <button class=\"colab-df-convert\" onclick=\"convertToInteractive('df-8197eb5b-2a76-4e6b-8683-9743ee782228')\"\n",
              "              title=\"Convert this dataframe to an interactive table.\"\n",
              "              style=\"display:none;\">\n",
              "        \n",
              "  <svg xmlns=\"http://www.w3.org/2000/svg\" height=\"24px\"viewBox=\"0 0 24 24\"\n",
              "       width=\"24px\">\n",
              "    <path d=\"M0 0h24v24H0V0z\" fill=\"none\"/>\n",
              "    <path d=\"M18.56 5.44l.94 2.06.94-2.06 2.06-.94-2.06-.94-.94-2.06-.94 2.06-2.06.94zm-11 1L8.5 8.5l.94-2.06 2.06-.94-2.06-.94L8.5 2.5l-.94 2.06-2.06.94zm10 10l.94 2.06.94-2.06 2.06-.94-2.06-.94-.94-2.06-.94 2.06-2.06.94z\"/><path d=\"M17.41 7.96l-1.37-1.37c-.4-.4-.92-.59-1.43-.59-.52 0-1.04.2-1.43.59L10.3 9.45l-7.72 7.72c-.78.78-.78 2.05 0 2.83L4 21.41c.39.39.9.59 1.41.59.51 0 1.02-.2 1.41-.59l7.78-7.78 2.81-2.81c.8-.78.8-2.07 0-2.86zM5.41 20L4 18.59l7.72-7.72 1.47 1.35L5.41 20z\"/>\n",
              "  </svg>\n",
              "      </button>\n",
              "      \n",
              "  <style>\n",
              "    .colab-df-container {\n",
              "      display:flex;\n",
              "      flex-wrap:wrap;\n",
              "      gap: 12px;\n",
              "    }\n",
              "\n",
              "    .colab-df-convert {\n",
              "      background-color: #E8F0FE;\n",
              "      border: none;\n",
              "      border-radius: 50%;\n",
              "      cursor: pointer;\n",
              "      display: none;\n",
              "      fill: #1967D2;\n",
              "      height: 32px;\n",
              "      padding: 0 0 0 0;\n",
              "      width: 32px;\n",
              "    }\n",
              "\n",
              "    .colab-df-convert:hover {\n",
              "      background-color: #E2EBFA;\n",
              "      box-shadow: 0px 1px 2px rgba(60, 64, 67, 0.3), 0px 1px 3px 1px rgba(60, 64, 67, 0.15);\n",
              "      fill: #174EA6;\n",
              "    }\n",
              "\n",
              "    [theme=dark] .colab-df-convert {\n",
              "      background-color: #3B4455;\n",
              "      fill: #D2E3FC;\n",
              "    }\n",
              "\n",
              "    [theme=dark] .colab-df-convert:hover {\n",
              "      background-color: #434B5C;\n",
              "      box-shadow: 0px 1px 3px 1px rgba(0, 0, 0, 0.15);\n",
              "      filter: drop-shadow(0px 1px 2px rgba(0, 0, 0, 0.3));\n",
              "      fill: #FFFFFF;\n",
              "    }\n",
              "  </style>\n",
              "\n",
              "      <script>\n",
              "        const buttonEl =\n",
              "          document.querySelector('#df-8197eb5b-2a76-4e6b-8683-9743ee782228 button.colab-df-convert');\n",
              "        buttonEl.style.display =\n",
              "          google.colab.kernel.accessAllowed ? 'block' : 'none';\n",
              "\n",
              "        async function convertToInteractive(key) {\n",
              "          const element = document.querySelector('#df-8197eb5b-2a76-4e6b-8683-9743ee782228');\n",
              "          const dataTable =\n",
              "            await google.colab.kernel.invokeFunction('convertToInteractive',\n",
              "                                                     [key], {});\n",
              "          if (!dataTable) return;\n",
              "\n",
              "          const docLinkHtml = 'Like what you see? Visit the ' +\n",
              "            '<a target=\"_blank\" href=https://colab.research.google.com/notebooks/data_table.ipynb>data table notebook</a>'\n",
              "            + ' to learn more about interactive tables.';\n",
              "          element.innerHTML = '';\n",
              "          dataTable['output_type'] = 'display_data';\n",
              "          await google.colab.output.renderOutput(dataTable, element);\n",
              "          const docLink = document.createElement('div');\n",
              "          docLink.innerHTML = docLinkHtml;\n",
              "          element.appendChild(docLink);\n",
              "        }\n",
              "      </script>\n",
              "    </div>\n",
              "  </div>\n",
              "  "
            ]
          },
          "metadata": {},
          "execution_count": 31
        }
      ],
      "source": [
        "users_share = df.query('event_name == \"MainScreenAppear\"').groupby('group').agg({'user_id': 'nunique'}) # число пользователей, совершивших событие MainScreenAppear, по группам\n",
        "users_share['share'] = round((users_share['user_id'] / all_users['user_id'] * 100),2)\n",
        "users_share"
      ]
    },
    {
      "cell_type": "markdown",
      "metadata": {
        "id": "By1NhZLUtO6x"
      },
      "source": [
        "Проверьте, будет ли отличие между группами статистически достоверным. Проделайте то же самое для всех других событий (удобно обернуть проверку в отдельную функцию). Можно ли сказать, что разбиение на группы работает корректно?"
      ]
    },
    {
      "cell_type": "markdown",
      "metadata": {
        "id": "ubDrOiHG0WAG"
      },
      "source": [
        "Сформулируем гипотезы:  \n",
        "Нулевая - доли уникальных посетителей, побывавших на этапе воронки, одинаковы;  \n",
        "Альтернативная - между долями уникальных посетителей, побывавших на этапе воронки, есть значимая разница."
      ]
    },
    {
      "cell_type": "code",
      "execution_count": 32,
      "metadata": {
        "colab": {
          "base_uri": "https://localhost:8080/",
          "height": 175
        },
        "id": "fgMgNichN89g",
        "outputId": "ba8fc98d-34dc-46f4-ff23-44f08988ea5e"
      },
      "outputs": [
        {
          "output_type": "execute_result",
          "data": {
            "text/plain": [
              "group               event_name   246   247   248  246+247\n",
              "0             CartScreenAppear  1266  1238  1230     2504\n",
              "1             MainScreenAppear  2450  2476  2493     4926\n",
              "2           OffersScreenAppear  1542  1520  1531     3062\n",
              "3      PaymentScreenSuccessful  1200  1158  1181     2358"
            ],
            "text/html": [
              "\n",
              "  <div id=\"df-17073eab-5af6-494c-80ed-c855b515484b\">\n",
              "    <div class=\"colab-df-container\">\n",
              "      <div>\n",
              "<style scoped>\n",
              "    .dataframe tbody tr th:only-of-type {\n",
              "        vertical-align: middle;\n",
              "    }\n",
              "\n",
              "    .dataframe tbody tr th {\n",
              "        vertical-align: top;\n",
              "    }\n",
              "\n",
              "    .dataframe thead th {\n",
              "        text-align: right;\n",
              "    }\n",
              "</style>\n",
              "<table border=\"1\" class=\"dataframe\">\n",
              "  <thead>\n",
              "    <tr style=\"text-align: right;\">\n",
              "      <th>group</th>\n",
              "      <th>event_name</th>\n",
              "      <th>246</th>\n",
              "      <th>247</th>\n",
              "      <th>248</th>\n",
              "      <th>246+247</th>\n",
              "    </tr>\n",
              "  </thead>\n",
              "  <tbody>\n",
              "    <tr>\n",
              "      <th>0</th>\n",
              "      <td>CartScreenAppear</td>\n",
              "      <td>1266</td>\n",
              "      <td>1238</td>\n",
              "      <td>1230</td>\n",
              "      <td>2504</td>\n",
              "    </tr>\n",
              "    <tr>\n",
              "      <th>1</th>\n",
              "      <td>MainScreenAppear</td>\n",
              "      <td>2450</td>\n",
              "      <td>2476</td>\n",
              "      <td>2493</td>\n",
              "      <td>4926</td>\n",
              "    </tr>\n",
              "    <tr>\n",
              "      <th>2</th>\n",
              "      <td>OffersScreenAppear</td>\n",
              "      <td>1542</td>\n",
              "      <td>1520</td>\n",
              "      <td>1531</td>\n",
              "      <td>3062</td>\n",
              "    </tr>\n",
              "    <tr>\n",
              "      <th>3</th>\n",
              "      <td>PaymentScreenSuccessful</td>\n",
              "      <td>1200</td>\n",
              "      <td>1158</td>\n",
              "      <td>1181</td>\n",
              "      <td>2358</td>\n",
              "    </tr>\n",
              "  </tbody>\n",
              "</table>\n",
              "</div>\n",
              "      <button class=\"colab-df-convert\" onclick=\"convertToInteractive('df-17073eab-5af6-494c-80ed-c855b515484b')\"\n",
              "              title=\"Convert this dataframe to an interactive table.\"\n",
              "              style=\"display:none;\">\n",
              "        \n",
              "  <svg xmlns=\"http://www.w3.org/2000/svg\" height=\"24px\"viewBox=\"0 0 24 24\"\n",
              "       width=\"24px\">\n",
              "    <path d=\"M0 0h24v24H0V0z\" fill=\"none\"/>\n",
              "    <path d=\"M18.56 5.44l.94 2.06.94-2.06 2.06-.94-2.06-.94-.94-2.06-.94 2.06-2.06.94zm-11 1L8.5 8.5l.94-2.06 2.06-.94-2.06-.94L8.5 2.5l-.94 2.06-2.06.94zm10 10l.94 2.06.94-2.06 2.06-.94-2.06-.94-.94-2.06-.94 2.06-2.06.94z\"/><path d=\"M17.41 7.96l-1.37-1.37c-.4-.4-.92-.59-1.43-.59-.52 0-1.04.2-1.43.59L10.3 9.45l-7.72 7.72c-.78.78-.78 2.05 0 2.83L4 21.41c.39.39.9.59 1.41.59.51 0 1.02-.2 1.41-.59l7.78-7.78 2.81-2.81c.8-.78.8-2.07 0-2.86zM5.41 20L4 18.59l7.72-7.72 1.47 1.35L5.41 20z\"/>\n",
              "  </svg>\n",
              "      </button>\n",
              "      \n",
              "  <style>\n",
              "    .colab-df-container {\n",
              "      display:flex;\n",
              "      flex-wrap:wrap;\n",
              "      gap: 12px;\n",
              "    }\n",
              "\n",
              "    .colab-df-convert {\n",
              "      background-color: #E8F0FE;\n",
              "      border: none;\n",
              "      border-radius: 50%;\n",
              "      cursor: pointer;\n",
              "      display: none;\n",
              "      fill: #1967D2;\n",
              "      height: 32px;\n",
              "      padding: 0 0 0 0;\n",
              "      width: 32px;\n",
              "    }\n",
              "\n",
              "    .colab-df-convert:hover {\n",
              "      background-color: #E2EBFA;\n",
              "      box-shadow: 0px 1px 2px rgba(60, 64, 67, 0.3), 0px 1px 3px 1px rgba(60, 64, 67, 0.15);\n",
              "      fill: #174EA6;\n",
              "    }\n",
              "\n",
              "    [theme=dark] .colab-df-convert {\n",
              "      background-color: #3B4455;\n",
              "      fill: #D2E3FC;\n",
              "    }\n",
              "\n",
              "    [theme=dark] .colab-df-convert:hover {\n",
              "      background-color: #434B5C;\n",
              "      box-shadow: 0px 1px 3px 1px rgba(0, 0, 0, 0.15);\n",
              "      filter: drop-shadow(0px 1px 2px rgba(0, 0, 0, 0.3));\n",
              "      fill: #FFFFFF;\n",
              "    }\n",
              "  </style>\n",
              "\n",
              "      <script>\n",
              "        const buttonEl =\n",
              "          document.querySelector('#df-17073eab-5af6-494c-80ed-c855b515484b button.colab-df-convert');\n",
              "        buttonEl.style.display =\n",
              "          google.colab.kernel.accessAllowed ? 'block' : 'none';\n",
              "\n",
              "        async function convertToInteractive(key) {\n",
              "          const element = document.querySelector('#df-17073eab-5af6-494c-80ed-c855b515484b');\n",
              "          const dataTable =\n",
              "            await google.colab.kernel.invokeFunction('convertToInteractive',\n",
              "                                                     [key], {});\n",
              "          if (!dataTable) return;\n",
              "\n",
              "          const docLinkHtml = 'Like what you see? Visit the ' +\n",
              "            '<a target=\"_blank\" href=https://colab.research.google.com/notebooks/data_table.ipynb>data table notebook</a>'\n",
              "            + ' to learn more about interactive tables.';\n",
              "          element.innerHTML = '';\n",
              "          dataTable['output_type'] = 'display_data';\n",
              "          await google.colab.output.renderOutput(dataTable, element);\n",
              "          const docLink = document.createElement('div');\n",
              "          docLink.innerHTML = docLinkHtml;\n",
              "          element.appendChild(docLink);\n",
              "        }\n",
              "      </script>\n",
              "    </div>\n",
              "  </div>\n",
              "  "
            ]
          },
          "metadata": {},
          "execution_count": 32
        }
      ],
      "source": [
        "# Создаю сводную таблицу с количеством пользователей в каждом событии для каждой группы, а также для группы 246+247\n",
        "user_counts = df.pivot_table(index='event_name', columns='group', values='user_id', aggfunc=\"nunique\")\n",
        "user_counts['246+247'] = user_counts[246] + user_counts[247]\n",
        "user_counts = user_counts.reset_index()\n",
        "user_counts"
      ]
    },
    {
      "cell_type": "code",
      "execution_count": 33,
      "metadata": {
        "colab": {
          "base_uri": "https://localhost:8080/",
          "height": 81
        },
        "id": "Ks4epO1lN89g",
        "outputId": "92a15050-62a6-462f-8bc0-fea60280b269"
      },
      "outputs": [
        {
          "output_type": "execute_result",
          "data": {
            "text/plain": [
              "group     246   247   248  246+247\n",
              "user_id  2483  2512  2535     4995"
            ],
            "text/html": [
              "\n",
              "  <div id=\"df-fe2a426b-1b23-4abc-9a1e-603cfb2e3eb5\">\n",
              "    <div class=\"colab-df-container\">\n",
              "      <div>\n",
              "<style scoped>\n",
              "    .dataframe tbody tr th:only-of-type {\n",
              "        vertical-align: middle;\n",
              "    }\n",
              "\n",
              "    .dataframe tbody tr th {\n",
              "        vertical-align: top;\n",
              "    }\n",
              "\n",
              "    .dataframe thead th {\n",
              "        text-align: right;\n",
              "    }\n",
              "</style>\n",
              "<table border=\"1\" class=\"dataframe\">\n",
              "  <thead>\n",
              "    <tr style=\"text-align: right;\">\n",
              "      <th>group</th>\n",
              "      <th>246</th>\n",
              "      <th>247</th>\n",
              "      <th>248</th>\n",
              "      <th>246+247</th>\n",
              "    </tr>\n",
              "  </thead>\n",
              "  <tbody>\n",
              "    <tr>\n",
              "      <th>user_id</th>\n",
              "      <td>2483</td>\n",
              "      <td>2512</td>\n",
              "      <td>2535</td>\n",
              "      <td>4995</td>\n",
              "    </tr>\n",
              "  </tbody>\n",
              "</table>\n",
              "</div>\n",
              "      <button class=\"colab-df-convert\" onclick=\"convertToInteractive('df-fe2a426b-1b23-4abc-9a1e-603cfb2e3eb5')\"\n",
              "              title=\"Convert this dataframe to an interactive table.\"\n",
              "              style=\"display:none;\">\n",
              "        \n",
              "  <svg xmlns=\"http://www.w3.org/2000/svg\" height=\"24px\"viewBox=\"0 0 24 24\"\n",
              "       width=\"24px\">\n",
              "    <path d=\"M0 0h24v24H0V0z\" fill=\"none\"/>\n",
              "    <path d=\"M18.56 5.44l.94 2.06.94-2.06 2.06-.94-2.06-.94-.94-2.06-.94 2.06-2.06.94zm-11 1L8.5 8.5l.94-2.06 2.06-.94-2.06-.94L8.5 2.5l-.94 2.06-2.06.94zm10 10l.94 2.06.94-2.06 2.06-.94-2.06-.94-.94-2.06-.94 2.06-2.06.94z\"/><path d=\"M17.41 7.96l-1.37-1.37c-.4-.4-.92-.59-1.43-.59-.52 0-1.04.2-1.43.59L10.3 9.45l-7.72 7.72c-.78.78-.78 2.05 0 2.83L4 21.41c.39.39.9.59 1.41.59.51 0 1.02-.2 1.41-.59l7.78-7.78 2.81-2.81c.8-.78.8-2.07 0-2.86zM5.41 20L4 18.59l7.72-7.72 1.47 1.35L5.41 20z\"/>\n",
              "  </svg>\n",
              "      </button>\n",
              "      \n",
              "  <style>\n",
              "    .colab-df-container {\n",
              "      display:flex;\n",
              "      flex-wrap:wrap;\n",
              "      gap: 12px;\n",
              "    }\n",
              "\n",
              "    .colab-df-convert {\n",
              "      background-color: #E8F0FE;\n",
              "      border: none;\n",
              "      border-radius: 50%;\n",
              "      cursor: pointer;\n",
              "      display: none;\n",
              "      fill: #1967D2;\n",
              "      height: 32px;\n",
              "      padding: 0 0 0 0;\n",
              "      width: 32px;\n",
              "    }\n",
              "\n",
              "    .colab-df-convert:hover {\n",
              "      background-color: #E2EBFA;\n",
              "      box-shadow: 0px 1px 2px rgba(60, 64, 67, 0.3), 0px 1px 3px 1px rgba(60, 64, 67, 0.15);\n",
              "      fill: #174EA6;\n",
              "    }\n",
              "\n",
              "    [theme=dark] .colab-df-convert {\n",
              "      background-color: #3B4455;\n",
              "      fill: #D2E3FC;\n",
              "    }\n",
              "\n",
              "    [theme=dark] .colab-df-convert:hover {\n",
              "      background-color: #434B5C;\n",
              "      box-shadow: 0px 1px 3px 1px rgba(0, 0, 0, 0.15);\n",
              "      filter: drop-shadow(0px 1px 2px rgba(0, 0, 0, 0.3));\n",
              "      fill: #FFFFFF;\n",
              "    }\n",
              "  </style>\n",
              "\n",
              "      <script>\n",
              "        const buttonEl =\n",
              "          document.querySelector('#df-fe2a426b-1b23-4abc-9a1e-603cfb2e3eb5 button.colab-df-convert');\n",
              "        buttonEl.style.display =\n",
              "          google.colab.kernel.accessAllowed ? 'block' : 'none';\n",
              "\n",
              "        async function convertToInteractive(key) {\n",
              "          const element = document.querySelector('#df-fe2a426b-1b23-4abc-9a1e-603cfb2e3eb5');\n",
              "          const dataTable =\n",
              "            await google.colab.kernel.invokeFunction('convertToInteractive',\n",
              "                                                     [key], {});\n",
              "          if (!dataTable) return;\n",
              "\n",
              "          const docLinkHtml = 'Like what you see? Visit the ' +\n",
              "            '<a target=\"_blank\" href=https://colab.research.google.com/notebooks/data_table.ipynb>data table notebook</a>'\n",
              "            + ' to learn more about interactive tables.';\n",
              "          element.innerHTML = '';\n",
              "          dataTable['output_type'] = 'display_data';\n",
              "          await google.colab.output.renderOutput(dataTable, element);\n",
              "          const docLink = document.createElement('div');\n",
              "          docLink.innerHTML = docLinkHtml;\n",
              "          element.appendChild(docLink);\n",
              "        }\n",
              "      </script>\n",
              "    </div>\n",
              "  </div>\n",
              "  "
            ]
          },
          "metadata": {},
          "execution_count": 33
        }
      ],
      "source": [
        "# расчитываю общее количество пользователей в каждой группе, а также в комбинированной 246+247\n",
        "total = df.groupby('group').agg({'user_id':'nunique'}).T\n",
        "total['246+247'] = total[246] + total[247]\n",
        "total"
      ]
    },
    {
      "cell_type": "code",
      "source": [
        "def hypothesis_test(group1, group2, alpha):\n",
        "  for i in user_counts.index:\n",
        "      \n",
        "      p1 = user_counts[group1][i] / total[group1] # пропорция успехов в первой группе\n",
        "      \n",
        "      p2 = user_counts[group2][i] / total[group2] # пропорция успехов во второй группе\n",
        "      \n",
        "      p_combined = (user_counts[group1][i] + user_counts[group2][i]) / (total[group1] + total[group2]) # пропорция успехов в комбинированном датасете\n",
        "      \n",
        "      difference = p1 - p2 # разница пропорций в датасетах\n",
        "  \n",
        "      z_value = difference / mth.sqrt(p_combined *(1-p_combined) * (1/total[group1] + 1/total[group2]))\n",
        "      \n",
        "      distr = st.norm(0, 1) \n",
        "      \n",
        "      p_value = (1 - distr.cdf(abs(z_value))) * 2\n",
        "\n",
        "      print('p-значение: ', p_value, 'для события', user_counts['event_name'][i])\n",
        "\n",
        "      if p_value < alpha:\n",
        "        print('Отвергаем нулевую гипотезу: между долями есть значимая разница')\n",
        "      else:\n",
        "        print('Не получилось отвергнуть нулевую гипотезу, нет оснований считать доли разными')"
      ],
      "metadata": {
        "id": "Ioj8cVtmWIOS"
      },
      "execution_count": 34,
      "outputs": []
    },
    {
      "cell_type": "code",
      "source": [
        "print('Сравнение групп 246 и 247:')\n",
        "print()\n",
        "hypothesis_test(246, 247, 0.05)\n",
        "print()\n",
        "print('Сравнение групп 246 и 248:')\n",
        "print()\n",
        "hypothesis_test(246, 248, 0.05)\n",
        "print()\n",
        "print('Сравнение групп 247 и 248:')\n",
        "print()\n",
        "hypothesis_test(247, 248, 0.05)"
      ],
      "metadata": {
        "colab": {
          "base_uri": "https://localhost:8080/"
        },
        "id": "w05-R7GtpLyI",
        "outputId": "b411a027-61c2-415a-8f36-8533aaf8537b"
      },
      "execution_count": 35,
      "outputs": [
        {
          "output_type": "stream",
          "name": "stdout",
          "text": [
            "Сравнение групп 246 и 247:\n",
            "\n",
            "p-значение:  [0.22867644] для события CartScreenAppear\n",
            "Не получилось отвергнуть нулевую гипотезу, нет оснований считать доли разными\n",
            "p-значение:  [0.75267034] для события MainScreenAppear\n",
            "Не получилось отвергнуть нулевую гипотезу, нет оснований считать доли разными\n",
            "p-значение:  [0.24786097] для события OffersScreenAppear\n",
            "Не получилось отвергнуть нулевую гипотезу, нет оснований считать доли разными\n",
            "p-значение:  [0.11446628] для события PaymentScreenSuccessful\n",
            "Не получилось отвергнуть нулевую гипотезу, нет оснований считать доли разными\n",
            "\n",
            "Сравнение групп 246 и 248:\n",
            "\n",
            "p-значение:  [0.08067368] для события CartScreenAppear\n",
            "Не получилось отвергнуть нулевую гипотезу, нет оснований считать доли разными\n",
            "p-значение:  [0.33871141] для события MainScreenAppear\n",
            "Не получилось отвергнуть нулевую гипотезу, нет оснований считать доли разными\n",
            "p-значение:  [0.21442477] для события OffersScreenAppear\n",
            "Не получилось отвергнуть нулевую гипотезу, нет оснований считать доли разными\n",
            "p-значение:  [0.21693034] для события PaymentScreenSuccessful\n",
            "Не получилось отвергнуть нулевую гипотезу, нет оснований считать доли разными\n",
            "\n",
            "Сравнение групп 247 и 248:\n",
            "\n",
            "p-значение:  [0.58782846] для события CartScreenAppear\n",
            "Не получилось отвергнуть нулевую гипотезу, нет оснований считать доли разными\n",
            "p-значение:  [0.51949644] для события MainScreenAppear\n",
            "Не получилось отвергнуть нулевую гипотезу, нет оснований считать доли разными\n",
            "p-значение:  [0.93337513] для события OffersScreenAppear\n",
            "Не получилось отвергнуть нулевую гипотезу, нет оснований считать доли разными\n",
            "p-значение:  [0.72757187] для события PaymentScreenSuccessful\n",
            "Не получилось отвергнуть нулевую гипотезу, нет оснований считать доли разными\n"
          ]
        }
      ]
    },
    {
      "cell_type": "markdown",
      "metadata": {
        "id": "j1f58Xrrtej6"
      },
      "source": [
        "Разбиение на группы работает корректно - статистически значимых различий между группами 246/247, 247/248, 246/248 ни с одним событием нет."
      ]
    },
    {
      "cell_type": "markdown",
      "metadata": {
        "id": "6FNgZ6ZQJHcM"
      },
      "source": [
        "4) Аналогично поступите с группой с изменённым шрифтом. Сравните результаты с каждой из контрольных групп в отдельности по каждому событию. Сравните результаты с объединённой контрольной группой. Какие выводы из эксперимента можно сделать?"
      ]
    },
    {
      "cell_type": "code",
      "source": [
        "print('Сравнение групп 246+247 и 248:')\n",
        "print()\n",
        "hypothesis_test('246+247', 248, 0.05)"
      ],
      "metadata": {
        "colab": {
          "base_uri": "https://localhost:8080/"
        },
        "id": "Hk36eS5XrzR_",
        "outputId": "c2b4b6ee-673e-4882-8d90-a075d064fc40"
      },
      "execution_count": 36,
      "outputs": [
        {
          "output_type": "stream",
          "name": "stdout",
          "text": [
            "Сравнение групп 246+247 и 248:\n",
            "\n",
            "p-значение:  [0.18683559] для события CartScreenAppear\n",
            "Не получилось отвергнуть нулевую гипотезу, нет оснований считать доли разными\n",
            "p-значение:  [0.34866843] для события MainScreenAppear\n",
            "Не получилось отвергнуть нулевую гипотезу, нет оснований считать доли разными\n",
            "p-значение:  [0.44582745] для события OffersScreenAppear\n",
            "Не получилось отвергнуть нулевую гипотезу, нет оснований считать доли разными\n",
            "p-значение:  [0.61079187] для события PaymentScreenSuccessful\n",
            "Не получилось отвергнуть нулевую гипотезу, нет оснований считать доли разными\n"
          ]
        }
      ]
    },
    {
      "cell_type": "markdown",
      "metadata": {
        "id": "eWvWStBMA3pb"
      },
      "source": [
        "Согласно проведенным тестам, статистически значимых различий ни между контрольными 246 и 247 группами, ни между контрольными и экспериментальной, нет. Измененный дизайнерами шрифт никак не повлиял на воронку продаж продуктового приложения."
      ]
    },
    {
      "cell_type": "markdown",
      "metadata": {
        "id": "FyFzpjxwJJQL"
      },
      "source": [
        "5) Какой уровень значимости вы выбрали при проверке статистических гипотез выше? Посчитайте, сколько проверок статистических гипотез вы сделали. При уровне значимости 0.1 каждый десятый раз можно получать ложный результат. Какой уровень значимости стоит применить? Если вы хотите изменить его, проделайте предыдущие пункты и проверьте свои выводы."
      ]
    },
    {
      "cell_type": "markdown",
      "metadata": {
        "id": "3agQxonRiRXb"
      },
      "source": [
        "При множественном тесте с каждой новой проверкой гипотезы растёт вероятность ошибки первого рода. Чтобы снизить вероятность ложнопозитивного результата при множественном тестировании гипотез, применяют разные методы корректировки уровня значимости для уменьшения FWER - метод Бонферрони, метод Холма, метод Шидака."
      ]
    },
    {
      "cell_type": "markdown",
      "metadata": {
        "id": "KZ8_OGJtAwok"
      },
      "source": [
        "# Вывод:  \n",
        "В ходе проведенного выше анализа данных можно отметить:  \n",
        "\n",
        "1) В исследовании представлены данные с 25 июля 2019 года, причем в полном объеме - только в период с 1 по 7 августа 2019;  \n",
        "2) В данных присутствуют пользователи из трех экспериментальных групп - 246, 247 и 248;  \n",
        "3) Пользователи мобильного приложения могли участвовать в пяти событиях: переходить на главную страницу, затем на страницу с персональными предложениями, в корзину, оплачивать продукты и смотреть руководства. Первые четыре шли последовательно, с последним пунктом можно было ознакомиться на любом шаге;  \n",
        "4) Каждый пользователь в среднем совершает 20 переходов по событиям приложения;  \n",
        "5) Больше всего пользователей (почти 40%) терялось при переходе с главной страницы на страницу с персональными предложениями - рекомендовано протестировать этот переход;  \n",
        "6) Почти 48% пользователей при переходе на главную страницу в итоге совершает заказ через приложение;  \n",
        "7) Почти 95% пользователей после оформления корзины оплачивает покупку;  \n",
        "8) В раздел с инструкциями переходит всего 11% пользователей - необходимо поработать с наполнением или привлечением пользователей сюда;  \n",
        "9) При сравнении контрольных групп между собой, а также с экспериментальной группой, не найдено статистически значимых различий при уровне значимости 0,05 - данные собраны качественно, а замена шрифтов в приложении никак не повлияла на поведение пользователей."
      ]
    }
  ],
  "metadata": {
    "ExecuteTimeLog": [
      {
        "duration": 1147,
        "start_time": "2023-02-02T21:29:41.718Z"
      },
      {
        "duration": 348,
        "start_time": "2023-02-02T21:29:42.867Z"
      },
      {
        "duration": 11,
        "start_time": "2023-02-02T21:29:43.217Z"
      },
      {
        "duration": 23,
        "start_time": "2023-02-02T21:29:43.230Z"
      },
      {
        "duration": 8,
        "start_time": "2023-02-02T21:29:43.255Z"
      },
      {
        "duration": 42,
        "start_time": "2023-02-02T21:29:43.265Z"
      },
      {
        "duration": 68,
        "start_time": "2023-02-02T21:29:43.310Z"
      },
      {
        "duration": 72,
        "start_time": "2023-02-02T21:29:43.382Z"
      },
      {
        "duration": 8,
        "start_time": "2023-02-02T21:29:43.456Z"
      },
      {
        "duration": 119,
        "start_time": "2023-02-02T21:29:43.466Z"
      },
      {
        "duration": 32,
        "start_time": "2023-02-02T21:29:43.587Z"
      },
      {
        "duration": 19,
        "start_time": "2023-02-02T21:29:43.621Z"
      },
      {
        "duration": 13,
        "start_time": "2023-02-02T21:29:43.642Z"
      },
      {
        "duration": 20,
        "start_time": "2023-02-02T21:29:43.659Z"
      },
      {
        "duration": 41,
        "start_time": "2023-02-02T21:29:43.681Z"
      },
      {
        "duration": 493,
        "start_time": "2023-02-02T21:29:43.724Z"
      },
      {
        "duration": 15,
        "start_time": "2023-02-02T21:29:44.219Z"
      },
      {
        "duration": 46,
        "start_time": "2023-02-02T21:29:44.236Z"
      },
      {
        "duration": 39,
        "start_time": "2023-02-02T21:29:44.301Z"
      },
      {
        "duration": 28,
        "start_time": "2023-02-02T21:29:44.341Z"
      },
      {
        "duration": 104,
        "start_time": "2023-02-02T21:29:44.370Z"
      },
      {
        "duration": 24,
        "start_time": "2023-02-02T21:29:44.475Z"
      },
      {
        "duration": 18,
        "start_time": "2023-02-02T21:29:44.504Z"
      },
      {
        "duration": 35,
        "start_time": "2023-02-02T21:29:44.524Z"
      },
      {
        "duration": 53,
        "start_time": "2023-02-02T21:29:44.561Z"
      },
      {
        "duration": 22,
        "start_time": "2023-02-02T21:29:44.616Z"
      },
      {
        "duration": 4,
        "start_time": "2023-02-02T21:29:44.639Z"
      },
      {
        "duration": 67,
        "start_time": "2023-02-02T21:29:44.644Z"
      },
      {
        "duration": 37,
        "start_time": "2023-02-02T21:29:44.714Z"
      },
      {
        "duration": 58,
        "start_time": "2023-02-02T21:29:44.753Z"
      },
      {
        "duration": 161,
        "start_time": "2023-02-02T21:29:44.812Z"
      },
      {
        "duration": 148,
        "start_time": "2023-02-02T21:29:44.975Z"
      },
      {
        "duration": 368,
        "start_time": "2023-02-02T21:29:45.125Z"
      },
      {
        "duration": 36,
        "start_time": "2023-02-02T21:29:45.494Z"
      },
      {
        "duration": 235,
        "start_time": "2023-02-02T21:29:45.532Z"
      },
      {
        "duration": 1228,
        "start_time": "2023-02-02T21:52:40.097Z"
      },
      {
        "duration": 447,
        "start_time": "2023-02-02T21:52:41.327Z"
      },
      {
        "duration": 12,
        "start_time": "2023-02-02T21:52:41.776Z"
      },
      {
        "duration": 31,
        "start_time": "2023-02-02T21:52:41.790Z"
      },
      {
        "duration": 8,
        "start_time": "2023-02-02T21:52:41.824Z"
      },
      {
        "duration": 13,
        "start_time": "2023-02-02T21:52:41.834Z"
      },
      {
        "duration": 86,
        "start_time": "2023-02-02T21:52:41.848Z"
      },
      {
        "duration": 56,
        "start_time": "2023-02-02T21:52:41.936Z"
      },
      {
        "duration": 24,
        "start_time": "2023-02-02T21:52:41.994Z"
      },
      {
        "duration": 66,
        "start_time": "2023-02-02T21:52:42.020Z"
      },
      {
        "duration": 9,
        "start_time": "2023-02-02T21:52:42.087Z"
      },
      {
        "duration": 8,
        "start_time": "2023-02-02T21:52:42.109Z"
      },
      {
        "duration": 11,
        "start_time": "2023-02-02T21:52:42.119Z"
      },
      {
        "duration": 18,
        "start_time": "2023-02-02T21:52:42.134Z"
      },
      {
        "duration": 56,
        "start_time": "2023-02-02T21:52:42.154Z"
      },
      {
        "duration": 436,
        "start_time": "2023-02-02T21:52:42.212Z"
      },
      {
        "duration": 16,
        "start_time": "2023-02-02T21:52:42.649Z"
      },
      {
        "duration": 56,
        "start_time": "2023-02-02T21:52:42.667Z"
      },
      {
        "duration": 34,
        "start_time": "2023-02-02T21:52:42.725Z"
      },
      {
        "duration": 49,
        "start_time": "2023-02-02T21:52:42.761Z"
      },
      {
        "duration": 57,
        "start_time": "2023-02-02T21:52:42.812Z"
      },
      {
        "duration": 37,
        "start_time": "2023-02-02T21:52:42.870Z"
      },
      {
        "duration": 16,
        "start_time": "2023-02-02T21:52:42.910Z"
      },
      {
        "duration": 36,
        "start_time": "2023-02-02T21:52:42.927Z"
      },
      {
        "duration": 53,
        "start_time": "2023-02-02T21:52:42.964Z"
      },
      {
        "duration": 22,
        "start_time": "2023-02-02T21:52:43.018Z"
      },
      {
        "duration": 3,
        "start_time": "2023-02-02T21:52:43.042Z"
      },
      {
        "duration": 63,
        "start_time": "2023-02-02T21:52:43.046Z"
      },
      {
        "duration": 36,
        "start_time": "2023-02-02T21:52:43.111Z"
      },
      {
        "duration": 36,
        "start_time": "2023-02-02T21:52:43.148Z"
      },
      {
        "duration": 27,
        "start_time": "2023-02-02T21:52:43.185Z"
      },
      {
        "duration": 135,
        "start_time": "2023-02-02T21:52:43.214Z"
      },
      {
        "duration": 383,
        "start_time": "2023-02-02T21:52:43.351Z"
      },
      {
        "duration": 6,
        "start_time": "2023-02-02T21:52:43.736Z"
      },
      {
        "duration": 243,
        "start_time": "2023-02-02T21:52:43.743Z"
      },
      {
        "duration": 599,
        "start_time": "2023-02-02T21:57:54.490Z"
      },
      {
        "duration": 1323,
        "start_time": "2023-02-05T18:00:41.707Z"
      },
      {
        "duration": 412,
        "start_time": "2023-02-05T18:00:43.032Z"
      },
      {
        "duration": 13,
        "start_time": "2023-02-05T18:00:43.446Z"
      },
      {
        "duration": 24,
        "start_time": "2023-02-05T18:00:43.462Z"
      },
      {
        "duration": 16,
        "start_time": "2023-02-05T18:00:43.489Z"
      },
      {
        "duration": 42,
        "start_time": "2023-02-05T18:00:43.507Z"
      },
      {
        "duration": 89,
        "start_time": "2023-02-05T18:00:43.556Z"
      },
      {
        "duration": 66,
        "start_time": "2023-02-05T18:00:43.647Z"
      },
      {
        "duration": 26,
        "start_time": "2023-02-05T18:00:43.715Z"
      },
      {
        "duration": 110,
        "start_time": "2023-02-05T18:00:43.744Z"
      },
      {
        "duration": 10,
        "start_time": "2023-02-05T18:00:43.856Z"
      },
      {
        "duration": 7,
        "start_time": "2023-02-05T18:00:43.868Z"
      },
      {
        "duration": 12,
        "start_time": "2023-02-05T18:00:43.877Z"
      },
      {
        "duration": 33,
        "start_time": "2023-02-05T18:00:43.891Z"
      },
      {
        "duration": 48,
        "start_time": "2023-02-05T18:00:43.926Z"
      },
      {
        "duration": 431,
        "start_time": "2023-02-05T18:00:43.975Z"
      },
      {
        "duration": 604,
        "start_time": "2023-02-05T18:00:44.408Z"
      },
      {
        "duration": 27,
        "start_time": "2023-02-05T18:00:45.013Z"
      },
      {
        "duration": 61,
        "start_time": "2023-02-05T18:00:45.042Z"
      },
      {
        "duration": 58,
        "start_time": "2023-02-05T18:00:45.105Z"
      },
      {
        "duration": 26,
        "start_time": "2023-02-05T18:00:45.165Z"
      },
      {
        "duration": 84,
        "start_time": "2023-02-05T18:00:45.193Z"
      },
      {
        "duration": 21,
        "start_time": "2023-02-05T18:00:45.279Z"
      },
      {
        "duration": 14,
        "start_time": "2023-02-05T18:00:45.301Z"
      },
      {
        "duration": 35,
        "start_time": "2023-02-05T18:00:45.339Z"
      },
      {
        "duration": 36,
        "start_time": "2023-02-05T18:00:45.376Z"
      },
      {
        "duration": 39,
        "start_time": "2023-02-05T18:00:45.413Z"
      },
      {
        "duration": 4,
        "start_time": "2023-02-05T18:00:45.455Z"
      },
      {
        "duration": 49,
        "start_time": "2023-02-05T18:00:45.460Z"
      },
      {
        "duration": 56,
        "start_time": "2023-02-05T18:00:45.511Z"
      },
      {
        "duration": 41,
        "start_time": "2023-02-05T18:00:45.568Z"
      },
      {
        "duration": 7,
        "start_time": "2023-02-05T18:00:45.611Z"
      },
      {
        "duration": 163,
        "start_time": "2023-02-05T18:00:45.620Z"
      },
      {
        "duration": 388,
        "start_time": "2023-02-05T18:00:45.785Z"
      },
      {
        "duration": 7,
        "start_time": "2023-02-05T18:00:46.176Z"
      },
      {
        "duration": 239,
        "start_time": "2023-02-05T18:00:46.185Z"
      },
      {
        "duration": 157,
        "start_time": "2023-02-05T18:12:43.502Z"
      },
      {
        "duration": 8,
        "start_time": "2023-02-05T18:12:55.551Z"
      },
      {
        "duration": 298,
        "start_time": "2023-02-05T18:14:23.742Z"
      },
      {
        "duration": 1138,
        "start_time": "2023-02-05T18:14:30.589Z"
      },
      {
        "duration": 680,
        "start_time": "2023-02-05T18:14:31.729Z"
      },
      {
        "duration": 11,
        "start_time": "2023-02-05T18:14:32.411Z"
      },
      {
        "duration": 30,
        "start_time": "2023-02-05T18:14:32.424Z"
      },
      {
        "duration": 9,
        "start_time": "2023-02-05T18:14:32.455Z"
      },
      {
        "duration": 24,
        "start_time": "2023-02-05T18:14:32.466Z"
      },
      {
        "duration": 93,
        "start_time": "2023-02-05T18:14:32.491Z"
      },
      {
        "duration": 67,
        "start_time": "2023-02-05T18:14:32.586Z"
      },
      {
        "duration": 8,
        "start_time": "2023-02-05T18:14:32.655Z"
      },
      {
        "duration": 86,
        "start_time": "2023-02-05T18:14:32.665Z"
      },
      {
        "duration": 12,
        "start_time": "2023-02-05T18:14:32.753Z"
      },
      {
        "duration": 18,
        "start_time": "2023-02-05T18:14:32.767Z"
      },
      {
        "duration": 14,
        "start_time": "2023-02-05T18:14:32.786Z"
      },
      {
        "duration": 23,
        "start_time": "2023-02-05T18:14:32.802Z"
      },
      {
        "duration": 224,
        "start_time": "2023-02-05T18:14:32.839Z"
      },
      {
        "duration": 37,
        "start_time": "2023-02-05T18:14:33.065Z"
      },
      {
        "duration": 454,
        "start_time": "2023-02-05T18:14:33.103Z"
      },
      {
        "duration": 611,
        "start_time": "2023-02-05T18:14:33.559Z"
      },
      {
        "duration": 18,
        "start_time": "2023-02-05T18:14:34.172Z"
      },
      {
        "duration": 163,
        "start_time": "2023-02-05T18:14:34.192Z"
      },
      {
        "duration": 35,
        "start_time": "2023-02-05T18:14:34.357Z"
      },
      {
        "duration": 28,
        "start_time": "2023-02-05T18:14:34.393Z"
      },
      {
        "duration": 80,
        "start_time": "2023-02-05T18:14:34.422Z"
      },
      {
        "duration": 21,
        "start_time": "2023-02-05T18:14:34.504Z"
      },
      {
        "duration": 14,
        "start_time": "2023-02-05T18:14:34.541Z"
      },
      {
        "duration": 39,
        "start_time": "2023-02-05T18:14:34.557Z"
      },
      {
        "duration": 53,
        "start_time": "2023-02-05T18:14:34.598Z"
      },
      {
        "duration": 23,
        "start_time": "2023-02-05T18:14:34.655Z"
      },
      {
        "duration": 4,
        "start_time": "2023-02-05T18:14:34.679Z"
      },
      {
        "duration": 70,
        "start_time": "2023-02-05T18:14:34.685Z"
      },
      {
        "duration": 40,
        "start_time": "2023-02-05T18:14:34.757Z"
      },
      {
        "duration": 57,
        "start_time": "2023-02-05T18:14:34.799Z"
      },
      {
        "duration": 8,
        "start_time": "2023-02-05T18:14:34.858Z"
      },
      {
        "duration": 154,
        "start_time": "2023-02-05T18:14:34.868Z"
      },
      {
        "duration": 393,
        "start_time": "2023-02-05T18:14:35.024Z"
      },
      {
        "duration": 21,
        "start_time": "2023-02-05T18:14:35.419Z"
      },
      {
        "duration": 243,
        "start_time": "2023-02-05T18:14:35.442Z"
      },
      {
        "duration": 192,
        "start_time": "2023-02-05T18:15:45.287Z"
      },
      {
        "duration": 58,
        "start_time": "2023-02-05T18:15:57.709Z"
      },
      {
        "duration": 45,
        "start_time": "2023-02-05T18:16:11.620Z"
      },
      {
        "duration": 50,
        "start_time": "2023-02-05T18:16:19.348Z"
      },
      {
        "duration": 1185,
        "start_time": "2023-02-05T18:16:28.826Z"
      },
      {
        "duration": 744,
        "start_time": "2023-02-05T18:16:30.013Z"
      },
      {
        "duration": 11,
        "start_time": "2023-02-05T18:16:30.759Z"
      },
      {
        "duration": 37,
        "start_time": "2023-02-05T18:16:30.773Z"
      },
      {
        "duration": 9,
        "start_time": "2023-02-05T18:16:30.812Z"
      },
      {
        "duration": 27,
        "start_time": "2023-02-05T18:16:30.823Z"
      },
      {
        "duration": 68,
        "start_time": "2023-02-05T18:16:30.852Z"
      },
      {
        "duration": 80,
        "start_time": "2023-02-05T18:16:30.922Z"
      },
      {
        "duration": 8,
        "start_time": "2023-02-05T18:16:31.003Z"
      },
      {
        "duration": 93,
        "start_time": "2023-02-05T18:16:31.014Z"
      },
      {
        "duration": 11,
        "start_time": "2023-02-05T18:16:31.109Z"
      },
      {
        "duration": 50,
        "start_time": "2023-02-05T18:16:31.122Z"
      },
      {
        "duration": 34,
        "start_time": "2023-02-05T18:16:31.173Z"
      },
      {
        "duration": 42,
        "start_time": "2023-02-05T18:16:31.209Z"
      },
      {
        "duration": 46,
        "start_time": "2023-02-05T18:16:31.253Z"
      },
      {
        "duration": 0,
        "start_time": "2023-02-05T18:16:31.301Z"
      },
      {
        "duration": 0,
        "start_time": "2023-02-05T18:16:31.304Z"
      },
      {
        "duration": 0,
        "start_time": "2023-02-05T18:16:31.306Z"
      },
      {
        "duration": 0,
        "start_time": "2023-02-05T18:16:31.307Z"
      },
      {
        "duration": 0,
        "start_time": "2023-02-05T18:16:31.308Z"
      },
      {
        "duration": 0,
        "start_time": "2023-02-05T18:16:31.309Z"
      },
      {
        "duration": 0,
        "start_time": "2023-02-05T18:16:31.310Z"
      },
      {
        "duration": 0,
        "start_time": "2023-02-05T18:16:31.311Z"
      },
      {
        "duration": 0,
        "start_time": "2023-02-05T18:16:31.312Z"
      },
      {
        "duration": 0,
        "start_time": "2023-02-05T18:16:31.313Z"
      },
      {
        "duration": 0,
        "start_time": "2023-02-05T18:16:31.314Z"
      },
      {
        "duration": 0,
        "start_time": "2023-02-05T18:16:31.315Z"
      },
      {
        "duration": 0,
        "start_time": "2023-02-05T18:16:31.317Z"
      },
      {
        "duration": 0,
        "start_time": "2023-02-05T18:16:31.318Z"
      },
      {
        "duration": 0,
        "start_time": "2023-02-05T18:16:31.319Z"
      },
      {
        "duration": 0,
        "start_time": "2023-02-05T18:16:31.320Z"
      },
      {
        "duration": 0,
        "start_time": "2023-02-05T18:16:31.321Z"
      },
      {
        "duration": 0,
        "start_time": "2023-02-05T18:16:31.322Z"
      },
      {
        "duration": 0,
        "start_time": "2023-02-05T18:16:31.323Z"
      },
      {
        "duration": 0,
        "start_time": "2023-02-05T18:16:31.324Z"
      },
      {
        "duration": 0,
        "start_time": "2023-02-05T18:16:31.326Z"
      },
      {
        "duration": 0,
        "start_time": "2023-02-05T18:16:31.327Z"
      },
      {
        "duration": 44,
        "start_time": "2023-02-05T18:16:54.696Z"
      },
      {
        "duration": 221,
        "start_time": "2023-02-05T18:17:04.493Z"
      },
      {
        "duration": 1192,
        "start_time": "2023-02-05T18:17:34.720Z"
      },
      {
        "duration": 281,
        "start_time": "2023-02-05T18:17:35.913Z"
      },
      {
        "duration": 12,
        "start_time": "2023-02-05T18:17:36.196Z"
      },
      {
        "duration": 33,
        "start_time": "2023-02-05T18:17:36.210Z"
      },
      {
        "duration": 11,
        "start_time": "2023-02-05T18:17:36.245Z"
      },
      {
        "duration": 28,
        "start_time": "2023-02-05T18:17:36.258Z"
      },
      {
        "duration": 83,
        "start_time": "2023-02-05T18:17:36.289Z"
      },
      {
        "duration": 69,
        "start_time": "2023-02-05T18:17:36.374Z"
      },
      {
        "duration": 7,
        "start_time": "2023-02-05T18:17:36.445Z"
      },
      {
        "duration": 92,
        "start_time": "2023-02-05T18:17:36.455Z"
      },
      {
        "duration": 13,
        "start_time": "2023-02-05T18:17:36.549Z"
      },
      {
        "duration": 13,
        "start_time": "2023-02-05T18:17:36.564Z"
      },
      {
        "duration": 16,
        "start_time": "2023-02-05T18:17:36.579Z"
      },
      {
        "duration": 27,
        "start_time": "2023-02-05T18:17:36.597Z"
      },
      {
        "duration": 244,
        "start_time": "2023-02-05T18:17:36.626Z"
      },
      {
        "duration": 36,
        "start_time": "2023-02-05T18:17:36.872Z"
      },
      {
        "duration": 437,
        "start_time": "2023-02-05T18:17:36.910Z"
      },
      {
        "duration": 641,
        "start_time": "2023-02-05T18:17:37.349Z"
      },
      {
        "duration": 18,
        "start_time": "2023-02-05T18:17:37.992Z"
      },
      {
        "duration": 170,
        "start_time": "2023-02-05T18:17:38.012Z"
      },
      {
        "duration": 44,
        "start_time": "2023-02-05T18:17:38.184Z"
      },
      {
        "duration": 42,
        "start_time": "2023-02-05T18:17:38.229Z"
      },
      {
        "duration": 87,
        "start_time": "2023-02-05T18:17:38.273Z"
      },
      {
        "duration": 22,
        "start_time": "2023-02-05T18:17:38.363Z"
      },
      {
        "duration": 14,
        "start_time": "2023-02-05T18:17:38.387Z"
      },
      {
        "duration": 55,
        "start_time": "2023-02-05T18:17:38.402Z"
      },
      {
        "duration": 36,
        "start_time": "2023-02-05T18:17:38.458Z"
      },
      {
        "duration": 20,
        "start_time": "2023-02-05T18:17:38.497Z"
      },
      {
        "duration": 21,
        "start_time": "2023-02-05T18:17:38.519Z"
      },
      {
        "duration": 49,
        "start_time": "2023-02-05T18:17:38.542Z"
      },
      {
        "duration": 63,
        "start_time": "2023-02-05T18:17:38.592Z"
      },
      {
        "duration": 41,
        "start_time": "2023-02-05T18:17:38.657Z"
      },
      {
        "duration": 6,
        "start_time": "2023-02-05T18:17:38.700Z"
      },
      {
        "duration": 167,
        "start_time": "2023-02-05T18:17:38.708Z"
      },
      {
        "duration": 413,
        "start_time": "2023-02-05T18:17:38.877Z"
      },
      {
        "duration": 9,
        "start_time": "2023-02-05T18:17:39.293Z"
      },
      {
        "duration": 250,
        "start_time": "2023-02-05T18:17:39.304Z"
      },
      {
        "duration": 71,
        "start_time": "2023-02-05T18:17:53.939Z"
      },
      {
        "duration": 167,
        "start_time": "2023-02-05T18:18:00.165Z"
      },
      {
        "duration": 13,
        "start_time": "2023-02-05T18:18:42.324Z"
      },
      {
        "duration": 62,
        "start_time": "2023-02-05T18:19:13.695Z"
      },
      {
        "duration": 1278,
        "start_time": "2023-02-05T18:19:19.883Z"
      },
      {
        "duration": 337,
        "start_time": "2023-02-05T18:19:21.164Z"
      },
      {
        "duration": 11,
        "start_time": "2023-02-05T18:19:21.503Z"
      },
      {
        "duration": 38,
        "start_time": "2023-02-05T18:19:21.516Z"
      },
      {
        "duration": 9,
        "start_time": "2023-02-05T18:19:21.557Z"
      },
      {
        "duration": 23,
        "start_time": "2023-02-05T18:19:21.568Z"
      },
      {
        "duration": 83,
        "start_time": "2023-02-05T18:19:21.593Z"
      },
      {
        "duration": 65,
        "start_time": "2023-02-05T18:19:21.678Z"
      },
      {
        "duration": 8,
        "start_time": "2023-02-05T18:19:21.744Z"
      },
      {
        "duration": 71,
        "start_time": "2023-02-05T18:19:21.753Z"
      },
      {
        "duration": 21,
        "start_time": "2023-02-05T18:19:21.826Z"
      },
      {
        "duration": 9,
        "start_time": "2023-02-05T18:19:21.848Z"
      },
      {
        "duration": 10,
        "start_time": "2023-02-05T18:19:21.859Z"
      },
      {
        "duration": 21,
        "start_time": "2023-02-05T18:19:21.873Z"
      },
      {
        "duration": 259,
        "start_time": "2023-02-05T18:19:21.896Z"
      },
      {
        "duration": 0,
        "start_time": "2023-02-05T18:19:22.157Z"
      },
      {
        "duration": 0,
        "start_time": "2023-02-05T18:19:22.158Z"
      },
      {
        "duration": 0,
        "start_time": "2023-02-05T18:19:22.159Z"
      },
      {
        "duration": 0,
        "start_time": "2023-02-05T18:19:22.160Z"
      },
      {
        "duration": 0,
        "start_time": "2023-02-05T18:19:22.161Z"
      },
      {
        "duration": 0,
        "start_time": "2023-02-05T18:19:22.162Z"
      },
      {
        "duration": 0,
        "start_time": "2023-02-05T18:19:22.163Z"
      },
      {
        "duration": 0,
        "start_time": "2023-02-05T18:19:22.165Z"
      },
      {
        "duration": 0,
        "start_time": "2023-02-05T18:19:22.166Z"
      },
      {
        "duration": 0,
        "start_time": "2023-02-05T18:19:22.167Z"
      },
      {
        "duration": 0,
        "start_time": "2023-02-05T18:19:22.168Z"
      },
      {
        "duration": 0,
        "start_time": "2023-02-05T18:19:22.169Z"
      },
      {
        "duration": 0,
        "start_time": "2023-02-05T18:19:22.170Z"
      },
      {
        "duration": 0,
        "start_time": "2023-02-05T18:19:22.171Z"
      },
      {
        "duration": 0,
        "start_time": "2023-02-05T18:19:22.173Z"
      },
      {
        "duration": 0,
        "start_time": "2023-02-05T18:19:22.174Z"
      },
      {
        "duration": 0,
        "start_time": "2023-02-05T18:19:22.175Z"
      },
      {
        "duration": 0,
        "start_time": "2023-02-05T18:19:22.177Z"
      },
      {
        "duration": 0,
        "start_time": "2023-02-05T18:19:22.178Z"
      },
      {
        "duration": 0,
        "start_time": "2023-02-05T18:19:22.179Z"
      },
      {
        "duration": 0,
        "start_time": "2023-02-05T18:19:22.181Z"
      },
      {
        "duration": 0,
        "start_time": "2023-02-05T18:19:22.182Z"
      },
      {
        "duration": 369,
        "start_time": "2023-02-05T18:19:38.553Z"
      },
      {
        "duration": 69,
        "start_time": "2023-02-05T18:19:50.120Z"
      },
      {
        "duration": 60,
        "start_time": "2023-02-05T18:20:00.716Z"
      },
      {
        "duration": 63,
        "start_time": "2023-02-05T18:20:21.650Z"
      },
      {
        "duration": 58,
        "start_time": "2023-02-05T18:20:26.140Z"
      },
      {
        "duration": 64,
        "start_time": "2023-02-05T18:20:35.219Z"
      },
      {
        "duration": 179,
        "start_time": "2023-02-05T18:23:18.708Z"
      },
      {
        "duration": 152,
        "start_time": "2023-02-05T18:23:28.066Z"
      },
      {
        "duration": 155,
        "start_time": "2023-02-05T18:23:41.322Z"
      },
      {
        "duration": 175,
        "start_time": "2023-02-05T18:23:44.674Z"
      },
      {
        "duration": 1127,
        "start_time": "2023-02-05T18:23:52.779Z"
      },
      {
        "duration": 346,
        "start_time": "2023-02-05T18:23:53.908Z"
      },
      {
        "duration": 17,
        "start_time": "2023-02-05T18:23:54.256Z"
      },
      {
        "duration": 25,
        "start_time": "2023-02-05T18:23:54.274Z"
      },
      {
        "duration": 9,
        "start_time": "2023-02-05T18:23:54.301Z"
      },
      {
        "duration": 43,
        "start_time": "2023-02-05T18:23:54.311Z"
      },
      {
        "duration": 67,
        "start_time": "2023-02-05T18:23:54.356Z"
      },
      {
        "duration": 71,
        "start_time": "2023-02-05T18:23:54.425Z"
      },
      {
        "duration": 8,
        "start_time": "2023-02-05T18:23:54.498Z"
      },
      {
        "duration": 97,
        "start_time": "2023-02-05T18:23:54.508Z"
      },
      {
        "duration": 10,
        "start_time": "2023-02-05T18:23:54.606Z"
      },
      {
        "duration": 6,
        "start_time": "2023-02-05T18:23:54.617Z"
      },
      {
        "duration": 20,
        "start_time": "2023-02-05T18:23:54.625Z"
      },
      {
        "duration": 21,
        "start_time": "2023-02-05T18:23:54.648Z"
      },
      {
        "duration": 178,
        "start_time": "2023-02-05T18:23:54.670Z"
      },
      {
        "duration": 34,
        "start_time": "2023-02-05T18:23:54.850Z"
      },
      {
        "duration": 429,
        "start_time": "2023-02-05T18:23:54.885Z"
      },
      {
        "duration": 624,
        "start_time": "2023-02-05T18:23:55.316Z"
      },
      {
        "duration": 17,
        "start_time": "2023-02-05T18:23:55.941Z"
      },
      {
        "duration": 162,
        "start_time": "2023-02-05T18:23:55.960Z"
      },
      {
        "duration": 45,
        "start_time": "2023-02-05T18:23:56.124Z"
      },
      {
        "duration": 26,
        "start_time": "2023-02-05T18:23:56.171Z"
      },
      {
        "duration": 86,
        "start_time": "2023-02-05T18:23:56.199Z"
      },
      {
        "duration": 19,
        "start_time": "2023-02-05T18:23:56.288Z"
      },
      {
        "duration": 13,
        "start_time": "2023-02-05T18:23:56.309Z"
      },
      {
        "duration": 34,
        "start_time": "2023-02-05T18:23:56.340Z"
      },
      {
        "duration": 39,
        "start_time": "2023-02-05T18:23:56.376Z"
      },
      {
        "duration": 44,
        "start_time": "2023-02-05T18:23:56.417Z"
      },
      {
        "duration": 3,
        "start_time": "2023-02-05T18:23:56.464Z"
      },
      {
        "duration": 68,
        "start_time": "2023-02-05T18:23:56.469Z"
      },
      {
        "duration": 51,
        "start_time": "2023-02-05T18:23:56.540Z"
      },
      {
        "duration": 60,
        "start_time": "2023-02-05T18:23:56.592Z"
      },
      {
        "duration": 8,
        "start_time": "2023-02-05T18:23:56.653Z"
      },
      {
        "duration": 163,
        "start_time": "2023-02-05T18:23:56.662Z"
      },
      {
        "duration": 403,
        "start_time": "2023-02-05T18:23:56.827Z"
      },
      {
        "duration": 15,
        "start_time": "2023-02-05T18:23:57.231Z"
      },
      {
        "duration": 232,
        "start_time": "2023-02-05T18:23:57.248Z"
      },
      {
        "duration": 624,
        "start_time": "2023-02-05T18:28:27.095Z"
      },
      {
        "duration": 1141,
        "start_time": "2023-02-05T18:28:43.475Z"
      },
      {
        "duration": 560,
        "start_time": "2023-02-05T18:28:44.618Z"
      },
      {
        "duration": 11,
        "start_time": "2023-02-05T18:28:45.180Z"
      },
      {
        "duration": 24,
        "start_time": "2023-02-05T18:28:45.193Z"
      },
      {
        "duration": 26,
        "start_time": "2023-02-05T18:28:45.219Z"
      },
      {
        "duration": 15,
        "start_time": "2023-02-05T18:28:45.247Z"
      },
      {
        "duration": 88,
        "start_time": "2023-02-05T18:28:45.264Z"
      },
      {
        "duration": 61,
        "start_time": "2023-02-05T18:28:45.353Z"
      },
      {
        "duration": 8,
        "start_time": "2023-02-05T18:28:45.415Z"
      },
      {
        "duration": 85,
        "start_time": "2023-02-05T18:28:45.426Z"
      },
      {
        "duration": 8,
        "start_time": "2023-02-05T18:28:45.513Z"
      },
      {
        "duration": 18,
        "start_time": "2023-02-05T18:28:45.523Z"
      },
      {
        "duration": 10,
        "start_time": "2023-02-05T18:28:45.543Z"
      },
      {
        "duration": 25,
        "start_time": "2023-02-05T18:28:45.555Z"
      },
      {
        "duration": 175,
        "start_time": "2023-02-05T18:28:45.581Z"
      },
      {
        "duration": 37,
        "start_time": "2023-02-05T18:28:45.758Z"
      },
      {
        "duration": 726,
        "start_time": "2023-02-05T18:28:45.797Z"
      },
      {
        "duration": 36,
        "start_time": "2023-02-05T18:28:46.525Z"
      },
      {
        "duration": 83,
        "start_time": "2023-02-05T18:28:46.563Z"
      },
      {
        "duration": 38,
        "start_time": "2023-02-05T18:28:46.648Z"
      },
      {
        "duration": 25,
        "start_time": "2023-02-05T18:28:46.688Z"
      },
      {
        "duration": 84,
        "start_time": "2023-02-05T18:28:46.715Z"
      },
      {
        "duration": 22,
        "start_time": "2023-02-05T18:28:46.802Z"
      },
      {
        "duration": 14,
        "start_time": "2023-02-05T18:28:46.840Z"
      },
      {
        "duration": 45,
        "start_time": "2023-02-05T18:28:46.855Z"
      },
      {
        "duration": 56,
        "start_time": "2023-02-05T18:28:46.902Z"
      },
      {
        "duration": 23,
        "start_time": "2023-02-05T18:28:46.960Z"
      },
      {
        "duration": 3,
        "start_time": "2023-02-05T18:28:46.987Z"
      },
      {
        "duration": 73,
        "start_time": "2023-02-05T18:28:46.992Z"
      },
      {
        "duration": 41,
        "start_time": "2023-02-05T18:28:47.067Z"
      },
      {
        "duration": 60,
        "start_time": "2023-02-05T18:28:47.110Z"
      },
      {
        "duration": 7,
        "start_time": "2023-02-05T18:28:47.172Z"
      },
      {
        "duration": 166,
        "start_time": "2023-02-05T18:28:47.181Z"
      },
      {
        "duration": 380,
        "start_time": "2023-02-05T18:28:47.349Z"
      },
      {
        "duration": 7,
        "start_time": "2023-02-05T18:28:47.739Z"
      },
      {
        "duration": 246,
        "start_time": "2023-02-05T18:28:47.748Z"
      },
      {
        "duration": 1406,
        "start_time": "2023-02-09T11:59:45.853Z"
      },
      {
        "duration": 783,
        "start_time": "2023-02-09T11:59:47.261Z"
      },
      {
        "duration": 13,
        "start_time": "2023-02-09T11:59:48.046Z"
      },
      {
        "duration": 34,
        "start_time": "2023-02-09T11:59:48.070Z"
      },
      {
        "duration": 9,
        "start_time": "2023-02-09T11:59:48.114Z"
      },
      {
        "duration": 21,
        "start_time": "2023-02-09T11:59:48.125Z"
      },
      {
        "duration": 92,
        "start_time": "2023-02-09T11:59:48.148Z"
      },
      {
        "duration": 69,
        "start_time": "2023-02-09T11:59:48.242Z"
      },
      {
        "duration": 7,
        "start_time": "2023-02-09T11:59:48.313Z"
      },
      {
        "duration": 103,
        "start_time": "2023-02-09T11:59:48.323Z"
      },
      {
        "duration": 10,
        "start_time": "2023-02-09T11:59:48.428Z"
      },
      {
        "duration": 16,
        "start_time": "2023-02-09T11:59:48.440Z"
      },
      {
        "duration": 23,
        "start_time": "2023-02-09T11:59:48.457Z"
      },
      {
        "duration": 38,
        "start_time": "2023-02-09T11:59:48.483Z"
      },
      {
        "duration": 189,
        "start_time": "2023-02-09T11:59:48.523Z"
      },
      {
        "duration": 38,
        "start_time": "2023-02-09T11:59:48.714Z"
      },
      {
        "duration": 725,
        "start_time": "2023-02-09T11:59:48.754Z"
      },
      {
        "duration": 34,
        "start_time": "2023-02-09T11:59:49.481Z"
      },
      {
        "duration": 78,
        "start_time": "2023-02-09T11:59:49.517Z"
      },
      {
        "duration": 49,
        "start_time": "2023-02-09T11:59:49.597Z"
      },
      {
        "duration": 27,
        "start_time": "2023-02-09T11:59:49.648Z"
      },
      {
        "duration": 87,
        "start_time": "2023-02-09T11:59:49.677Z"
      },
      {
        "duration": 36,
        "start_time": "2023-02-09T11:59:49.766Z"
      },
      {
        "duration": 19,
        "start_time": "2023-02-09T11:59:49.809Z"
      },
      {
        "duration": 58,
        "start_time": "2023-02-09T11:59:49.831Z"
      },
      {
        "duration": 52,
        "start_time": "2023-02-09T11:59:49.891Z"
      },
      {
        "duration": 20,
        "start_time": "2023-02-09T11:59:49.945Z"
      },
      {
        "duration": 4,
        "start_time": "2023-02-09T11:59:49.968Z"
      },
      {
        "duration": 48,
        "start_time": "2023-02-09T11:59:49.995Z"
      },
      {
        "duration": 61,
        "start_time": "2023-02-09T11:59:50.044Z"
      },
      {
        "duration": 41,
        "start_time": "2023-02-09T11:59:50.106Z"
      },
      {
        "duration": 8,
        "start_time": "2023-02-09T11:59:50.149Z"
      },
      {
        "duration": 158,
        "start_time": "2023-02-09T11:59:50.159Z"
      },
      {
        "duration": 388,
        "start_time": "2023-02-09T11:59:50.318Z"
      },
      {
        "duration": 8,
        "start_time": "2023-02-09T11:59:50.708Z"
      },
      {
        "duration": 258,
        "start_time": "2023-02-09T11:59:50.717Z"
      },
      {
        "duration": 77,
        "start_time": "2023-02-09T12:06:11.137Z"
      },
      {
        "duration": 80,
        "start_time": "2023-02-09T12:06:29.669Z"
      },
      {
        "duration": 77,
        "start_time": "2023-02-09T12:06:46.624Z"
      },
      {
        "duration": 78,
        "start_time": "2023-02-09T12:08:31.655Z"
      },
      {
        "duration": 1059,
        "start_time": "2023-02-09T12:08:39.613Z"
      },
      {
        "duration": 516,
        "start_time": "2023-02-09T12:08:40.674Z"
      },
      {
        "duration": 16,
        "start_time": "2023-02-09T12:08:41.196Z"
      },
      {
        "duration": 21,
        "start_time": "2023-02-09T12:08:41.214Z"
      },
      {
        "duration": 8,
        "start_time": "2023-02-09T12:08:41.237Z"
      },
      {
        "duration": 16,
        "start_time": "2023-02-09T12:08:41.246Z"
      },
      {
        "duration": 83,
        "start_time": "2023-02-09T12:08:41.263Z"
      },
      {
        "duration": 66,
        "start_time": "2023-02-09T12:08:41.348Z"
      },
      {
        "duration": 7,
        "start_time": "2023-02-09T12:08:41.416Z"
      },
      {
        "duration": 89,
        "start_time": "2023-02-09T12:08:41.425Z"
      },
      {
        "duration": 8,
        "start_time": "2023-02-09T12:08:41.516Z"
      },
      {
        "duration": 71,
        "start_time": "2023-02-09T12:08:41.525Z"
      },
      {
        "duration": 0,
        "start_time": "2023-02-09T12:08:41.598Z"
      },
      {
        "duration": 0,
        "start_time": "2023-02-09T12:08:41.599Z"
      },
      {
        "duration": 0,
        "start_time": "2023-02-09T12:08:41.600Z"
      },
      {
        "duration": 0,
        "start_time": "2023-02-09T12:08:41.601Z"
      },
      {
        "duration": 0,
        "start_time": "2023-02-09T12:08:41.604Z"
      },
      {
        "duration": 0,
        "start_time": "2023-02-09T12:08:41.609Z"
      },
      {
        "duration": 0,
        "start_time": "2023-02-09T12:08:41.611Z"
      },
      {
        "duration": 0,
        "start_time": "2023-02-09T12:08:41.612Z"
      },
      {
        "duration": 0,
        "start_time": "2023-02-09T12:08:41.614Z"
      },
      {
        "duration": 0,
        "start_time": "2023-02-09T12:08:41.615Z"
      },
      {
        "duration": 0,
        "start_time": "2023-02-09T12:08:41.616Z"
      },
      {
        "duration": 0,
        "start_time": "2023-02-09T12:08:41.617Z"
      },
      {
        "duration": 0,
        "start_time": "2023-02-09T12:08:41.618Z"
      },
      {
        "duration": 0,
        "start_time": "2023-02-09T12:08:41.620Z"
      },
      {
        "duration": 0,
        "start_time": "2023-02-09T12:08:41.621Z"
      },
      {
        "duration": 0,
        "start_time": "2023-02-09T12:08:41.624Z"
      },
      {
        "duration": 0,
        "start_time": "2023-02-09T12:08:41.625Z"
      },
      {
        "duration": 0,
        "start_time": "2023-02-09T12:08:41.626Z"
      },
      {
        "duration": 0,
        "start_time": "2023-02-09T12:08:41.627Z"
      },
      {
        "duration": 0,
        "start_time": "2023-02-09T12:08:41.628Z"
      },
      {
        "duration": 0,
        "start_time": "2023-02-09T12:08:41.629Z"
      },
      {
        "duration": 0,
        "start_time": "2023-02-09T12:08:41.630Z"
      },
      {
        "duration": 0,
        "start_time": "2023-02-09T12:08:41.631Z"
      },
      {
        "duration": 0,
        "start_time": "2023-02-09T12:08:41.632Z"
      },
      {
        "duration": 0,
        "start_time": "2023-02-09T12:08:41.634Z"
      },
      {
        "duration": 68,
        "start_time": "2023-02-09T12:09:37.530Z"
      },
      {
        "duration": 3,
        "start_time": "2023-02-09T12:09:44.253Z"
      },
      {
        "duration": 3,
        "start_time": "2023-02-09T12:09:50.559Z"
      },
      {
        "duration": 3,
        "start_time": "2023-02-09T12:10:06.931Z"
      },
      {
        "duration": 136,
        "start_time": "2023-02-09T12:10:44.062Z"
      },
      {
        "duration": 3,
        "start_time": "2023-02-09T12:10:47.306Z"
      },
      {
        "duration": 5,
        "start_time": "2023-02-09T12:12:14.741Z"
      },
      {
        "duration": 6,
        "start_time": "2023-02-09T12:12:42.001Z"
      },
      {
        "duration": 117,
        "start_time": "2023-02-09T12:13:08.380Z"
      },
      {
        "duration": 2,
        "start_time": "2023-02-09T12:13:15.473Z"
      },
      {
        "duration": 46,
        "start_time": "2023-02-09T12:13:18.395Z"
      },
      {
        "duration": 3,
        "start_time": "2023-02-09T12:13:58.753Z"
      },
      {
        "duration": 10,
        "start_time": "2023-02-09T12:14:00.304Z"
      },
      {
        "duration": 3,
        "start_time": "2023-02-09T12:14:08.080Z"
      },
      {
        "duration": 3,
        "start_time": "2023-02-09T12:14:26.652Z"
      },
      {
        "duration": 12,
        "start_time": "2023-02-09T12:14:27.281Z"
      },
      {
        "duration": 3,
        "start_time": "2023-02-09T12:14:30.648Z"
      },
      {
        "duration": 9,
        "start_time": "2023-02-09T12:14:33.866Z"
      },
      {
        "duration": 3,
        "start_time": "2023-02-09T12:14:46.453Z"
      },
      {
        "duration": 8,
        "start_time": "2023-02-09T12:14:47.053Z"
      },
      {
        "duration": 2,
        "start_time": "2023-02-09T12:15:07.154Z"
      },
      {
        "duration": 16,
        "start_time": "2023-02-09T12:15:08.613Z"
      },
      {
        "duration": 3,
        "start_time": "2023-02-09T12:15:16.868Z"
      },
      {
        "duration": 68,
        "start_time": "2023-02-09T12:15:17.960Z"
      },
      {
        "duration": 273,
        "start_time": "2023-02-09T12:15:33.600Z"
      },
      {
        "duration": 60,
        "start_time": "2023-02-09T12:15:35.508Z"
      },
      {
        "duration": 3,
        "start_time": "2023-02-09T12:15:43.319Z"
      },
      {
        "duration": 161,
        "start_time": "2023-02-09T12:15:43.781Z"
      },
      {
        "duration": 12,
        "start_time": "2023-02-09T12:15:50.894Z"
      },
      {
        "duration": 133,
        "start_time": "2023-02-09T12:15:51.232Z"
      },
      {
        "duration": 3,
        "start_time": "2023-02-09T12:16:46.514Z"
      },
      {
        "duration": 130,
        "start_time": "2023-02-09T12:16:47.673Z"
      },
      {
        "duration": 4,
        "start_time": "2023-02-09T12:17:06.243Z"
      },
      {
        "duration": 138,
        "start_time": "2023-02-09T12:17:07.153Z"
      },
      {
        "duration": 3,
        "start_time": "2023-02-09T12:18:27.004Z"
      },
      {
        "duration": 3,
        "start_time": "2023-02-09T12:18:37.273Z"
      },
      {
        "duration": 1131,
        "start_time": "2023-02-09T12:18:43.391Z"
      },
      {
        "duration": 493,
        "start_time": "2023-02-09T12:18:44.524Z"
      },
      {
        "duration": 3,
        "start_time": "2023-02-09T12:18:45.019Z"
      },
      {
        "duration": 129,
        "start_time": "2023-02-09T12:18:45.025Z"
      },
      {
        "duration": 6,
        "start_time": "2023-02-09T12:18:45.155Z"
      },
      {
        "duration": 35,
        "start_time": "2023-02-09T12:18:45.162Z"
      },
      {
        "duration": 66,
        "start_time": "2023-02-09T12:18:45.207Z"
      },
      {
        "duration": 56,
        "start_time": "2023-02-09T12:18:45.274Z"
      },
      {
        "duration": 7,
        "start_time": "2023-02-09T12:18:45.331Z"
      },
      {
        "duration": 88,
        "start_time": "2023-02-09T12:18:45.340Z"
      },
      {
        "duration": 10,
        "start_time": "2023-02-09T12:18:45.429Z"
      },
      {
        "duration": 11,
        "start_time": "2023-02-09T12:18:45.441Z"
      },
      {
        "duration": 9,
        "start_time": "2023-02-09T12:18:45.454Z"
      },
      {
        "duration": 37,
        "start_time": "2023-02-09T12:18:45.465Z"
      },
      {
        "duration": 160,
        "start_time": "2023-02-09T12:18:45.504Z"
      },
      {
        "duration": 46,
        "start_time": "2023-02-09T12:18:45.666Z"
      },
      {
        "duration": 690,
        "start_time": "2023-02-09T12:18:45.714Z"
      },
      {
        "duration": 20,
        "start_time": "2023-02-09T12:18:46.408Z"
      },
      {
        "duration": 72,
        "start_time": "2023-02-09T12:18:46.430Z"
      },
      {
        "duration": 33,
        "start_time": "2023-02-09T12:18:46.504Z"
      },
      {
        "duration": 23,
        "start_time": "2023-02-09T12:18:46.539Z"
      },
      {
        "duration": 86,
        "start_time": "2023-02-09T12:18:46.564Z"
      },
      {
        "duration": 25,
        "start_time": "2023-02-09T12:18:46.654Z"
      },
      {
        "duration": 35,
        "start_time": "2023-02-09T12:18:46.681Z"
      },
      {
        "duration": 56,
        "start_time": "2023-02-09T12:18:46.718Z"
      },
      {
        "duration": 49,
        "start_time": "2023-02-09T12:18:46.776Z"
      },
      {
        "duration": 23,
        "start_time": "2023-02-09T12:18:46.827Z"
      },
      {
        "duration": 3,
        "start_time": "2023-02-09T12:18:46.854Z"
      },
      {
        "duration": 69,
        "start_time": "2023-02-09T12:18:46.859Z"
      },
      {
        "duration": 41,
        "start_time": "2023-02-09T12:18:46.930Z"
      },
      {
        "duration": 53,
        "start_time": "2023-02-09T12:18:46.972Z"
      },
      {
        "duration": 6,
        "start_time": "2023-02-09T12:18:47.027Z"
      },
      {
        "duration": 146,
        "start_time": "2023-02-09T12:18:47.034Z"
      },
      {
        "duration": 354,
        "start_time": "2023-02-09T12:18:47.182Z"
      },
      {
        "duration": 6,
        "start_time": "2023-02-09T12:18:47.537Z"
      },
      {
        "duration": 217,
        "start_time": "2023-02-09T12:18:47.545Z"
      },
      {
        "duration": 3,
        "start_time": "2023-02-09T12:19:51.738Z"
      },
      {
        "duration": 161,
        "start_time": "2023-02-09T12:19:52.793Z"
      },
      {
        "duration": 1148,
        "start_time": "2023-02-09T12:19:58.183Z"
      },
      {
        "duration": 340,
        "start_time": "2023-02-09T12:19:59.333Z"
      },
      {
        "duration": 2,
        "start_time": "2023-02-09T12:19:59.675Z"
      },
      {
        "duration": 122,
        "start_time": "2023-02-09T12:19:59.692Z"
      },
      {
        "duration": 6,
        "start_time": "2023-02-09T12:19:59.816Z"
      },
      {
        "duration": 17,
        "start_time": "2023-02-09T12:19:59.824Z"
      },
      {
        "duration": 76,
        "start_time": "2023-02-09T12:19:59.842Z"
      },
      {
        "duration": 54,
        "start_time": "2023-02-09T12:19:59.920Z"
      },
      {
        "duration": 30,
        "start_time": "2023-02-09T12:19:59.976Z"
      },
      {
        "duration": 76,
        "start_time": "2023-02-09T12:20:00.010Z"
      },
      {
        "duration": 16,
        "start_time": "2023-02-09T12:20:00.088Z"
      },
      {
        "duration": 25,
        "start_time": "2023-02-09T12:20:00.106Z"
      },
      {
        "duration": 21,
        "start_time": "2023-02-09T12:20:00.133Z"
      },
      {
        "duration": 46,
        "start_time": "2023-02-09T12:20:00.156Z"
      },
      {
        "duration": 159,
        "start_time": "2023-02-09T12:20:00.205Z"
      },
      {
        "duration": 51,
        "start_time": "2023-02-09T12:20:00.366Z"
      },
      {
        "duration": 731,
        "start_time": "2023-02-09T12:20:00.419Z"
      },
      {
        "duration": 21,
        "start_time": "2023-02-09T12:20:01.151Z"
      },
      {
        "duration": 106,
        "start_time": "2023-02-09T12:20:01.174Z"
      },
      {
        "duration": 39,
        "start_time": "2023-02-09T12:20:01.282Z"
      },
      {
        "duration": 35,
        "start_time": "2023-02-09T12:20:01.322Z"
      },
      {
        "duration": 89,
        "start_time": "2023-02-09T12:20:01.359Z"
      },
      {
        "duration": 55,
        "start_time": "2023-02-09T12:20:01.450Z"
      },
      {
        "duration": 25,
        "start_time": "2023-02-09T12:20:01.513Z"
      },
      {
        "duration": 83,
        "start_time": "2023-02-09T12:20:01.540Z"
      },
      {
        "duration": 59,
        "start_time": "2023-02-09T12:20:01.625Z"
      },
      {
        "duration": 52,
        "start_time": "2023-02-09T12:20:01.686Z"
      },
      {
        "duration": 22,
        "start_time": "2023-02-09T12:20:01.741Z"
      },
      {
        "duration": 98,
        "start_time": "2023-02-09T12:20:01.765Z"
      },
      {
        "duration": 56,
        "start_time": "2023-02-09T12:20:01.866Z"
      },
      {
        "duration": 45,
        "start_time": "2023-02-09T12:20:01.924Z"
      },
      {
        "duration": 67,
        "start_time": "2023-02-09T12:20:01.973Z"
      },
      {
        "duration": 179,
        "start_time": "2023-02-09T12:20:02.043Z"
      },
      {
        "duration": 336,
        "start_time": "2023-02-09T12:20:02.224Z"
      },
      {
        "duration": 6,
        "start_time": "2023-02-09T12:20:02.562Z"
      },
      {
        "duration": 230,
        "start_time": "2023-02-09T12:20:02.570Z"
      },
      {
        "duration": 4,
        "start_time": "2023-02-09T12:21:34.471Z"
      },
      {
        "duration": 176,
        "start_time": "2023-02-09T12:21:34.809Z"
      },
      {
        "duration": 7,
        "start_time": "2023-02-09T12:22:26.312Z"
      },
      {
        "duration": 164,
        "start_time": "2023-02-09T12:22:26.984Z"
      },
      {
        "duration": 1188,
        "start_time": "2023-02-09T12:23:32.982Z"
      },
      {
        "duration": 601,
        "start_time": "2023-02-09T12:23:34.172Z"
      },
      {
        "duration": 3,
        "start_time": "2023-02-09T12:23:34.775Z"
      },
      {
        "duration": 195,
        "start_time": "2023-02-09T12:23:34.780Z"
      },
      {
        "duration": 6,
        "start_time": "2023-02-09T12:23:34.977Z"
      },
      {
        "duration": 122,
        "start_time": "2023-02-09T12:23:34.984Z"
      },
      {
        "duration": 7,
        "start_time": "2023-02-09T12:23:35.108Z"
      },
      {
        "duration": 100,
        "start_time": "2023-02-09T12:23:35.116Z"
      },
      {
        "duration": 9,
        "start_time": "2023-02-09T12:23:35.218Z"
      },
      {
        "duration": 13,
        "start_time": "2023-02-09T12:23:35.231Z"
      },
      {
        "duration": 13,
        "start_time": "2023-02-09T12:23:35.246Z"
      },
      {
        "duration": 30,
        "start_time": "2023-02-09T12:23:35.260Z"
      },
      {
        "duration": 189,
        "start_time": "2023-02-09T12:23:35.298Z"
      },
      {
        "duration": 56,
        "start_time": "2023-02-09T12:23:35.489Z"
      },
      {
        "duration": 721,
        "start_time": "2023-02-09T12:23:35.547Z"
      },
      {
        "duration": 35,
        "start_time": "2023-02-09T12:23:36.269Z"
      },
      {
        "duration": 248,
        "start_time": "2023-02-09T12:23:36.311Z"
      },
      {
        "duration": 54,
        "start_time": "2023-02-09T12:23:36.561Z"
      },
      {
        "duration": 39,
        "start_time": "2023-02-09T12:23:36.617Z"
      },
      {
        "duration": 99,
        "start_time": "2023-02-09T12:23:36.658Z"
      },
      {
        "duration": 25,
        "start_time": "2023-02-09T12:23:36.759Z"
      },
      {
        "duration": 16,
        "start_time": "2023-02-09T12:23:36.793Z"
      },
      {
        "duration": 49,
        "start_time": "2023-02-09T12:23:36.811Z"
      },
      {
        "duration": 60,
        "start_time": "2023-02-09T12:23:36.862Z"
      },
      {
        "duration": 28,
        "start_time": "2023-02-09T12:23:36.926Z"
      },
      {
        "duration": 9,
        "start_time": "2023-02-09T12:23:36.956Z"
      },
      {
        "duration": 59,
        "start_time": "2023-02-09T12:23:36.968Z"
      },
      {
        "duration": 48,
        "start_time": "2023-02-09T12:23:37.031Z"
      },
      {
        "duration": 54,
        "start_time": "2023-02-09T12:23:37.081Z"
      },
      {
        "duration": 7,
        "start_time": "2023-02-09T12:23:37.137Z"
      },
      {
        "duration": 146,
        "start_time": "2023-02-09T12:23:37.145Z"
      },
      {
        "duration": 372,
        "start_time": "2023-02-09T12:23:37.296Z"
      },
      {
        "duration": 7,
        "start_time": "2023-02-09T12:23:37.670Z"
      },
      {
        "duration": 240,
        "start_time": "2023-02-09T12:23:37.678Z"
      },
      {
        "duration": 1075,
        "start_time": "2023-02-09T12:26:23.908Z"
      },
      {
        "duration": 397,
        "start_time": "2023-02-09T12:26:24.985Z"
      },
      {
        "duration": 10,
        "start_time": "2023-02-09T12:26:25.384Z"
      },
      {
        "duration": 141,
        "start_time": "2023-02-09T12:26:25.396Z"
      },
      {
        "duration": 6,
        "start_time": "2023-02-09T12:26:25.539Z"
      },
      {
        "duration": 75,
        "start_time": "2023-02-09T12:26:25.546Z"
      },
      {
        "duration": 8,
        "start_time": "2023-02-09T12:26:25.623Z"
      },
      {
        "duration": 91,
        "start_time": "2023-02-09T12:26:25.633Z"
      },
      {
        "duration": 11,
        "start_time": "2023-02-09T12:26:25.725Z"
      },
      {
        "duration": 11,
        "start_time": "2023-02-09T12:26:25.737Z"
      },
      {
        "duration": 11,
        "start_time": "2023-02-09T12:26:25.751Z"
      },
      {
        "duration": 36,
        "start_time": "2023-02-09T12:26:25.764Z"
      },
      {
        "duration": 182,
        "start_time": "2023-02-09T12:26:25.801Z"
      },
      {
        "duration": 43,
        "start_time": "2023-02-09T12:26:25.993Z"
      },
      {
        "duration": 728,
        "start_time": "2023-02-09T12:26:26.037Z"
      },
      {
        "duration": 40,
        "start_time": "2023-02-09T12:26:26.767Z"
      },
      {
        "duration": 89,
        "start_time": "2023-02-09T12:26:26.811Z"
      },
      {
        "duration": 43,
        "start_time": "2023-02-09T12:26:26.906Z"
      },
      {
        "duration": 40,
        "start_time": "2023-02-09T12:26:26.952Z"
      },
      {
        "duration": 80,
        "start_time": "2023-02-09T12:26:26.994Z"
      },
      {
        "duration": 34,
        "start_time": "2023-02-09T12:26:27.076Z"
      },
      {
        "duration": 13,
        "start_time": "2023-02-09T12:26:27.112Z"
      },
      {
        "duration": 37,
        "start_time": "2023-02-09T12:26:27.127Z"
      },
      {
        "duration": 51,
        "start_time": "2023-02-09T12:26:27.168Z"
      },
      {
        "duration": 19,
        "start_time": "2023-02-09T12:26:27.220Z"
      },
      {
        "duration": 4,
        "start_time": "2023-02-09T12:26:27.241Z"
      },
      {
        "duration": 83,
        "start_time": "2023-02-09T12:26:27.247Z"
      },
      {
        "duration": 39,
        "start_time": "2023-02-09T12:26:27.331Z"
      },
      {
        "duration": 55,
        "start_time": "2023-02-09T12:26:27.372Z"
      },
      {
        "duration": 6,
        "start_time": "2023-02-09T12:26:27.429Z"
      },
      {
        "duration": 139,
        "start_time": "2023-02-09T12:26:27.437Z"
      },
      {
        "duration": 342,
        "start_time": "2023-02-09T12:26:27.577Z"
      },
      {
        "duration": 7,
        "start_time": "2023-02-09T12:26:27.921Z"
      },
      {
        "duration": 219,
        "start_time": "2023-02-09T12:26:27.929Z"
      },
      {
        "duration": 5,
        "start_time": "2023-02-09T12:27:58.847Z"
      },
      {
        "duration": 273,
        "start_time": "2023-02-09T12:27:59.074Z"
      },
      {
        "duration": 4,
        "start_time": "2023-02-09T12:28:29.838Z"
      },
      {
        "duration": 238,
        "start_time": "2023-02-09T12:28:30.134Z"
      },
      {
        "duration": 97,
        "start_time": "2023-02-09T12:29:15.245Z"
      },
      {
        "duration": 241,
        "start_time": "2023-02-09T12:29:15.544Z"
      },
      {
        "duration": 7,
        "start_time": "2023-02-09T12:30:20.933Z"
      },
      {
        "duration": 246,
        "start_time": "2023-02-09T12:30:21.576Z"
      },
      {
        "duration": 4,
        "start_time": "2023-02-09T12:30:29.640Z"
      },
      {
        "duration": 344,
        "start_time": "2023-02-09T12:30:30.122Z"
      },
      {
        "duration": 5,
        "start_time": "2023-02-09T12:30:37.016Z"
      },
      {
        "duration": 253,
        "start_time": "2023-02-09T12:30:37.376Z"
      },
      {
        "duration": 1197,
        "start_time": "2023-02-09T12:30:45.087Z"
      },
      {
        "duration": 462,
        "start_time": "2023-02-09T12:30:46.291Z"
      },
      {
        "duration": 6,
        "start_time": "2023-02-09T12:30:46.756Z"
      },
      {
        "duration": 303,
        "start_time": "2023-02-09T12:30:46.765Z"
      },
      {
        "duration": 7,
        "start_time": "2023-02-09T12:30:47.070Z"
      },
      {
        "duration": 89,
        "start_time": "2023-02-09T12:30:47.079Z"
      },
      {
        "duration": 9,
        "start_time": "2023-02-09T12:30:47.170Z"
      },
      {
        "duration": 89,
        "start_time": "2023-02-09T12:30:47.181Z"
      },
      {
        "duration": 10,
        "start_time": "2023-02-09T12:30:47.272Z"
      },
      {
        "duration": 4,
        "start_time": "2023-02-09T12:30:47.292Z"
      },
      {
        "duration": 24,
        "start_time": "2023-02-09T12:30:47.299Z"
      },
      {
        "duration": 23,
        "start_time": "2023-02-09T12:30:47.325Z"
      },
      {
        "duration": 221,
        "start_time": "2023-02-09T12:30:47.349Z"
      },
      {
        "duration": 68,
        "start_time": "2023-02-09T12:30:47.572Z"
      },
      {
        "duration": 782,
        "start_time": "2023-02-09T12:30:47.643Z"
      },
      {
        "duration": 26,
        "start_time": "2023-02-09T12:30:48.429Z"
      },
      {
        "duration": 102,
        "start_time": "2023-02-09T12:30:48.456Z"
      },
      {
        "duration": 53,
        "start_time": "2023-02-09T12:30:48.560Z"
      },
      {
        "duration": 29,
        "start_time": "2023-02-09T12:30:48.616Z"
      },
      {
        "duration": 110,
        "start_time": "2023-02-09T12:30:48.647Z"
      },
      {
        "duration": 21,
        "start_time": "2023-02-09T12:30:48.759Z"
      },
      {
        "duration": 28,
        "start_time": "2023-02-09T12:30:48.782Z"
      },
      {
        "duration": 42,
        "start_time": "2023-02-09T12:30:48.814Z"
      },
      {
        "duration": 67,
        "start_time": "2023-02-09T12:30:48.858Z"
      },
      {
        "duration": 27,
        "start_time": "2023-02-09T12:30:48.926Z"
      },
      {
        "duration": 4,
        "start_time": "2023-02-09T12:30:48.955Z"
      },
      {
        "duration": 72,
        "start_time": "2023-02-09T12:30:48.961Z"
      },
      {
        "duration": 64,
        "start_time": "2023-02-09T12:30:49.037Z"
      },
      {
        "duration": 47,
        "start_time": "2023-02-09T12:30:49.103Z"
      },
      {
        "duration": 9,
        "start_time": "2023-02-09T12:30:49.152Z"
      },
      {
        "duration": 171,
        "start_time": "2023-02-09T12:30:49.163Z"
      },
      {
        "duration": 389,
        "start_time": "2023-02-09T12:30:49.336Z"
      },
      {
        "duration": 7,
        "start_time": "2023-02-09T12:30:49.727Z"
      },
      {
        "duration": 265,
        "start_time": "2023-02-09T12:30:49.736Z"
      },
      {
        "duration": 109,
        "start_time": "2023-02-09T13:19:29.180Z"
      },
      {
        "duration": 16,
        "start_time": "2023-02-09T13:19:45.784Z"
      },
      {
        "duration": 1186,
        "start_time": "2023-02-09T13:19:53.242Z"
      },
      {
        "duration": 461,
        "start_time": "2023-02-09T13:19:54.432Z"
      },
      {
        "duration": 9,
        "start_time": "2023-02-09T13:19:54.894Z"
      },
      {
        "duration": 277,
        "start_time": "2023-02-09T13:19:54.907Z"
      },
      {
        "duration": 7,
        "start_time": "2023-02-09T13:19:55.187Z"
      },
      {
        "duration": 103,
        "start_time": "2023-02-09T13:19:55.196Z"
      },
      {
        "duration": 8,
        "start_time": "2023-02-09T13:19:55.301Z"
      },
      {
        "duration": 88,
        "start_time": "2023-02-09T13:19:55.311Z"
      },
      {
        "duration": 11,
        "start_time": "2023-02-09T13:19:55.401Z"
      },
      {
        "duration": 18,
        "start_time": "2023-02-09T13:19:55.414Z"
      },
      {
        "duration": 22,
        "start_time": "2023-02-09T13:19:55.434Z"
      },
      {
        "duration": 32,
        "start_time": "2023-02-09T13:19:55.458Z"
      },
      {
        "duration": 165,
        "start_time": "2023-02-09T13:19:55.492Z"
      },
      {
        "duration": 57,
        "start_time": "2023-02-09T13:19:55.660Z"
      },
      {
        "duration": 935,
        "start_time": "2023-02-09T13:19:55.718Z"
      },
      {
        "duration": 38,
        "start_time": "2023-02-09T13:19:56.655Z"
      },
      {
        "duration": 126,
        "start_time": "2023-02-09T13:19:56.695Z"
      },
      {
        "duration": 52,
        "start_time": "2023-02-09T13:19:56.823Z"
      },
      {
        "duration": 46,
        "start_time": "2023-02-09T13:19:56.879Z"
      },
      {
        "duration": 98,
        "start_time": "2023-02-09T13:19:56.927Z"
      },
      {
        "duration": 22,
        "start_time": "2023-02-09T13:19:57.026Z"
      },
      {
        "duration": 24,
        "start_time": "2023-02-09T13:19:57.050Z"
      },
      {
        "duration": 55,
        "start_time": "2023-02-09T13:19:57.075Z"
      },
      {
        "duration": 531,
        "start_time": "2023-02-09T13:19:57.131Z"
      },
      {
        "duration": 314,
        "start_time": "2023-02-09T13:19:57.664Z"
      },
      {
        "duration": 0,
        "start_time": "2023-02-09T13:19:57.980Z"
      },
      {
        "duration": 1,
        "start_time": "2023-02-09T13:19:57.981Z"
      },
      {
        "duration": 0,
        "start_time": "2023-02-09T13:19:57.991Z"
      },
      {
        "duration": 0,
        "start_time": "2023-02-09T13:19:57.993Z"
      },
      {
        "duration": 0,
        "start_time": "2023-02-09T13:19:57.995Z"
      },
      {
        "duration": 0,
        "start_time": "2023-02-09T13:19:57.996Z"
      },
      {
        "duration": 0,
        "start_time": "2023-02-09T13:19:57.998Z"
      },
      {
        "duration": 0,
        "start_time": "2023-02-09T13:19:57.999Z"
      },
      {
        "duration": 0,
        "start_time": "2023-02-09T13:19:58.000Z"
      },
      {
        "duration": 0,
        "start_time": "2023-02-09T13:19:58.002Z"
      },
      {
        "duration": 29,
        "start_time": "2023-02-09T13:20:26.463Z"
      },
      {
        "duration": 27,
        "start_time": "2023-02-09T13:20:38.670Z"
      },
      {
        "duration": 70,
        "start_time": "2023-02-09T13:20:51.889Z"
      },
      {
        "duration": 70,
        "start_time": "2023-02-09T13:21:25.038Z"
      },
      {
        "duration": 71,
        "start_time": "2023-02-09T13:21:58.441Z"
      },
      {
        "duration": 59,
        "start_time": "2023-02-09T13:22:18.370Z"
      },
      {
        "duration": 29,
        "start_time": "2023-02-09T13:22:50.954Z"
      },
      {
        "duration": 28,
        "start_time": "2023-02-09T13:23:10.593Z"
      },
      {
        "duration": 78,
        "start_time": "2023-02-09T13:23:22.965Z"
      },
      {
        "duration": 14,
        "start_time": "2023-02-09T13:23:57.536Z"
      },
      {
        "duration": 1141,
        "start_time": "2023-02-09T13:24:04.155Z"
      },
      {
        "duration": 513,
        "start_time": "2023-02-09T13:24:05.298Z"
      },
      {
        "duration": 5,
        "start_time": "2023-02-09T13:24:05.813Z"
      },
      {
        "duration": 245,
        "start_time": "2023-02-09T13:24:05.821Z"
      },
      {
        "duration": 5,
        "start_time": "2023-02-09T13:24:06.067Z"
      },
      {
        "duration": 69,
        "start_time": "2023-02-09T13:24:06.074Z"
      },
      {
        "duration": 7,
        "start_time": "2023-02-09T13:24:06.144Z"
      },
      {
        "duration": 84,
        "start_time": "2023-02-09T13:24:06.152Z"
      },
      {
        "duration": 12,
        "start_time": "2023-02-09T13:24:06.238Z"
      },
      {
        "duration": 11,
        "start_time": "2023-02-09T13:24:06.253Z"
      },
      {
        "duration": 14,
        "start_time": "2023-02-09T13:24:06.266Z"
      },
      {
        "duration": 31,
        "start_time": "2023-02-09T13:24:06.281Z"
      },
      {
        "duration": 211,
        "start_time": "2023-02-09T13:24:06.314Z"
      },
      {
        "duration": 54,
        "start_time": "2023-02-09T13:24:06.528Z"
      },
      {
        "duration": 701,
        "start_time": "2023-02-09T13:24:06.595Z"
      },
      {
        "duration": 27,
        "start_time": "2023-02-09T13:24:07.299Z"
      },
      {
        "duration": 73,
        "start_time": "2023-02-09T13:24:07.329Z"
      },
      {
        "duration": 33,
        "start_time": "2023-02-09T13:24:07.403Z"
      },
      {
        "duration": 23,
        "start_time": "2023-02-09T13:24:07.437Z"
      },
      {
        "duration": 77,
        "start_time": "2023-02-09T13:24:07.462Z"
      },
      {
        "duration": 18,
        "start_time": "2023-02-09T13:24:07.541Z"
      },
      {
        "duration": 32,
        "start_time": "2023-02-09T13:24:07.561Z"
      },
      {
        "duration": 35,
        "start_time": "2023-02-09T13:24:07.595Z"
      },
      {
        "duration": 467,
        "start_time": "2023-02-09T13:24:07.631Z"
      },
      {
        "duration": 298,
        "start_time": "2023-02-09T13:24:08.101Z"
      },
      {
        "duration": 0,
        "start_time": "2023-02-09T13:24:08.401Z"
      },
      {
        "duration": 0,
        "start_time": "2023-02-09T13:24:08.403Z"
      },
      {
        "duration": 0,
        "start_time": "2023-02-09T13:24:08.404Z"
      },
      {
        "duration": 0,
        "start_time": "2023-02-09T13:24:08.405Z"
      },
      {
        "duration": 0,
        "start_time": "2023-02-09T13:24:08.407Z"
      },
      {
        "duration": 0,
        "start_time": "2023-02-09T13:24:08.408Z"
      },
      {
        "duration": 0,
        "start_time": "2023-02-09T13:24:08.409Z"
      },
      {
        "duration": 0,
        "start_time": "2023-02-09T13:24:08.410Z"
      },
      {
        "duration": 0,
        "start_time": "2023-02-09T13:24:08.411Z"
      },
      {
        "duration": 0,
        "start_time": "2023-02-09T13:24:08.412Z"
      },
      {
        "duration": 56,
        "start_time": "2023-02-09T13:24:34.196Z"
      },
      {
        "duration": 1220,
        "start_time": "2023-02-09T13:24:38.212Z"
      },
      {
        "duration": 339,
        "start_time": "2023-02-09T13:24:39.434Z"
      },
      {
        "duration": 4,
        "start_time": "2023-02-09T13:24:39.775Z"
      },
      {
        "duration": 201,
        "start_time": "2023-02-09T13:24:39.781Z"
      },
      {
        "duration": 10,
        "start_time": "2023-02-09T13:24:39.985Z"
      },
      {
        "duration": 65,
        "start_time": "2023-02-09T13:24:39.996Z"
      },
      {
        "duration": 27,
        "start_time": "2023-02-09T13:24:40.064Z"
      },
      {
        "duration": 80,
        "start_time": "2023-02-09T13:24:40.093Z"
      },
      {
        "duration": 10,
        "start_time": "2023-02-09T13:24:40.174Z"
      },
      {
        "duration": 13,
        "start_time": "2023-02-09T13:24:40.186Z"
      },
      {
        "duration": 13,
        "start_time": "2023-02-09T13:24:40.201Z"
      },
      {
        "duration": 27,
        "start_time": "2023-02-09T13:24:40.216Z"
      },
      {
        "duration": 178,
        "start_time": "2023-02-09T13:24:40.245Z"
      },
      {
        "duration": 35,
        "start_time": "2023-02-09T13:24:40.426Z"
      },
      {
        "duration": 678,
        "start_time": "2023-02-09T13:24:40.463Z"
      },
      {
        "duration": 24,
        "start_time": "2023-02-09T13:24:41.143Z"
      },
      {
        "duration": 81,
        "start_time": "2023-02-09T13:24:41.169Z"
      },
      {
        "duration": 46,
        "start_time": "2023-02-09T13:24:41.252Z"
      },
      {
        "duration": 24,
        "start_time": "2023-02-09T13:24:41.300Z"
      },
      {
        "duration": 72,
        "start_time": "2023-02-09T13:24:41.325Z"
      },
      {
        "duration": 17,
        "start_time": "2023-02-09T13:24:41.399Z"
      },
      {
        "duration": 13,
        "start_time": "2023-02-09T13:24:41.418Z"
      },
      {
        "duration": 39,
        "start_time": "2023-02-09T13:24:41.433Z"
      },
      {
        "duration": 115,
        "start_time": "2023-02-09T13:24:41.492Z"
      },
      {
        "duration": 0,
        "start_time": "2023-02-09T13:24:41.608Z"
      },
      {
        "duration": 0,
        "start_time": "2023-02-09T13:24:41.610Z"
      },
      {
        "duration": 0,
        "start_time": "2023-02-09T13:24:41.611Z"
      },
      {
        "duration": 0,
        "start_time": "2023-02-09T13:24:41.613Z"
      },
      {
        "duration": 0,
        "start_time": "2023-02-09T13:24:41.614Z"
      },
      {
        "duration": 0,
        "start_time": "2023-02-09T13:24:41.615Z"
      },
      {
        "duration": 0,
        "start_time": "2023-02-09T13:24:41.617Z"
      },
      {
        "duration": 0,
        "start_time": "2023-02-09T13:24:41.618Z"
      },
      {
        "duration": 0,
        "start_time": "2023-02-09T13:24:41.619Z"
      },
      {
        "duration": 0,
        "start_time": "2023-02-09T13:24:41.620Z"
      },
      {
        "duration": 0,
        "start_time": "2023-02-09T13:24:41.621Z"
      },
      {
        "duration": 458,
        "start_time": "2023-02-09T13:25:17.519Z"
      },
      {
        "duration": 56,
        "start_time": "2023-02-09T13:26:18.503Z"
      },
      {
        "duration": 1246,
        "start_time": "2023-02-09T13:26:25.525Z"
      },
      {
        "duration": 464,
        "start_time": "2023-02-09T13:26:26.773Z"
      },
      {
        "duration": 6,
        "start_time": "2023-02-09T13:26:27.239Z"
      },
      {
        "duration": 180,
        "start_time": "2023-02-09T13:26:27.247Z"
      },
      {
        "duration": 5,
        "start_time": "2023-02-09T13:26:27.429Z"
      },
      {
        "duration": 82,
        "start_time": "2023-02-09T13:26:27.436Z"
      },
      {
        "duration": 6,
        "start_time": "2023-02-09T13:26:27.520Z"
      },
      {
        "duration": 88,
        "start_time": "2023-02-09T13:26:27.528Z"
      },
      {
        "duration": 9,
        "start_time": "2023-02-09T13:26:27.617Z"
      },
      {
        "duration": 11,
        "start_time": "2023-02-09T13:26:27.628Z"
      },
      {
        "duration": 15,
        "start_time": "2023-02-09T13:26:27.641Z"
      },
      {
        "duration": 34,
        "start_time": "2023-02-09T13:26:27.658Z"
      },
      {
        "duration": 167,
        "start_time": "2023-02-09T13:26:27.694Z"
      },
      {
        "duration": 43,
        "start_time": "2023-02-09T13:26:27.863Z"
      },
      {
        "duration": 648,
        "start_time": "2023-02-09T13:26:27.908Z"
      },
      {
        "duration": 21,
        "start_time": "2023-02-09T13:26:28.558Z"
      },
      {
        "duration": 53,
        "start_time": "2023-02-09T13:26:28.592Z"
      },
      {
        "duration": 47,
        "start_time": "2023-02-09T13:26:28.646Z"
      },
      {
        "duration": 35,
        "start_time": "2023-02-09T13:26:28.697Z"
      },
      {
        "duration": 95,
        "start_time": "2023-02-09T13:26:28.734Z"
      },
      {
        "duration": 25,
        "start_time": "2023-02-09T13:26:28.831Z"
      },
      {
        "duration": 14,
        "start_time": "2023-02-09T13:26:28.858Z"
      },
      {
        "duration": 63,
        "start_time": "2023-02-09T13:26:28.873Z"
      },
      {
        "duration": 109,
        "start_time": "2023-02-09T13:26:28.937Z"
      },
      {
        "duration": 0,
        "start_time": "2023-02-09T13:26:29.048Z"
      },
      {
        "duration": 0,
        "start_time": "2023-02-09T13:26:29.049Z"
      },
      {
        "duration": 0,
        "start_time": "2023-02-09T13:26:29.050Z"
      },
      {
        "duration": 0,
        "start_time": "2023-02-09T13:26:29.051Z"
      },
      {
        "duration": 0,
        "start_time": "2023-02-09T13:26:29.051Z"
      },
      {
        "duration": 0,
        "start_time": "2023-02-09T13:26:29.052Z"
      },
      {
        "duration": 0,
        "start_time": "2023-02-09T13:26:29.054Z"
      },
      {
        "duration": 0,
        "start_time": "2023-02-09T13:26:29.055Z"
      },
      {
        "duration": 0,
        "start_time": "2023-02-09T13:26:29.057Z"
      },
      {
        "duration": 1,
        "start_time": "2023-02-09T13:26:29.057Z"
      },
      {
        "duration": 0,
        "start_time": "2023-02-09T13:26:29.059Z"
      },
      {
        "duration": 462,
        "start_time": "2023-02-09T13:30:05.242Z"
      },
      {
        "duration": 53,
        "start_time": "2023-02-09T13:30:36.798Z"
      },
      {
        "duration": 78,
        "start_time": "2023-02-09T13:31:13.644Z"
      },
      {
        "duration": 59,
        "start_time": "2023-02-09T13:38:12.032Z"
      },
      {
        "duration": 1293,
        "start_time": "2023-02-09T13:38:23.486Z"
      },
      {
        "duration": 56,
        "start_time": "2023-02-09T13:38:29.070Z"
      },
      {
        "duration": 18,
        "start_time": "2023-02-09T13:42:04.881Z"
      },
      {
        "duration": 16,
        "start_time": "2023-02-09T13:42:12.164Z"
      },
      {
        "duration": 18,
        "start_time": "2023-02-09T13:42:18.447Z"
      },
      {
        "duration": 67,
        "start_time": "2023-02-09T13:42:31.972Z"
      },
      {
        "duration": 53,
        "start_time": "2023-02-09T13:42:44.044Z"
      },
      {
        "duration": 25,
        "start_time": "2023-02-09T13:43:19.560Z"
      },
      {
        "duration": 22,
        "start_time": "2023-02-09T13:43:33.552Z"
      },
      {
        "duration": 63,
        "start_time": "2023-02-09T13:43:45.954Z"
      },
      {
        "duration": 21,
        "start_time": "2023-02-09T13:43:57.436Z"
      },
      {
        "duration": 49,
        "start_time": "2023-02-09T13:44:03.449Z"
      },
      {
        "duration": 50,
        "start_time": "2023-02-09T13:44:17.015Z"
      },
      {
        "duration": 1234,
        "start_time": "2023-02-09T13:44:44.091Z"
      },
      {
        "duration": 481,
        "start_time": "2023-02-09T13:44:45.327Z"
      },
      {
        "duration": 6,
        "start_time": "2023-02-09T13:44:45.813Z"
      },
      {
        "duration": 228,
        "start_time": "2023-02-09T13:44:45.821Z"
      },
      {
        "duration": 5,
        "start_time": "2023-02-09T13:44:46.051Z"
      },
      {
        "duration": 80,
        "start_time": "2023-02-09T13:44:46.058Z"
      },
      {
        "duration": 7,
        "start_time": "2023-02-09T13:44:46.140Z"
      },
      {
        "duration": 81,
        "start_time": "2023-02-09T13:44:46.148Z"
      },
      {
        "duration": 9,
        "start_time": "2023-02-09T13:44:46.231Z"
      },
      {
        "duration": 11,
        "start_time": "2023-02-09T13:44:46.242Z"
      },
      {
        "duration": 14,
        "start_time": "2023-02-09T13:44:46.255Z"
      },
      {
        "duration": 42,
        "start_time": "2023-02-09T13:44:46.271Z"
      },
      {
        "duration": 170,
        "start_time": "2023-02-09T13:44:46.317Z"
      },
      {
        "duration": 32,
        "start_time": "2023-02-09T13:44:46.491Z"
      },
      {
        "duration": 771,
        "start_time": "2023-02-09T13:44:46.525Z"
      },
      {
        "duration": 21,
        "start_time": "2023-02-09T13:44:47.298Z"
      },
      {
        "duration": 71,
        "start_time": "2023-02-09T13:44:47.321Z"
      },
      {
        "duration": 33,
        "start_time": "2023-02-09T13:44:47.393Z"
      },
      {
        "duration": 23,
        "start_time": "2023-02-09T13:44:47.427Z"
      },
      {
        "duration": 78,
        "start_time": "2023-02-09T13:44:47.452Z"
      },
      {
        "duration": 16,
        "start_time": "2023-02-09T13:44:47.532Z"
      },
      {
        "duration": 12,
        "start_time": "2023-02-09T13:44:47.550Z"
      },
      {
        "duration": 53,
        "start_time": "2023-02-09T13:44:47.564Z"
      },
      {
        "duration": 119,
        "start_time": "2023-02-09T13:44:47.618Z"
      },
      {
        "duration": 0,
        "start_time": "2023-02-09T13:44:47.739Z"
      },
      {
        "duration": 0,
        "start_time": "2023-02-09T13:44:47.740Z"
      },
      {
        "duration": 0,
        "start_time": "2023-02-09T13:44:47.742Z"
      },
      {
        "duration": 0,
        "start_time": "2023-02-09T13:44:47.743Z"
      },
      {
        "duration": 0,
        "start_time": "2023-02-09T13:44:47.744Z"
      },
      {
        "duration": 0,
        "start_time": "2023-02-09T13:44:47.745Z"
      },
      {
        "duration": 0,
        "start_time": "2023-02-09T13:44:47.746Z"
      },
      {
        "duration": 0,
        "start_time": "2023-02-09T13:44:47.747Z"
      },
      {
        "duration": 0,
        "start_time": "2023-02-09T13:44:47.748Z"
      },
      {
        "duration": 0,
        "start_time": "2023-02-09T13:44:47.749Z"
      },
      {
        "duration": 0,
        "start_time": "2023-02-09T13:44:47.750Z"
      },
      {
        "duration": 475,
        "start_time": "2023-02-09T13:45:52.218Z"
      },
      {
        "duration": 87,
        "start_time": "2023-02-09T13:47:28.152Z"
      },
      {
        "duration": 17,
        "start_time": "2023-02-09T13:47:43.292Z"
      },
      {
        "duration": 1144,
        "start_time": "2023-02-09T13:48:04.158Z"
      },
      {
        "duration": 445,
        "start_time": "2023-02-09T13:48:05.304Z"
      },
      {
        "duration": 5,
        "start_time": "2023-02-09T13:48:05.751Z"
      },
      {
        "duration": 187,
        "start_time": "2023-02-09T13:48:05.758Z"
      },
      {
        "duration": 5,
        "start_time": "2023-02-09T13:48:05.948Z"
      },
      {
        "duration": 79,
        "start_time": "2023-02-09T13:48:05.954Z"
      },
      {
        "duration": 7,
        "start_time": "2023-02-09T13:48:06.035Z"
      },
      {
        "duration": 85,
        "start_time": "2023-02-09T13:48:06.044Z"
      },
      {
        "duration": 9,
        "start_time": "2023-02-09T13:48:06.131Z"
      },
      {
        "duration": 18,
        "start_time": "2023-02-09T13:48:06.142Z"
      },
      {
        "duration": 12,
        "start_time": "2023-02-09T13:48:06.162Z"
      },
      {
        "duration": 35,
        "start_time": "2023-02-09T13:48:06.176Z"
      },
      {
        "duration": 227,
        "start_time": "2023-02-09T13:48:06.212Z"
      },
      {
        "duration": 63,
        "start_time": "2023-02-09T13:48:06.443Z"
      },
      {
        "duration": 699,
        "start_time": "2023-02-09T13:48:06.508Z"
      },
      {
        "duration": 22,
        "start_time": "2023-02-09T13:48:07.209Z"
      },
      {
        "duration": 70,
        "start_time": "2023-02-09T13:48:07.233Z"
      },
      {
        "duration": 33,
        "start_time": "2023-02-09T13:48:07.305Z"
      },
      {
        "duration": 24,
        "start_time": "2023-02-09T13:48:07.339Z"
      },
      {
        "duration": 101,
        "start_time": "2023-02-09T13:48:07.365Z"
      },
      {
        "duration": 30,
        "start_time": "2023-02-09T13:48:07.468Z"
      },
      {
        "duration": 13,
        "start_time": "2023-02-09T13:48:07.500Z"
      },
      {
        "duration": 42,
        "start_time": "2023-02-09T13:48:07.514Z"
      },
      {
        "duration": 81,
        "start_time": "2023-02-09T13:48:07.557Z"
      },
      {
        "duration": 118,
        "start_time": "2023-02-09T13:48:07.639Z"
      },
      {
        "duration": 0,
        "start_time": "2023-02-09T13:48:07.758Z"
      },
      {
        "duration": 0,
        "start_time": "2023-02-09T13:48:07.759Z"
      },
      {
        "duration": 0,
        "start_time": "2023-02-09T13:48:07.761Z"
      },
      {
        "duration": 0,
        "start_time": "2023-02-09T13:48:07.762Z"
      },
      {
        "duration": 0,
        "start_time": "2023-02-09T13:48:07.763Z"
      },
      {
        "duration": 0,
        "start_time": "2023-02-09T13:48:07.765Z"
      },
      {
        "duration": 0,
        "start_time": "2023-02-09T13:48:07.766Z"
      },
      {
        "duration": 0,
        "start_time": "2023-02-09T13:48:07.768Z"
      },
      {
        "duration": 0,
        "start_time": "2023-02-09T13:48:07.769Z"
      },
      {
        "duration": 0,
        "start_time": "2023-02-09T13:48:07.771Z"
      },
      {
        "duration": 0,
        "start_time": "2023-02-09T13:48:07.791Z"
      },
      {
        "duration": 95,
        "start_time": "2023-02-09T13:48:23.921Z"
      },
      {
        "duration": 20,
        "start_time": "2023-02-09T13:49:55.848Z"
      },
      {
        "duration": 1183,
        "start_time": "2023-02-09T13:49:59.837Z"
      },
      {
        "duration": 388,
        "start_time": "2023-02-09T13:50:01.022Z"
      },
      {
        "duration": 6,
        "start_time": "2023-02-09T13:50:01.415Z"
      },
      {
        "duration": 186,
        "start_time": "2023-02-09T13:50:01.423Z"
      },
      {
        "duration": 5,
        "start_time": "2023-02-09T13:50:01.611Z"
      },
      {
        "duration": 94,
        "start_time": "2023-02-09T13:50:01.618Z"
      },
      {
        "duration": 7,
        "start_time": "2023-02-09T13:50:01.714Z"
      },
      {
        "duration": 85,
        "start_time": "2023-02-09T13:50:01.722Z"
      },
      {
        "duration": 9,
        "start_time": "2023-02-09T13:50:01.810Z"
      },
      {
        "duration": 28,
        "start_time": "2023-02-09T13:50:01.821Z"
      },
      {
        "duration": 23,
        "start_time": "2023-02-09T13:50:01.851Z"
      },
      {
        "duration": 48,
        "start_time": "2023-02-09T13:50:01.876Z"
      },
      {
        "duration": 186,
        "start_time": "2023-02-09T13:50:01.926Z"
      },
      {
        "duration": 32,
        "start_time": "2023-02-09T13:50:02.114Z"
      },
      {
        "duration": 632,
        "start_time": "2023-02-09T13:50:02.148Z"
      },
      {
        "duration": 28,
        "start_time": "2023-02-09T13:50:02.782Z"
      },
      {
        "duration": 68,
        "start_time": "2023-02-09T13:50:02.811Z"
      },
      {
        "duration": 33,
        "start_time": "2023-02-09T13:50:02.881Z"
      },
      {
        "duration": 24,
        "start_time": "2023-02-09T13:50:02.916Z"
      },
      {
        "duration": 103,
        "start_time": "2023-02-09T13:50:02.941Z"
      },
      {
        "duration": 18,
        "start_time": "2023-02-09T13:50:03.046Z"
      },
      {
        "duration": 28,
        "start_time": "2023-02-09T13:50:03.066Z"
      },
      {
        "duration": 41,
        "start_time": "2023-02-09T13:50:03.096Z"
      },
      {
        "duration": 99,
        "start_time": "2023-02-09T13:50:03.139Z"
      },
      {
        "duration": 123,
        "start_time": "2023-02-09T13:50:03.240Z"
      },
      {
        "duration": 0,
        "start_time": "2023-02-09T13:50:03.366Z"
      },
      {
        "duration": 0,
        "start_time": "2023-02-09T13:50:03.367Z"
      },
      {
        "duration": 1,
        "start_time": "2023-02-09T13:50:03.368Z"
      },
      {
        "duration": 0,
        "start_time": "2023-02-09T13:50:03.370Z"
      },
      {
        "duration": 0,
        "start_time": "2023-02-09T13:50:03.371Z"
      },
      {
        "duration": 0,
        "start_time": "2023-02-09T13:50:03.372Z"
      },
      {
        "duration": 0,
        "start_time": "2023-02-09T13:50:03.374Z"
      },
      {
        "duration": 0,
        "start_time": "2023-02-09T13:50:03.375Z"
      },
      {
        "duration": 0,
        "start_time": "2023-02-09T13:50:03.391Z"
      },
      {
        "duration": 0,
        "start_time": "2023-02-09T13:50:03.393Z"
      },
      {
        "duration": 0,
        "start_time": "2023-02-09T13:50:03.394Z"
      },
      {
        "duration": 69,
        "start_time": "2023-02-09T13:50:20.509Z"
      },
      {
        "duration": 1132,
        "start_time": "2023-02-09T13:53:10.889Z"
      },
      {
        "duration": 403,
        "start_time": "2023-02-09T13:53:12.023Z"
      },
      {
        "duration": 4,
        "start_time": "2023-02-09T13:53:12.427Z"
      },
      {
        "duration": 214,
        "start_time": "2023-02-09T13:53:12.434Z"
      },
      {
        "duration": 6,
        "start_time": "2023-02-09T13:53:12.650Z"
      },
      {
        "duration": 74,
        "start_time": "2023-02-09T13:53:12.657Z"
      },
      {
        "duration": 8,
        "start_time": "2023-02-09T13:53:12.733Z"
      },
      {
        "duration": 94,
        "start_time": "2023-02-09T13:53:12.743Z"
      },
      {
        "duration": 9,
        "start_time": "2023-02-09T13:53:12.839Z"
      },
      {
        "duration": 6,
        "start_time": "2023-02-09T13:53:12.851Z"
      },
      {
        "duration": 17,
        "start_time": "2023-02-09T13:53:12.859Z"
      },
      {
        "duration": 40,
        "start_time": "2023-02-09T13:53:12.877Z"
      },
      {
        "duration": 197,
        "start_time": "2023-02-09T13:53:12.919Z"
      },
      {
        "duration": 33,
        "start_time": "2023-02-09T13:53:13.118Z"
      },
      {
        "duration": 743,
        "start_time": "2023-02-09T13:53:13.153Z"
      },
      {
        "duration": 21,
        "start_time": "2023-02-09T13:53:13.899Z"
      },
      {
        "duration": 73,
        "start_time": "2023-02-09T13:53:13.922Z"
      },
      {
        "duration": 35,
        "start_time": "2023-02-09T13:53:13.997Z"
      },
      {
        "duration": 28,
        "start_time": "2023-02-09T13:53:14.034Z"
      },
      {
        "duration": 81,
        "start_time": "2023-02-09T13:53:14.063Z"
      },
      {
        "duration": 19,
        "start_time": "2023-02-09T13:53:14.146Z"
      },
      {
        "duration": 32,
        "start_time": "2023-02-09T13:53:14.167Z"
      },
      {
        "duration": 47,
        "start_time": "2023-02-09T13:53:14.201Z"
      },
      {
        "duration": 51,
        "start_time": "2023-02-09T13:53:14.250Z"
      },
      {
        "duration": 20,
        "start_time": "2023-02-09T13:53:14.304Z"
      },
      {
        "duration": 4,
        "start_time": "2023-02-09T13:53:14.326Z"
      },
      {
        "duration": 69,
        "start_time": "2023-02-09T13:53:14.331Z"
      },
      {
        "duration": 51,
        "start_time": "2023-02-09T13:53:14.404Z"
      },
      {
        "duration": 60,
        "start_time": "2023-02-09T13:53:14.457Z"
      },
      {
        "duration": 6,
        "start_time": "2023-02-09T13:53:14.519Z"
      },
      {
        "duration": 134,
        "start_time": "2023-02-09T13:53:14.527Z"
      },
      {
        "duration": 342,
        "start_time": "2023-02-09T13:53:14.662Z"
      },
      {
        "duration": 7,
        "start_time": "2023-02-09T13:53:15.006Z"
      },
      {
        "duration": 210,
        "start_time": "2023-02-09T13:53:15.015Z"
      },
      {
        "duration": 196,
        "start_time": "2023-02-09T13:53:51.989Z"
      },
      {
        "duration": 1132,
        "start_time": "2023-02-09T13:57:46.807Z"
      },
      {
        "duration": 673,
        "start_time": "2023-02-09T13:57:47.941Z"
      },
      {
        "duration": 6,
        "start_time": "2023-02-09T13:57:48.616Z"
      },
      {
        "duration": 188,
        "start_time": "2023-02-09T13:57:48.623Z"
      },
      {
        "duration": 7,
        "start_time": "2023-02-09T13:57:48.814Z"
      },
      {
        "duration": 90,
        "start_time": "2023-02-09T13:57:48.822Z"
      },
      {
        "duration": 7,
        "start_time": "2023-02-09T13:57:48.914Z"
      },
      {
        "duration": 85,
        "start_time": "2023-02-09T13:57:48.923Z"
      },
      {
        "duration": 10,
        "start_time": "2023-02-09T13:57:49.010Z"
      },
      {
        "duration": 33,
        "start_time": "2023-02-09T13:57:49.022Z"
      },
      {
        "duration": 64,
        "start_time": "2023-02-09T13:57:49.057Z"
      },
      {
        "duration": 78,
        "start_time": "2023-02-09T13:57:49.123Z"
      },
      {
        "duration": 178,
        "start_time": "2023-02-09T13:57:49.203Z"
      },
      {
        "duration": 38,
        "start_time": "2023-02-09T13:57:49.383Z"
      },
      {
        "duration": 669,
        "start_time": "2023-02-09T13:57:49.423Z"
      },
      {
        "duration": 21,
        "start_time": "2023-02-09T13:57:50.094Z"
      },
      {
        "duration": 74,
        "start_time": "2023-02-09T13:57:50.117Z"
      },
      {
        "duration": 34,
        "start_time": "2023-02-09T13:57:50.193Z"
      },
      {
        "duration": 25,
        "start_time": "2023-02-09T13:57:50.229Z"
      },
      {
        "duration": 86,
        "start_time": "2023-02-09T13:57:50.256Z"
      },
      {
        "duration": 21,
        "start_time": "2023-02-09T13:57:50.343Z"
      },
      {
        "duration": 27,
        "start_time": "2023-02-09T13:57:50.365Z"
      },
      {
        "duration": 42,
        "start_time": "2023-02-09T13:57:50.394Z"
      },
      {
        "duration": 184,
        "start_time": "2023-02-09T13:57:50.437Z"
      },
      {
        "duration": 80,
        "start_time": "2023-02-09T13:57:50.623Z"
      },
      {
        "duration": 24,
        "start_time": "2023-02-09T13:57:50.704Z"
      },
      {
        "duration": 5,
        "start_time": "2023-02-09T13:57:50.729Z"
      },
      {
        "duration": 98,
        "start_time": "2023-02-09T13:57:50.736Z"
      },
      {
        "duration": 76,
        "start_time": "2023-02-09T13:57:50.836Z"
      },
      {
        "duration": 47,
        "start_time": "2023-02-09T13:57:50.914Z"
      },
      {
        "duration": 7,
        "start_time": "2023-02-09T13:57:50.962Z"
      },
      {
        "duration": 146,
        "start_time": "2023-02-09T13:57:50.971Z"
      },
      {
        "duration": 332,
        "start_time": "2023-02-09T13:57:51.119Z"
      },
      {
        "duration": 7,
        "start_time": "2023-02-09T13:57:51.453Z"
      },
      {
        "duration": 202,
        "start_time": "2023-02-09T13:57:51.461Z"
      },
      {
        "duration": 107,
        "start_time": "2023-02-09T13:58:33.814Z"
      },
      {
        "duration": 39,
        "start_time": "2023-02-09T14:02:26.739Z"
      },
      {
        "duration": 28,
        "start_time": "2023-02-09T14:02:44.841Z"
      },
      {
        "duration": 19,
        "start_time": "2023-02-09T14:02:59.840Z"
      },
      {
        "duration": 22,
        "start_time": "2023-02-09T14:03:11.471Z"
      },
      {
        "duration": 19,
        "start_time": "2023-02-09T14:03:17.282Z"
      },
      {
        "duration": 1324,
        "start_time": "2023-02-09T14:05:00.591Z"
      },
      {
        "duration": 4096,
        "start_time": "2023-02-09T14:05:17.191Z"
      },
      {
        "duration": 92,
        "start_time": "2023-02-09T14:08:08.608Z"
      },
      {
        "duration": 78,
        "start_time": "2023-02-09T14:08:11.937Z"
      },
      {
        "duration": 837,
        "start_time": "2023-02-09T14:08:38.065Z"
      },
      {
        "duration": 408,
        "start_time": "2023-02-09T14:09:10.440Z"
      },
      {
        "duration": 347,
        "start_time": "2023-02-09T14:09:18.440Z"
      },
      {
        "duration": 103,
        "start_time": "2023-02-09T14:09:48.207Z"
      },
      {
        "duration": 694,
        "start_time": "2023-02-09T14:10:03.992Z"
      },
      {
        "duration": 96,
        "start_time": "2023-02-09T14:10:09.043Z"
      },
      {
        "duration": 91,
        "start_time": "2023-02-09T14:10:16.118Z"
      },
      {
        "duration": 75,
        "start_time": "2023-02-09T14:10:56.743Z"
      },
      {
        "duration": 925,
        "start_time": "2023-02-09T14:11:01.595Z"
      },
      {
        "duration": 12,
        "start_time": "2023-02-09T14:12:06.747Z"
      },
      {
        "duration": 14,
        "start_time": "2023-02-09T14:12:17.693Z"
      },
      {
        "duration": 1156,
        "start_time": "2023-02-09T14:12:56.448Z"
      },
      {
        "duration": 398,
        "start_time": "2023-02-09T14:12:57.606Z"
      },
      {
        "duration": 4,
        "start_time": "2023-02-09T14:12:58.006Z"
      },
      {
        "duration": 183,
        "start_time": "2023-02-09T14:12:58.013Z"
      },
      {
        "duration": 6,
        "start_time": "2023-02-09T14:12:58.198Z"
      },
      {
        "duration": 72,
        "start_time": "2023-02-09T14:12:58.206Z"
      },
      {
        "duration": 11,
        "start_time": "2023-02-09T14:12:58.280Z"
      },
      {
        "duration": 76,
        "start_time": "2023-02-09T14:12:58.293Z"
      },
      {
        "duration": 22,
        "start_time": "2023-02-09T14:12:58.371Z"
      },
      {
        "duration": 4,
        "start_time": "2023-02-09T14:12:58.397Z"
      },
      {
        "duration": 11,
        "start_time": "2023-02-09T14:12:58.403Z"
      },
      {
        "duration": 31,
        "start_time": "2023-02-09T14:12:58.416Z"
      },
      {
        "duration": 180,
        "start_time": "2023-02-09T14:12:58.448Z"
      },
      {
        "duration": 36,
        "start_time": "2023-02-09T14:12:58.629Z"
      },
      {
        "duration": 649,
        "start_time": "2023-02-09T14:12:58.667Z"
      },
      {
        "duration": 21,
        "start_time": "2023-02-09T14:12:59.318Z"
      },
      {
        "duration": 81,
        "start_time": "2023-02-09T14:12:59.341Z"
      },
      {
        "duration": 48,
        "start_time": "2023-02-09T14:12:59.424Z"
      },
      {
        "duration": 39,
        "start_time": "2023-02-09T14:12:59.474Z"
      },
      {
        "duration": 59,
        "start_time": "2023-02-09T14:12:59.515Z"
      },
      {
        "duration": 30,
        "start_time": "2023-02-09T14:12:59.576Z"
      },
      {
        "duration": 12,
        "start_time": "2023-02-09T14:12:59.608Z"
      },
      {
        "duration": 33,
        "start_time": "2023-02-09T14:12:59.622Z"
      },
      {
        "duration": 446,
        "start_time": "2023-02-09T14:12:59.656Z"
      },
      {
        "duration": 33,
        "start_time": "2023-02-09T14:13:00.103Z"
      },
      {
        "duration": 66,
        "start_time": "2023-02-09T14:13:00.138Z"
      },
      {
        "duration": 5,
        "start_time": "2023-02-09T14:13:00.206Z"
      },
      {
        "duration": 91,
        "start_time": "2023-02-09T14:13:00.215Z"
      },
      {
        "duration": 35,
        "start_time": "2023-02-09T14:13:00.308Z"
      },
      {
        "duration": 57,
        "start_time": "2023-02-09T14:13:00.345Z"
      },
      {
        "duration": 8,
        "start_time": "2023-02-09T14:13:00.405Z"
      },
      {
        "duration": 186,
        "start_time": "2023-02-09T14:13:00.414Z"
      },
      {
        "duration": 353,
        "start_time": "2023-02-09T14:13:00.602Z"
      },
      {
        "duration": 7,
        "start_time": "2023-02-09T14:13:00.957Z"
      },
      {
        "duration": 226,
        "start_time": "2023-02-09T14:13:00.966Z"
      },
      {
        "duration": 44,
        "start_time": "2023-02-09T14:13:42.943Z"
      },
      {
        "duration": 9,
        "start_time": "2023-02-09T14:19:54.412Z"
      },
      {
        "duration": 8,
        "start_time": "2023-02-09T14:19:56.268Z"
      },
      {
        "duration": 11,
        "start_time": "2023-02-09T14:19:57.955Z"
      },
      {
        "duration": 9,
        "start_time": "2023-02-09T14:20:00.818Z"
      },
      {
        "duration": 87,
        "start_time": "2023-02-09T14:20:08.998Z"
      },
      {
        "duration": 8,
        "start_time": "2023-02-09T14:20:16.641Z"
      },
      {
        "duration": 1174,
        "start_time": "2023-02-09T14:20:34.859Z"
      },
      {
        "duration": 429,
        "start_time": "2023-02-09T14:20:36.036Z"
      },
      {
        "duration": 9,
        "start_time": "2023-02-09T14:20:36.467Z"
      },
      {
        "duration": 176,
        "start_time": "2023-02-09T14:20:36.480Z"
      },
      {
        "duration": 6,
        "start_time": "2023-02-09T14:20:36.658Z"
      },
      {
        "duration": 74,
        "start_time": "2023-02-09T14:20:36.666Z"
      },
      {
        "duration": 6,
        "start_time": "2023-02-09T14:20:36.742Z"
      },
      {
        "duration": 77,
        "start_time": "2023-02-09T14:20:36.750Z"
      },
      {
        "duration": 8,
        "start_time": "2023-02-09T14:20:36.829Z"
      },
      {
        "duration": 4,
        "start_time": "2023-02-09T14:20:36.840Z"
      },
      {
        "duration": 10,
        "start_time": "2023-02-09T14:20:36.845Z"
      },
      {
        "duration": 35,
        "start_time": "2023-02-09T14:20:36.857Z"
      },
      {
        "duration": 158,
        "start_time": "2023-02-09T14:20:36.894Z"
      },
      {
        "duration": 39,
        "start_time": "2023-02-09T14:20:37.053Z"
      },
      {
        "duration": 616,
        "start_time": "2023-02-09T14:20:37.094Z"
      },
      {
        "duration": 22,
        "start_time": "2023-02-09T14:20:37.712Z"
      },
      {
        "duration": 68,
        "start_time": "2023-02-09T14:20:37.735Z"
      },
      {
        "duration": 33,
        "start_time": "2023-02-09T14:20:37.804Z"
      },
      {
        "duration": 35,
        "start_time": "2023-02-09T14:20:37.838Z"
      },
      {
        "duration": 69,
        "start_time": "2023-02-09T14:20:37.892Z"
      },
      {
        "duration": 34,
        "start_time": "2023-02-09T14:20:37.963Z"
      },
      {
        "duration": 15,
        "start_time": "2023-02-09T14:20:37.998Z"
      },
      {
        "duration": 36,
        "start_time": "2023-02-09T14:20:38.014Z"
      },
      {
        "duration": 426,
        "start_time": "2023-02-09T14:20:38.052Z"
      },
      {
        "duration": 33,
        "start_time": "2023-02-09T14:20:38.479Z"
      },
      {
        "duration": 22,
        "start_time": "2023-02-09T14:20:38.514Z"
      },
      {
        "duration": 55,
        "start_time": "2023-02-09T14:20:38.538Z"
      },
      {
        "duration": 45,
        "start_time": "2023-02-09T14:20:38.597Z"
      },
      {
        "duration": 64,
        "start_time": "2023-02-09T14:20:38.644Z"
      },
      {
        "duration": 34,
        "start_time": "2023-02-09T14:20:38.710Z"
      },
      {
        "duration": 6,
        "start_time": "2023-02-09T14:20:38.746Z"
      },
      {
        "duration": 129,
        "start_time": "2023-02-09T14:20:38.753Z"
      },
      {
        "duration": 315,
        "start_time": "2023-02-09T14:20:38.883Z"
      },
      {
        "duration": 7,
        "start_time": "2023-02-09T14:20:39.199Z"
      },
      {
        "duration": 209,
        "start_time": "2023-02-09T14:20:39.208Z"
      },
      {
        "duration": 65,
        "start_time": "2023-02-09T14:29:08.319Z"
      },
      {
        "duration": 68,
        "start_time": "2023-02-09T14:29:11.917Z"
      },
      {
        "duration": 1049,
        "start_time": "2023-02-09T14:29:53.547Z"
      },
      {
        "duration": 63,
        "start_time": "2023-02-09T14:30:08.801Z"
      },
      {
        "duration": 685,
        "start_time": "2023-02-09T14:30:41.719Z"
      },
      {
        "duration": 89,
        "start_time": "2023-02-09T14:30:51.010Z"
      },
      {
        "duration": 1296,
        "start_time": "2023-02-09T14:31:17.373Z"
      },
      {
        "duration": 1238,
        "start_time": "2023-02-09T14:31:27.242Z"
      },
      {
        "duration": 64,
        "start_time": "2023-02-09T14:31:37.022Z"
      },
      {
        "duration": 64,
        "start_time": "2023-02-09T14:31:57.145Z"
      },
      {
        "duration": 79,
        "start_time": "2023-02-09T14:31:59.767Z"
      },
      {
        "duration": 941,
        "start_time": "2023-02-09T14:32:01.889Z"
      },
      {
        "duration": 74,
        "start_time": "2023-02-09T14:32:10.294Z"
      },
      {
        "duration": 60,
        "start_time": "2023-02-09T14:34:37.107Z"
      },
      {
        "duration": 67,
        "start_time": "2023-02-09T14:34:40.809Z"
      },
      {
        "duration": 16,
        "start_time": "2023-02-09T14:53:50.167Z"
      },
      {
        "duration": 11,
        "start_time": "2023-02-09T14:53:58.006Z"
      },
      {
        "duration": 20,
        "start_time": "2023-02-09T14:54:08.510Z"
      },
      {
        "duration": 81,
        "start_time": "2023-02-09T14:58:10.585Z"
      },
      {
        "duration": 7,
        "start_time": "2023-02-09T14:58:17.227Z"
      },
      {
        "duration": 30,
        "start_time": "2023-02-09T14:59:19.325Z"
      },
      {
        "duration": 5,
        "start_time": "2023-02-09T15:01:12.213Z"
      },
      {
        "duration": 6,
        "start_time": "2023-02-09T15:01:12.932Z"
      },
      {
        "duration": 8,
        "start_time": "2023-02-09T15:03:46.516Z"
      },
      {
        "duration": 74,
        "start_time": "2023-02-09T15:06:04.579Z"
      },
      {
        "duration": 75,
        "start_time": "2023-02-09T15:06:09.606Z"
      },
      {
        "duration": 1064,
        "start_time": "2023-02-09T15:06:22.345Z"
      },
      {
        "duration": 407,
        "start_time": "2023-02-09T15:06:23.411Z"
      },
      {
        "duration": 5,
        "start_time": "2023-02-09T15:06:23.820Z"
      },
      {
        "duration": 184,
        "start_time": "2023-02-09T15:06:23.827Z"
      },
      {
        "duration": 6,
        "start_time": "2023-02-09T15:06:24.014Z"
      },
      {
        "duration": 77,
        "start_time": "2023-02-09T15:06:24.022Z"
      },
      {
        "duration": 8,
        "start_time": "2023-02-09T15:06:24.101Z"
      },
      {
        "duration": 68,
        "start_time": "2023-02-09T15:06:24.111Z"
      },
      {
        "duration": 9,
        "start_time": "2023-02-09T15:06:24.191Z"
      },
      {
        "duration": 7,
        "start_time": "2023-02-09T15:06:24.202Z"
      },
      {
        "duration": 17,
        "start_time": "2023-02-09T15:06:24.210Z"
      },
      {
        "duration": 23,
        "start_time": "2023-02-09T15:06:24.228Z"
      },
      {
        "duration": 152,
        "start_time": "2023-02-09T15:06:24.252Z"
      },
      {
        "duration": 32,
        "start_time": "2023-02-09T15:06:24.408Z"
      },
      {
        "duration": 719,
        "start_time": "2023-02-09T15:06:24.442Z"
      },
      {
        "duration": 34,
        "start_time": "2023-02-09T15:06:25.163Z"
      },
      {
        "duration": 102,
        "start_time": "2023-02-09T15:06:25.199Z"
      },
      {
        "duration": 41,
        "start_time": "2023-02-09T15:06:25.303Z"
      },
      {
        "duration": 53,
        "start_time": "2023-02-09T15:06:25.346Z"
      },
      {
        "duration": 69,
        "start_time": "2023-02-09T15:06:25.400Z"
      },
      {
        "duration": 31,
        "start_time": "2023-02-09T15:06:25.472Z"
      },
      {
        "duration": 26,
        "start_time": "2023-02-09T15:06:25.505Z"
      },
      {
        "duration": 38,
        "start_time": "2023-02-09T15:06:25.532Z"
      },
      {
        "duration": 414,
        "start_time": "2023-02-09T15:06:25.572Z"
      },
      {
        "duration": 33,
        "start_time": "2023-02-09T15:06:25.987Z"
      },
      {
        "duration": 77,
        "start_time": "2023-02-09T15:06:26.022Z"
      },
      {
        "duration": 4,
        "start_time": "2023-02-09T15:06:26.101Z"
      },
      {
        "duration": 90,
        "start_time": "2023-02-09T15:06:26.107Z"
      },
      {
        "duration": 49,
        "start_time": "2023-02-09T15:06:26.199Z"
      },
      {
        "duration": 69,
        "start_time": "2023-02-09T15:06:26.250Z"
      },
      {
        "duration": 8,
        "start_time": "2023-02-09T15:06:26.322Z"
      },
      {
        "duration": 132,
        "start_time": "2023-02-09T15:06:26.332Z"
      },
      {
        "duration": 175,
        "start_time": "2023-02-09T15:06:26.466Z"
      },
      {
        "duration": 339,
        "start_time": "2023-02-09T15:06:26.644Z"
      },
      {
        "duration": 6,
        "start_time": "2023-02-09T15:06:26.992Z"
      },
      {
        "duration": 207,
        "start_time": "2023-02-09T15:06:27.000Z"
      },
      {
        "duration": 9,
        "start_time": "2023-02-09T15:09:13.785Z"
      },
      {
        "duration": 243,
        "start_time": "2023-02-09T15:09:19.472Z"
      },
      {
        "duration": 1204,
        "start_time": "2023-02-09T15:15:17.411Z"
      },
      {
        "duration": 1234,
        "start_time": "2023-02-09T15:16:07.552Z"
      },
      {
        "duration": 10,
        "start_time": "2023-02-09T15:16:18.410Z"
      },
      {
        "duration": 21,
        "start_time": "2023-02-09T15:16:24.277Z"
      },
      {
        "duration": 19,
        "start_time": "2023-02-09T15:16:32.607Z"
      },
      {
        "duration": 54,
        "start_time": "2023-02-09T15:17:02.027Z"
      },
      {
        "duration": 65,
        "start_time": "2023-02-09T15:17:12.582Z"
      },
      {
        "duration": 268,
        "start_time": "2023-02-09T15:17:56.269Z"
      },
      {
        "duration": 65,
        "start_time": "2023-02-09T15:19:02.578Z"
      },
      {
        "duration": 58,
        "start_time": "2023-02-09T15:19:07.607Z"
      },
      {
        "duration": 1119,
        "start_time": "2023-02-09T15:19:29.720Z"
      },
      {
        "duration": 389,
        "start_time": "2023-02-09T15:19:30.841Z"
      },
      {
        "duration": 5,
        "start_time": "2023-02-09T15:19:31.232Z"
      },
      {
        "duration": 189,
        "start_time": "2023-02-09T15:19:31.239Z"
      },
      {
        "duration": 6,
        "start_time": "2023-02-09T15:19:31.429Z"
      },
      {
        "duration": 85,
        "start_time": "2023-02-09T15:19:31.436Z"
      },
      {
        "duration": 6,
        "start_time": "2023-02-09T15:19:31.523Z"
      },
      {
        "duration": 95,
        "start_time": "2023-02-09T15:19:31.531Z"
      },
      {
        "duration": 9,
        "start_time": "2023-02-09T15:19:31.628Z"
      },
      {
        "duration": 18,
        "start_time": "2023-02-09T15:19:31.640Z"
      },
      {
        "duration": 22,
        "start_time": "2023-02-09T15:19:31.660Z"
      },
      {
        "duration": 19,
        "start_time": "2023-02-09T15:19:31.683Z"
      },
      {
        "duration": 147,
        "start_time": "2023-02-09T15:19:31.704Z"
      },
      {
        "duration": 32,
        "start_time": "2023-02-09T15:19:31.852Z"
      },
      {
        "duration": 605,
        "start_time": "2023-02-09T15:19:31.891Z"
      },
      {
        "duration": 21,
        "start_time": "2023-02-09T15:19:32.498Z"
      },
      {
        "duration": 54,
        "start_time": "2023-02-09T15:19:32.520Z"
      },
      {
        "duration": 31,
        "start_time": "2023-02-09T15:19:32.591Z"
      },
      {
        "duration": 24,
        "start_time": "2023-02-09T15:19:32.623Z"
      },
      {
        "duration": 74,
        "start_time": "2023-02-09T15:19:32.648Z"
      },
      {
        "duration": 19,
        "start_time": "2023-02-09T15:19:32.723Z"
      },
      {
        "duration": 22,
        "start_time": "2023-02-09T15:19:32.744Z"
      },
      {
        "duration": 45,
        "start_time": "2023-02-09T15:19:32.767Z"
      },
      {
        "duration": 419,
        "start_time": "2023-02-09T15:19:32.813Z"
      },
      {
        "duration": 59,
        "start_time": "2023-02-09T15:19:33.234Z"
      },
      {
        "duration": 21,
        "start_time": "2023-02-09T15:19:33.294Z"
      },
      {
        "duration": 4,
        "start_time": "2023-02-09T15:19:33.317Z"
      },
      {
        "duration": 108,
        "start_time": "2023-02-09T15:19:33.325Z"
      },
      {
        "duration": 35,
        "start_time": "2023-02-09T15:19:33.435Z"
      },
      {
        "duration": 47,
        "start_time": "2023-02-09T15:19:33.472Z"
      },
      {
        "duration": 56,
        "start_time": "2023-02-09T15:19:33.521Z"
      },
      {
        "duration": 69,
        "start_time": "2023-02-09T15:19:33.591Z"
      },
      {
        "duration": 130,
        "start_time": "2023-02-09T15:19:33.661Z"
      },
      {
        "duration": 309,
        "start_time": "2023-02-09T15:19:33.792Z"
      },
      {
        "duration": 6,
        "start_time": "2023-02-09T15:19:34.102Z"
      },
      {
        "duration": 195,
        "start_time": "2023-02-09T15:19:34.109Z"
      },
      {
        "duration": 1163,
        "start_time": "2023-02-09T15:19:53.020Z"
      },
      {
        "duration": 332,
        "start_time": "2023-02-09T15:19:54.185Z"
      },
      {
        "duration": 4,
        "start_time": "2023-02-09T15:19:54.519Z"
      },
      {
        "duration": 173,
        "start_time": "2023-02-09T15:19:54.525Z"
      },
      {
        "duration": 5,
        "start_time": "2023-02-09T15:19:54.700Z"
      },
      {
        "duration": 70,
        "start_time": "2023-02-09T15:19:54.707Z"
      },
      {
        "duration": 15,
        "start_time": "2023-02-09T15:19:54.779Z"
      },
      {
        "duration": 76,
        "start_time": "2023-02-09T15:19:54.795Z"
      },
      {
        "duration": 20,
        "start_time": "2023-02-09T15:19:54.872Z"
      },
      {
        "duration": 18,
        "start_time": "2023-02-09T15:19:54.895Z"
      },
      {
        "duration": 17,
        "start_time": "2023-02-09T15:19:54.914Z"
      },
      {
        "duration": 20,
        "start_time": "2023-02-09T15:19:54.933Z"
      },
      {
        "duration": 147,
        "start_time": "2023-02-09T15:19:54.954Z"
      },
      {
        "duration": 33,
        "start_time": "2023-02-09T15:19:55.102Z"
      },
      {
        "duration": 660,
        "start_time": "2023-02-09T15:19:55.136Z"
      },
      {
        "duration": 22,
        "start_time": "2023-02-09T15:19:55.798Z"
      },
      {
        "duration": 88,
        "start_time": "2023-02-09T15:19:55.822Z"
      },
      {
        "duration": 42,
        "start_time": "2023-02-09T15:19:55.912Z"
      },
      {
        "duration": 36,
        "start_time": "2023-02-09T15:19:55.956Z"
      },
      {
        "duration": 57,
        "start_time": "2023-02-09T15:19:55.994Z"
      },
      {
        "duration": 18,
        "start_time": "2023-02-09T15:19:56.052Z"
      },
      {
        "duration": 28,
        "start_time": "2023-02-09T15:19:56.071Z"
      },
      {
        "duration": 30,
        "start_time": "2023-02-09T15:19:56.100Z"
      },
      {
        "duration": 481,
        "start_time": "2023-02-09T15:19:56.132Z"
      },
      {
        "duration": 40,
        "start_time": "2023-02-09T15:19:56.615Z"
      },
      {
        "duration": 24,
        "start_time": "2023-02-09T15:19:56.692Z"
      },
      {
        "duration": 3,
        "start_time": "2023-02-09T15:19:56.718Z"
      },
      {
        "duration": 100,
        "start_time": "2023-02-09T15:19:56.724Z"
      },
      {
        "duration": 72,
        "start_time": "2023-02-09T15:19:56.826Z"
      },
      {
        "duration": 35,
        "start_time": "2023-02-09T15:19:56.899Z"
      },
      {
        "duration": 191,
        "start_time": "2023-02-09T15:19:56.936Z"
      },
      {
        "duration": 74,
        "start_time": "2023-02-09T15:19:57.128Z"
      },
      {
        "duration": 126,
        "start_time": "2023-02-09T15:19:57.204Z"
      },
      {
        "duration": 308,
        "start_time": "2023-02-09T15:19:57.332Z"
      },
      {
        "duration": 6,
        "start_time": "2023-02-09T15:19:57.642Z"
      },
      {
        "duration": 209,
        "start_time": "2023-02-09T15:19:57.650Z"
      },
      {
        "duration": 170,
        "start_time": "2023-02-09T15:23:09.916Z"
      },
      {
        "duration": 39,
        "start_time": "2023-02-09T15:23:30.850Z"
      },
      {
        "duration": 1163,
        "start_time": "2023-02-09T15:23:39.762Z"
      },
      {
        "duration": 305,
        "start_time": "2023-02-09T15:23:40.928Z"
      },
      {
        "duration": 6,
        "start_time": "2023-02-09T15:23:41.235Z"
      },
      {
        "duration": 191,
        "start_time": "2023-02-09T15:23:41.243Z"
      },
      {
        "duration": 6,
        "start_time": "2023-02-09T15:23:41.437Z"
      },
      {
        "duration": 84,
        "start_time": "2023-02-09T15:23:41.444Z"
      },
      {
        "duration": 6,
        "start_time": "2023-02-09T15:23:41.530Z"
      },
      {
        "duration": 82,
        "start_time": "2023-02-09T15:23:41.538Z"
      },
      {
        "duration": 9,
        "start_time": "2023-02-09T15:23:41.623Z"
      },
      {
        "duration": 9,
        "start_time": "2023-02-09T15:23:41.634Z"
      },
      {
        "duration": 12,
        "start_time": "2023-02-09T15:23:41.644Z"
      },
      {
        "duration": 39,
        "start_time": "2023-02-09T15:23:41.658Z"
      },
      {
        "duration": 166,
        "start_time": "2023-02-09T15:23:41.699Z"
      },
      {
        "duration": 42,
        "start_time": "2023-02-09T15:23:41.868Z"
      },
      {
        "duration": 690,
        "start_time": "2023-02-09T15:23:41.912Z"
      },
      {
        "duration": 22,
        "start_time": "2023-02-09T15:23:42.604Z"
      },
      {
        "duration": 107,
        "start_time": "2023-02-09T15:23:42.628Z"
      },
      {
        "duration": 34,
        "start_time": "2023-02-09T15:23:42.737Z"
      },
      {
        "duration": 36,
        "start_time": "2023-02-09T15:23:42.772Z"
      },
      {
        "duration": 56,
        "start_time": "2023-02-09T15:23:42.809Z"
      },
      {
        "duration": 35,
        "start_time": "2023-02-09T15:23:42.866Z"
      },
      {
        "duration": 12,
        "start_time": "2023-02-09T15:23:42.903Z"
      },
      {
        "duration": 37,
        "start_time": "2023-02-09T15:23:42.917Z"
      },
      {
        "duration": 421,
        "start_time": "2023-02-09T15:23:42.956Z"
      },
      {
        "duration": 36,
        "start_time": "2023-02-09T15:23:43.379Z"
      },
      {
        "duration": 80,
        "start_time": "2023-02-09T15:23:43.416Z"
      },
      {
        "duration": 5,
        "start_time": "2023-02-09T15:23:43.499Z"
      },
      {
        "duration": 111,
        "start_time": "2023-02-09T15:23:43.506Z"
      },
      {
        "duration": 94,
        "start_time": "2023-02-09T15:23:43.619Z"
      },
      {
        "duration": 45,
        "start_time": "2023-02-09T15:23:43.715Z"
      },
      {
        "duration": 146,
        "start_time": "2023-02-09T15:23:43.762Z"
      },
      {
        "duration": 199,
        "start_time": "2023-02-09T15:23:43.910Z"
      },
      {
        "duration": 41,
        "start_time": "2023-02-09T15:23:44.111Z"
      },
      {
        "duration": 147,
        "start_time": "2023-02-09T15:23:44.153Z"
      },
      {
        "duration": 344,
        "start_time": "2023-02-09T15:23:44.302Z"
      },
      {
        "duration": 7,
        "start_time": "2023-02-09T15:23:44.647Z"
      },
      {
        "duration": 240,
        "start_time": "2023-02-09T15:23:44.656Z"
      },
      {
        "duration": 356,
        "start_time": "2023-02-09T15:23:57.369Z"
      },
      {
        "duration": 178,
        "start_time": "2023-02-09T15:24:09.814Z"
      },
      {
        "duration": 1309,
        "start_time": "2023-02-09T15:25:10.109Z"
      },
      {
        "duration": 1150,
        "start_time": "2023-02-09T15:25:27.160Z"
      },
      {
        "duration": 533,
        "start_time": "2023-02-09T15:25:28.312Z"
      },
      {
        "duration": 5,
        "start_time": "2023-02-09T15:25:28.846Z"
      },
      {
        "duration": 183,
        "start_time": "2023-02-09T15:25:28.853Z"
      },
      {
        "duration": 5,
        "start_time": "2023-02-09T15:25:29.037Z"
      },
      {
        "duration": 69,
        "start_time": "2023-02-09T15:25:29.044Z"
      },
      {
        "duration": 6,
        "start_time": "2023-02-09T15:25:29.114Z"
      },
      {
        "duration": 84,
        "start_time": "2023-02-09T15:25:29.122Z"
      },
      {
        "duration": 8,
        "start_time": "2023-02-09T15:25:29.208Z"
      },
      {
        "duration": 10,
        "start_time": "2023-02-09T15:25:29.219Z"
      },
      {
        "duration": 10,
        "start_time": "2023-02-09T15:25:29.231Z"
      },
      {
        "duration": 18,
        "start_time": "2023-02-09T15:25:29.243Z"
      },
      {
        "duration": 154,
        "start_time": "2023-02-09T15:25:29.262Z"
      },
      {
        "duration": 31,
        "start_time": "2023-02-09T15:25:29.418Z"
      },
      {
        "duration": 635,
        "start_time": "2023-02-09T15:25:29.450Z"
      },
      {
        "duration": 21,
        "start_time": "2023-02-09T15:25:30.087Z"
      },
      {
        "duration": 85,
        "start_time": "2023-02-09T15:25:30.110Z"
      },
      {
        "duration": 32,
        "start_time": "2023-02-09T15:25:30.196Z"
      },
      {
        "duration": 25,
        "start_time": "2023-02-09T15:25:30.230Z"
      },
      {
        "duration": 70,
        "start_time": "2023-02-09T15:25:30.257Z"
      },
      {
        "duration": 18,
        "start_time": "2023-02-09T15:25:30.329Z"
      },
      {
        "duration": 23,
        "start_time": "2023-02-09T15:25:30.349Z"
      },
      {
        "duration": 45,
        "start_time": "2023-02-09T15:25:30.374Z"
      },
      {
        "duration": 428,
        "start_time": "2023-02-09T15:25:30.421Z"
      },
      {
        "duration": 57,
        "start_time": "2023-02-09T15:25:30.851Z"
      },
      {
        "duration": 26,
        "start_time": "2023-02-09T15:25:30.910Z"
      },
      {
        "duration": 5,
        "start_time": "2023-02-09T15:25:30.991Z"
      },
      {
        "duration": 79,
        "start_time": "2023-02-09T15:25:30.999Z"
      },
      {
        "duration": 39,
        "start_time": "2023-02-09T15:25:31.079Z"
      },
      {
        "duration": 38,
        "start_time": "2023-02-09T15:25:31.120Z"
      },
      {
        "duration": 88,
        "start_time": "2023-02-09T15:25:31.160Z"
      },
      {
        "duration": 1420,
        "start_time": "2023-02-09T15:25:31.249Z"
      },
      {
        "duration": 0,
        "start_time": "2023-02-09T15:25:32.671Z"
      },
      {
        "duration": 0,
        "start_time": "2023-02-09T15:25:32.672Z"
      },
      {
        "duration": 0,
        "start_time": "2023-02-09T15:25:32.674Z"
      },
      {
        "duration": 0,
        "start_time": "2023-02-09T15:25:32.675Z"
      },
      {
        "duration": 0,
        "start_time": "2023-02-09T15:25:32.676Z"
      },
      {
        "duration": 68,
        "start_time": "2023-02-09T15:26:12.622Z"
      },
      {
        "duration": 1105,
        "start_time": "2023-02-09T15:26:21.102Z"
      },
      {
        "duration": 293,
        "start_time": "2023-02-09T15:26:22.210Z"
      },
      {
        "duration": 5,
        "start_time": "2023-02-09T15:26:22.504Z"
      },
      {
        "duration": 180,
        "start_time": "2023-02-09T15:26:22.511Z"
      },
      {
        "duration": 5,
        "start_time": "2023-02-09T15:26:22.693Z"
      },
      {
        "duration": 63,
        "start_time": "2023-02-09T15:26:22.700Z"
      },
      {
        "duration": 6,
        "start_time": "2023-02-09T15:26:22.764Z"
      },
      {
        "duration": 79,
        "start_time": "2023-02-09T15:26:22.772Z"
      },
      {
        "duration": 8,
        "start_time": "2023-02-09T15:26:22.853Z"
      },
      {
        "duration": 21,
        "start_time": "2023-02-09T15:26:22.862Z"
      },
      {
        "duration": 18,
        "start_time": "2023-02-09T15:26:22.884Z"
      },
      {
        "duration": 37,
        "start_time": "2023-02-09T15:26:22.904Z"
      },
      {
        "duration": 149,
        "start_time": "2023-02-09T15:26:22.943Z"
      },
      {
        "duration": 30,
        "start_time": "2023-02-09T15:26:23.095Z"
      },
      {
        "duration": 655,
        "start_time": "2023-02-09T15:26:23.127Z"
      },
      {
        "duration": 20,
        "start_time": "2023-02-09T15:26:23.791Z"
      },
      {
        "duration": 61,
        "start_time": "2023-02-09T15:26:23.813Z"
      },
      {
        "duration": 45,
        "start_time": "2023-02-09T15:26:23.875Z"
      },
      {
        "duration": 25,
        "start_time": "2023-02-09T15:26:23.921Z"
      },
      {
        "duration": 76,
        "start_time": "2023-02-09T15:26:23.948Z"
      },
      {
        "duration": 17,
        "start_time": "2023-02-09T15:26:24.025Z"
      },
      {
        "duration": 12,
        "start_time": "2023-02-09T15:26:24.044Z"
      },
      {
        "duration": 55,
        "start_time": "2023-02-09T15:26:24.057Z"
      },
      {
        "duration": 422,
        "start_time": "2023-02-09T15:26:24.114Z"
      },
      {
        "duration": 33,
        "start_time": "2023-02-09T15:26:24.538Z"
      },
      {
        "duration": 36,
        "start_time": "2023-02-09T15:26:24.573Z"
      },
      {
        "duration": 9,
        "start_time": "2023-02-09T15:26:24.611Z"
      },
      {
        "duration": 85,
        "start_time": "2023-02-09T15:26:24.622Z"
      },
      {
        "duration": 38,
        "start_time": "2023-02-09T15:26:24.708Z"
      },
      {
        "duration": 53,
        "start_time": "2023-02-09T15:26:24.747Z"
      },
      {
        "duration": 69,
        "start_time": "2023-02-09T15:26:24.802Z"
      },
      {
        "duration": 1367,
        "start_time": "2023-02-09T15:26:24.873Z"
      },
      {
        "duration": 0,
        "start_time": "2023-02-09T15:26:26.242Z"
      },
      {
        "duration": 0,
        "start_time": "2023-02-09T15:26:26.244Z"
      },
      {
        "duration": 0,
        "start_time": "2023-02-09T15:26:26.245Z"
      },
      {
        "duration": 0,
        "start_time": "2023-02-09T15:26:26.247Z"
      },
      {
        "duration": 0,
        "start_time": "2023-02-09T15:26:26.248Z"
      },
      {
        "duration": 1171,
        "start_time": "2023-02-09T15:26:52.552Z"
      },
      {
        "duration": 65,
        "start_time": "2023-02-09T15:27:20.499Z"
      },
      {
        "duration": 1123,
        "start_time": "2023-02-09T15:27:23.116Z"
      },
      {
        "duration": 1248,
        "start_time": "2023-02-09T15:27:26.093Z"
      },
      {
        "duration": 74,
        "start_time": "2023-02-09T15:27:49.290Z"
      },
      {
        "duration": 1135,
        "start_time": "2023-02-09T15:27:57.155Z"
      },
      {
        "duration": 932,
        "start_time": "2023-02-09T15:28:10.289Z"
      },
      {
        "duration": 68,
        "start_time": "2023-02-09T15:28:15.492Z"
      },
      {
        "duration": 1143,
        "start_time": "2023-02-09T15:28:31.785Z"
      },
      {
        "duration": 1211,
        "start_time": "2023-02-09T15:28:51.405Z"
      },
      {
        "duration": 63,
        "start_time": "2023-02-09T15:29:07.954Z"
      },
      {
        "duration": 1142,
        "start_time": "2023-02-09T15:29:08.882Z"
      },
      {
        "duration": 1166,
        "start_time": "2023-02-09T15:29:24.469Z"
      },
      {
        "duration": 65,
        "start_time": "2023-02-09T15:29:42.856Z"
      },
      {
        "duration": 66,
        "start_time": "2023-02-09T15:29:52.495Z"
      },
      {
        "duration": 1144,
        "start_time": "2023-02-09T15:29:52.748Z"
      },
      {
        "duration": 1206,
        "start_time": "2023-02-09T15:30:08.217Z"
      },
      {
        "duration": 1098,
        "start_time": "2023-02-09T15:30:27.593Z"
      },
      {
        "duration": 1159,
        "start_time": "2023-02-09T15:31:02.152Z"
      },
      {
        "duration": 5,
        "start_time": "2023-02-09T15:31:55.409Z"
      },
      {
        "duration": 1124,
        "start_time": "2023-02-09T15:32:03.766Z"
      },
      {
        "duration": 907,
        "start_time": "2023-02-09T15:32:17.289Z"
      },
      {
        "duration": 63,
        "start_time": "2023-02-09T15:32:37.219Z"
      },
      {
        "duration": 866,
        "start_time": "2023-02-09T15:32:44.991Z"
      },
      {
        "duration": 866,
        "start_time": "2023-02-09T15:33:04.160Z"
      },
      {
        "duration": 64,
        "start_time": "2023-02-09T15:33:33.098Z"
      },
      {
        "duration": 915,
        "start_time": "2023-02-09T15:33:35.823Z"
      },
      {
        "duration": 61,
        "start_time": "2023-02-09T15:34:23.062Z"
      },
      {
        "duration": 63,
        "start_time": "2023-02-09T15:34:31.965Z"
      },
      {
        "duration": 5,
        "start_time": "2023-02-09T15:34:49.694Z"
      },
      {
        "duration": 4,
        "start_time": "2023-02-09T15:34:58.303Z"
      },
      {
        "duration": 1498,
        "start_time": "2023-02-09T15:35:02.846Z"
      },
      {
        "duration": 69,
        "start_time": "2023-02-09T15:35:22.748Z"
      },
      {
        "duration": 1169,
        "start_time": "2023-02-09T15:35:35.060Z"
      },
      {
        "duration": 63,
        "start_time": "2023-02-09T15:35:57.606Z"
      },
      {
        "duration": 61,
        "start_time": "2023-02-09T15:36:02.350Z"
      },
      {
        "duration": 68,
        "start_time": "2023-02-09T15:36:05.914Z"
      },
      {
        "duration": 1143,
        "start_time": "2023-02-09T15:36:12.109Z"
      },
      {
        "duration": 68,
        "start_time": "2023-02-09T15:36:26.636Z"
      },
      {
        "duration": 69,
        "start_time": "2023-02-09T15:36:31.097Z"
      },
      {
        "duration": 1115,
        "start_time": "2023-02-09T15:36:37.250Z"
      },
      {
        "duration": 69,
        "start_time": "2023-02-09T15:37:34.966Z"
      },
      {
        "duration": 1114,
        "start_time": "2023-02-09T15:38:32.036Z"
      },
      {
        "duration": 429,
        "start_time": "2023-02-09T15:38:33.153Z"
      },
      {
        "duration": 5,
        "start_time": "2023-02-09T15:38:33.584Z"
      },
      {
        "duration": 171,
        "start_time": "2023-02-09T15:38:33.591Z"
      },
      {
        "duration": 5,
        "start_time": "2023-02-09T15:38:33.763Z"
      },
      {
        "duration": 71,
        "start_time": "2023-02-09T15:38:33.770Z"
      },
      {
        "duration": 6,
        "start_time": "2023-02-09T15:38:33.843Z"
      },
      {
        "duration": 79,
        "start_time": "2023-02-09T15:38:33.851Z"
      },
      {
        "duration": 9,
        "start_time": "2023-02-09T15:38:33.932Z"
      },
      {
        "duration": 8,
        "start_time": "2023-02-09T15:38:33.943Z"
      },
      {
        "duration": 15,
        "start_time": "2023-02-09T15:38:33.953Z"
      },
      {
        "duration": 33,
        "start_time": "2023-02-09T15:38:33.970Z"
      },
      {
        "duration": 152,
        "start_time": "2023-02-09T15:38:34.005Z"
      },
      {
        "duration": 37,
        "start_time": "2023-02-09T15:38:34.159Z"
      },
      {
        "duration": 646,
        "start_time": "2023-02-09T15:38:34.197Z"
      },
      {
        "duration": 23,
        "start_time": "2023-02-09T15:38:34.844Z"
      },
      {
        "duration": 89,
        "start_time": "2023-02-09T15:38:34.869Z"
      },
      {
        "duration": 47,
        "start_time": "2023-02-09T15:38:34.960Z"
      },
      {
        "duration": 24,
        "start_time": "2023-02-09T15:38:35.009Z"
      },
      {
        "duration": 97,
        "start_time": "2023-02-09T15:38:35.034Z"
      },
      {
        "duration": 17,
        "start_time": "2023-02-09T15:38:35.133Z"
      },
      {
        "duration": 11,
        "start_time": "2023-02-09T15:38:35.152Z"
      },
      {
        "duration": 51,
        "start_time": "2023-02-09T15:38:35.165Z"
      },
      {
        "duration": 422,
        "start_time": "2023-02-09T15:38:35.218Z"
      },
      {
        "duration": 67,
        "start_time": "2023-02-09T15:38:35.642Z"
      },
      {
        "duration": 23,
        "start_time": "2023-02-09T15:38:35.711Z"
      },
      {
        "duration": 55,
        "start_time": "2023-02-09T15:38:35.737Z"
      },
      {
        "duration": 54,
        "start_time": "2023-02-09T15:38:35.795Z"
      },
      {
        "duration": 64,
        "start_time": "2023-02-09T15:38:35.850Z"
      },
      {
        "duration": 37,
        "start_time": "2023-02-09T15:38:35.915Z"
      },
      {
        "duration": 80,
        "start_time": "2023-02-09T15:38:35.953Z"
      },
      {
        "duration": 167,
        "start_time": "2023-02-09T15:38:36.034Z"
      },
      {
        "duration": 44,
        "start_time": "2023-02-09T15:38:36.203Z"
      },
      {
        "duration": 144,
        "start_time": "2023-02-09T15:38:36.249Z"
      },
      {
        "duration": 380,
        "start_time": "2023-02-09T15:38:36.395Z"
      },
      {
        "duration": 14,
        "start_time": "2023-02-09T15:38:36.777Z"
      },
      {
        "duration": 187,
        "start_time": "2023-02-09T15:38:36.793Z"
      },
      {
        "duration": 67,
        "start_time": "2023-02-09T15:39:19.069Z"
      },
      {
        "duration": 66,
        "start_time": "2023-02-09T15:39:26.089Z"
      },
      {
        "duration": 189,
        "start_time": "2023-02-09T15:39:41.252Z"
      },
      {
        "duration": 1594,
        "start_time": "2023-02-09T17:06:10.496Z"
      },
      {
        "duration": 69,
        "start_time": "2023-02-09T17:06:15.865Z"
      },
      {
        "duration": 1471,
        "start_time": "2023-02-09T17:06:18.571Z"
      },
      {
        "duration": 78,
        "start_time": "2023-02-09T17:06:31.858Z"
      },
      {
        "duration": 66,
        "start_time": "2023-02-09T17:06:37.603Z"
      },
      {
        "duration": 1421,
        "start_time": "2023-02-09T17:06:40.999Z"
      },
      {
        "duration": 9,
        "start_time": "2023-02-09T17:06:56.170Z"
      },
      {
        "duration": 68,
        "start_time": "2023-02-09T17:06:58.456Z"
      },
      {
        "duration": 4,
        "start_time": "2023-02-09T17:07:00.290Z"
      },
      {
        "duration": 62,
        "start_time": "2023-02-09T17:07:07.053Z"
      },
      {
        "duration": 5,
        "start_time": "2023-02-09T17:07:09.688Z"
      },
      {
        "duration": 169,
        "start_time": "2023-02-09T17:07:25.801Z"
      },
      {
        "duration": 67,
        "start_time": "2023-02-09T17:07:33.274Z"
      },
      {
        "duration": 1178,
        "start_time": "2023-02-09T17:11:05.117Z"
      },
      {
        "duration": 452,
        "start_time": "2023-02-09T17:11:06.297Z"
      },
      {
        "duration": 6,
        "start_time": "2023-02-09T17:11:06.752Z"
      },
      {
        "duration": 198,
        "start_time": "2023-02-09T17:11:06.760Z"
      },
      {
        "duration": 5,
        "start_time": "2023-02-09T17:11:06.960Z"
      },
      {
        "duration": 81,
        "start_time": "2023-02-09T17:11:06.966Z"
      },
      {
        "duration": 7,
        "start_time": "2023-02-09T17:11:07.049Z"
      },
      {
        "duration": 79,
        "start_time": "2023-02-09T17:11:07.057Z"
      },
      {
        "duration": 9,
        "start_time": "2023-02-09T17:11:07.138Z"
      },
      {
        "duration": 6,
        "start_time": "2023-02-09T17:11:07.149Z"
      },
      {
        "duration": 11,
        "start_time": "2023-02-09T17:11:07.156Z"
      },
      {
        "duration": 36,
        "start_time": "2023-02-09T17:11:07.168Z"
      },
      {
        "duration": 153,
        "start_time": "2023-02-09T17:11:07.206Z"
      },
      {
        "duration": 38,
        "start_time": "2023-02-09T17:11:07.361Z"
      },
      {
        "duration": 650,
        "start_time": "2023-02-09T17:11:07.400Z"
      },
      {
        "duration": 21,
        "start_time": "2023-02-09T17:11:08.052Z"
      },
      {
        "duration": 68,
        "start_time": "2023-02-09T17:11:08.075Z"
      },
      {
        "duration": 47,
        "start_time": "2023-02-09T17:11:08.145Z"
      },
      {
        "duration": 24,
        "start_time": "2023-02-09T17:11:08.194Z"
      },
      {
        "duration": 71,
        "start_time": "2023-02-09T17:11:08.220Z"
      },
      {
        "duration": 20,
        "start_time": "2023-02-09T17:11:08.293Z"
      },
      {
        "duration": 12,
        "start_time": "2023-02-09T17:11:08.314Z"
      },
      {
        "duration": 37,
        "start_time": "2023-02-09T17:11:08.328Z"
      },
      {
        "duration": 459,
        "start_time": "2023-02-09T17:11:08.367Z"
      },
      {
        "duration": 33,
        "start_time": "2023-02-09T17:11:08.828Z"
      },
      {
        "duration": 44,
        "start_time": "2023-02-09T17:11:08.863Z"
      },
      {
        "duration": 4,
        "start_time": "2023-02-09T17:11:08.909Z"
      },
      {
        "duration": 89,
        "start_time": "2023-02-09T17:11:08.917Z"
      },
      {
        "duration": 36,
        "start_time": "2023-02-09T17:11:09.007Z"
      },
      {
        "duration": 49,
        "start_time": "2023-02-09T17:11:09.045Z"
      },
      {
        "duration": 72,
        "start_time": "2023-02-09T17:11:09.095Z"
      },
      {
        "duration": 170,
        "start_time": "2023-02-09T17:11:09.168Z"
      },
      {
        "duration": 56,
        "start_time": "2023-02-09T17:11:09.339Z"
      },
      {
        "duration": 327,
        "start_time": "2023-02-09T17:11:09.396Z"
      },
      {
        "duration": 6,
        "start_time": "2023-02-09T17:11:09.725Z"
      },
      {
        "duration": 232,
        "start_time": "2023-02-09T17:11:09.732Z"
      },
      {
        "duration": 298,
        "start_time": "2023-02-09T17:11:22.847Z"
      },
      {
        "duration": 308,
        "start_time": "2023-02-09T17:12:00.616Z"
      },
      {
        "duration": 368,
        "start_time": "2023-02-09T17:12:29.812Z"
      },
      {
        "duration": 344,
        "start_time": "2023-02-09T17:12:48.654Z"
      },
      {
        "duration": 152,
        "start_time": "2023-02-09T17:13:17.554Z"
      },
      {
        "duration": 204,
        "start_time": "2023-02-09T17:13:23.690Z"
      },
      {
        "duration": 164,
        "start_time": "2023-02-09T17:14:01.661Z"
      },
      {
        "duration": 152,
        "start_time": "2023-02-09T17:14:24.901Z"
      },
      {
        "duration": 1143,
        "start_time": "2023-02-09T18:23:04.898Z"
      },
      {
        "duration": 368,
        "start_time": "2023-02-09T18:23:06.043Z"
      },
      {
        "duration": 7,
        "start_time": "2023-02-09T18:23:06.413Z"
      },
      {
        "duration": 217,
        "start_time": "2023-02-09T18:23:06.421Z"
      },
      {
        "duration": 7,
        "start_time": "2023-02-09T18:23:06.641Z"
      },
      {
        "duration": 95,
        "start_time": "2023-02-09T18:23:06.651Z"
      },
      {
        "duration": 8,
        "start_time": "2023-02-09T18:23:06.748Z"
      },
      {
        "duration": 102,
        "start_time": "2023-02-09T18:23:06.757Z"
      },
      {
        "duration": 9,
        "start_time": "2023-02-09T18:23:06.860Z"
      },
      {
        "duration": 15,
        "start_time": "2023-02-09T18:23:06.870Z"
      },
      {
        "duration": 22,
        "start_time": "2023-02-09T18:23:06.887Z"
      },
      {
        "duration": 29,
        "start_time": "2023-02-09T18:23:06.911Z"
      },
      {
        "duration": 143,
        "start_time": "2023-02-09T18:23:06.942Z"
      },
      {
        "duration": 33,
        "start_time": "2023-02-09T18:23:07.091Z"
      },
      {
        "duration": 628,
        "start_time": "2023-02-09T18:23:07.125Z"
      },
      {
        "duration": 20,
        "start_time": "2023-02-09T18:23:07.755Z"
      },
      {
        "duration": 72,
        "start_time": "2023-02-09T18:23:07.777Z"
      },
      {
        "duration": 49,
        "start_time": "2023-02-09T18:23:07.851Z"
      },
      {
        "duration": 23,
        "start_time": "2023-02-09T18:23:07.901Z"
      },
      {
        "duration": 66,
        "start_time": "2023-02-09T18:23:07.926Z"
      },
      {
        "duration": 19,
        "start_time": "2023-02-09T18:23:07.994Z"
      },
      {
        "duration": 17,
        "start_time": "2023-02-09T18:23:08.014Z"
      },
      {
        "duration": 48,
        "start_time": "2023-02-09T18:23:08.032Z"
      },
      {
        "duration": 448,
        "start_time": "2023-02-09T18:23:08.081Z"
      },
      {
        "duration": 32,
        "start_time": "2023-02-09T18:23:08.531Z"
      },
      {
        "duration": 48,
        "start_time": "2023-02-09T18:23:08.565Z"
      },
      {
        "duration": 4,
        "start_time": "2023-02-09T18:23:08.615Z"
      },
      {
        "duration": 85,
        "start_time": "2023-02-09T18:23:08.621Z"
      },
      {
        "duration": 35,
        "start_time": "2023-02-09T18:23:08.708Z"
      },
      {
        "duration": 64,
        "start_time": "2023-02-09T18:23:08.745Z"
      },
      {
        "duration": 497,
        "start_time": "2023-02-09T18:23:08.811Z"
      },
      {
        "duration": 0,
        "start_time": "2023-02-09T18:23:09.311Z"
      },
      {
        "duration": 0,
        "start_time": "2023-02-09T18:23:09.312Z"
      },
      {
        "duration": 0,
        "start_time": "2023-02-09T18:23:09.314Z"
      },
      {
        "duration": 0,
        "start_time": "2023-02-09T18:23:09.315Z"
      },
      {
        "duration": 0,
        "start_time": "2023-02-09T18:23:09.316Z"
      },
      {
        "duration": 0,
        "start_time": "2023-02-09T18:23:09.318Z"
      },
      {
        "duration": 2532,
        "start_time": "2023-02-09T18:23:37.909Z"
      },
      {
        "duration": 70,
        "start_time": "2023-02-09T18:23:52.612Z"
      },
      {
        "duration": 64,
        "start_time": "2023-02-09T18:24:24.525Z"
      },
      {
        "duration": 66,
        "start_time": "2023-02-09T18:24:30.312Z"
      },
      {
        "duration": 74,
        "start_time": "2023-02-09T18:25:01.198Z"
      },
      {
        "duration": 85,
        "start_time": "2023-02-09T18:25:14.232Z"
      },
      {
        "duration": 68,
        "start_time": "2023-02-09T18:25:38.138Z"
      },
      {
        "duration": 72,
        "start_time": "2023-02-09T18:25:46.676Z"
      },
      {
        "duration": 70,
        "start_time": "2023-02-09T18:25:49.217Z"
      },
      {
        "duration": 72,
        "start_time": "2023-02-09T18:25:54.617Z"
      },
      {
        "duration": 66,
        "start_time": "2023-02-09T18:25:59.414Z"
      },
      {
        "duration": 67,
        "start_time": "2023-02-09T18:26:15.978Z"
      },
      {
        "duration": 6,
        "start_time": "2023-02-09T18:26:58.881Z"
      },
      {
        "duration": 102,
        "start_time": "2023-02-09T18:27:08.705Z"
      },
      {
        "duration": 74,
        "start_time": "2023-02-09T18:27:11.894Z"
      },
      {
        "duration": 10,
        "start_time": "2023-02-09T18:27:15.198Z"
      },
      {
        "duration": 1125,
        "start_time": "2023-02-09T18:28:08.439Z"
      },
      {
        "duration": 950,
        "start_time": "2023-02-09T18:28:30.039Z"
      },
      {
        "duration": 66,
        "start_time": "2023-02-09T18:28:48.135Z"
      },
      {
        "duration": 6,
        "start_time": "2023-02-09T18:29:05.293Z"
      },
      {
        "duration": 1169,
        "start_time": "2023-02-09T18:29:21.826Z"
      },
      {
        "duration": 14,
        "start_time": "2023-02-09T18:29:31.586Z"
      },
      {
        "duration": 66,
        "start_time": "2023-02-09T18:30:24.252Z"
      },
      {
        "duration": 14,
        "start_time": "2023-02-09T18:30:25.414Z"
      },
      {
        "duration": 69,
        "start_time": "2023-02-09T18:30:59.300Z"
      },
      {
        "duration": 13,
        "start_time": "2023-02-09T18:31:02.698Z"
      },
      {
        "duration": 65,
        "start_time": "2023-02-09T18:31:06.914Z"
      },
      {
        "duration": 85,
        "start_time": "2023-02-09T18:34:36.469Z"
      },
      {
        "duration": 71,
        "start_time": "2023-02-09T18:38:11.102Z"
      },
      {
        "duration": 154,
        "start_time": "2023-02-09T18:38:15.410Z"
      },
      {
        "duration": 1186,
        "start_time": "2023-02-09T19:15:14.758Z"
      },
      {
        "duration": 406,
        "start_time": "2023-02-09T19:15:15.946Z"
      },
      {
        "duration": 7,
        "start_time": "2023-02-09T19:15:16.354Z"
      },
      {
        "duration": 254,
        "start_time": "2023-02-09T19:15:16.363Z"
      },
      {
        "duration": 7,
        "start_time": "2023-02-09T19:15:16.622Z"
      },
      {
        "duration": 108,
        "start_time": "2023-02-09T19:15:16.631Z"
      },
      {
        "duration": 8,
        "start_time": "2023-02-09T19:15:16.742Z"
      },
      {
        "duration": 90,
        "start_time": "2023-02-09T19:15:16.752Z"
      },
      {
        "duration": 9,
        "start_time": "2023-02-09T19:15:16.844Z"
      },
      {
        "duration": 6,
        "start_time": "2023-02-09T19:15:16.854Z"
      },
      {
        "duration": 11,
        "start_time": "2023-02-09T19:15:16.862Z"
      },
      {
        "duration": 42,
        "start_time": "2023-02-09T19:15:16.875Z"
      },
      {
        "duration": 196,
        "start_time": "2023-02-09T19:15:16.919Z"
      },
      {
        "duration": 33,
        "start_time": "2023-02-09T19:15:17.118Z"
      },
      {
        "duration": 709,
        "start_time": "2023-02-09T19:15:17.153Z"
      },
      {
        "duration": 36,
        "start_time": "2023-02-09T19:15:17.864Z"
      },
      {
        "duration": 67,
        "start_time": "2023-02-09T19:15:17.902Z"
      },
      {
        "duration": 49,
        "start_time": "2023-02-09T19:15:17.972Z"
      },
      {
        "duration": 22,
        "start_time": "2023-02-09T19:15:18.022Z"
      },
      {
        "duration": 86,
        "start_time": "2023-02-09T19:15:18.046Z"
      },
      {
        "duration": 19,
        "start_time": "2023-02-09T19:15:18.134Z"
      },
      {
        "duration": 12,
        "start_time": "2023-02-09T19:15:18.157Z"
      },
      {
        "duration": 64,
        "start_time": "2023-02-09T19:15:18.171Z"
      },
      {
        "duration": 487,
        "start_time": "2023-02-09T19:15:18.236Z"
      },
      {
        "duration": 66,
        "start_time": "2023-02-09T19:15:18.725Z"
      },
      {
        "duration": 21,
        "start_time": "2023-02-09T19:15:18.793Z"
      },
      {
        "duration": 5,
        "start_time": "2023-02-09T19:15:18.816Z"
      },
      {
        "duration": 100,
        "start_time": "2023-02-09T19:15:18.823Z"
      },
      {
        "duration": 68,
        "start_time": "2023-02-09T19:15:18.924Z"
      },
      {
        "duration": 37,
        "start_time": "2023-02-09T19:15:18.993Z"
      },
      {
        "duration": 85,
        "start_time": "2023-02-09T19:15:19.032Z"
      },
      {
        "duration": 170,
        "start_time": "2023-02-09T19:15:19.118Z"
      },
      {
        "duration": 324,
        "start_time": "2023-02-09T19:15:19.292Z"
      },
      {
        "duration": 5,
        "start_time": "2023-02-09T19:15:19.618Z"
      },
      {
        "duration": 196,
        "start_time": "2023-02-09T19:15:19.625Z"
      },
      {
        "duration": 156,
        "start_time": "2023-02-09T19:15:54.686Z"
      },
      {
        "duration": 175,
        "start_time": "2023-02-09T19:18:23.424Z"
      },
      {
        "duration": 104,
        "start_time": "2023-02-09T19:18:35.038Z"
      },
      {
        "duration": 190,
        "start_time": "2023-02-09T19:18:45.373Z"
      },
      {
        "duration": 175,
        "start_time": "2023-02-09T19:18:59.847Z"
      },
      {
        "duration": 172,
        "start_time": "2023-02-09T19:19:28.929Z"
      },
      {
        "duration": 5,
        "start_time": "2023-02-09T19:20:58.979Z"
      },
      {
        "duration": 4,
        "start_time": "2023-02-09T19:21:12.664Z"
      },
      {
        "duration": 217,
        "start_time": "2023-02-09T19:21:21.763Z"
      },
      {
        "duration": 84,
        "start_time": "2023-02-09T19:23:14.461Z"
      },
      {
        "duration": 54,
        "start_time": "2023-02-09T19:23:24.266Z"
      },
      {
        "duration": 175,
        "start_time": "2023-02-09T19:23:37.735Z"
      },
      {
        "duration": 208,
        "start_time": "2023-02-09T19:23:50.968Z"
      },
      {
        "duration": 89,
        "start_time": "2023-02-09T19:29:09.672Z"
      },
      {
        "duration": 67,
        "start_time": "2023-02-09T19:29:14.236Z"
      },
      {
        "duration": 77,
        "start_time": "2023-02-09T19:29:21.975Z"
      },
      {
        "duration": 143,
        "start_time": "2023-02-09T19:29:32.933Z"
      },
      {
        "duration": 19,
        "start_time": "2023-02-09T19:29:51.689Z"
      },
      {
        "duration": 40,
        "start_time": "2023-02-09T19:29:56.169Z"
      },
      {
        "duration": 37,
        "start_time": "2023-02-09T19:29:59.908Z"
      },
      {
        "duration": 1024,
        "start_time": "2023-02-09T19:35:46.684Z"
      },
      {
        "duration": 1003,
        "start_time": "2023-02-09T19:35:53.884Z"
      },
      {
        "duration": 75,
        "start_time": "2023-02-09T19:35:57.321Z"
      },
      {
        "duration": 93,
        "start_time": "2023-02-09T19:36:18.987Z"
      },
      {
        "duration": 88,
        "start_time": "2023-02-09T19:36:21.985Z"
      },
      {
        "duration": 47,
        "start_time": "2023-02-09T19:38:30.071Z"
      },
      {
        "duration": 1320,
        "start_time": "2023-02-09T19:39:42.627Z"
      },
      {
        "duration": 93,
        "start_time": "2023-02-09T19:39:55.929Z"
      },
      {
        "duration": 77,
        "start_time": "2023-02-09T19:40:00.076Z"
      },
      {
        "duration": 166,
        "start_time": "2023-02-09T19:40:02.238Z"
      },
      {
        "duration": 187,
        "start_time": "2023-02-09T19:40:17.608Z"
      },
      {
        "duration": 163,
        "start_time": "2023-02-09T19:40:20.430Z"
      },
      {
        "duration": 1195,
        "start_time": "2023-02-09T19:53:59.629Z"
      },
      {
        "duration": 349,
        "start_time": "2023-02-09T19:54:00.826Z"
      },
      {
        "duration": 6,
        "start_time": "2023-02-09T19:54:01.177Z"
      },
      {
        "duration": 226,
        "start_time": "2023-02-09T19:54:01.192Z"
      },
      {
        "duration": 6,
        "start_time": "2023-02-09T19:54:01.420Z"
      },
      {
        "duration": 85,
        "start_time": "2023-02-09T19:54:01.428Z"
      },
      {
        "duration": 6,
        "start_time": "2023-02-09T19:54:01.515Z"
      },
      {
        "duration": 102,
        "start_time": "2023-02-09T19:54:01.523Z"
      },
      {
        "duration": 8,
        "start_time": "2023-02-09T19:54:01.627Z"
      },
      {
        "duration": 22,
        "start_time": "2023-02-09T19:54:01.637Z"
      },
      {
        "duration": 20,
        "start_time": "2023-02-09T19:54:01.661Z"
      },
      {
        "duration": 63,
        "start_time": "2023-02-09T19:54:01.682Z"
      },
      {
        "duration": 195,
        "start_time": "2023-02-09T19:54:01.747Z"
      },
      {
        "duration": 34,
        "start_time": "2023-02-09T19:54:01.944Z"
      },
      {
        "duration": 686,
        "start_time": "2023-02-09T19:54:01.979Z"
      },
      {
        "duration": 34,
        "start_time": "2023-02-09T19:54:02.667Z"
      },
      {
        "duration": 64,
        "start_time": "2023-02-09T19:54:02.703Z"
      },
      {
        "duration": 50,
        "start_time": "2023-02-09T19:54:02.769Z"
      },
      {
        "duration": 23,
        "start_time": "2023-02-09T19:54:02.820Z"
      },
      {
        "duration": 86,
        "start_time": "2023-02-09T19:54:02.844Z"
      },
      {
        "duration": 19,
        "start_time": "2023-02-09T19:54:02.932Z"
      },
      {
        "duration": 13,
        "start_time": "2023-02-09T19:54:02.953Z"
      },
      {
        "duration": 55,
        "start_time": "2023-02-09T19:54:02.968Z"
      },
      {
        "duration": 429,
        "start_time": "2023-02-09T19:54:03.025Z"
      },
      {
        "duration": 50,
        "start_time": "2023-02-09T19:54:03.456Z"
      },
      {
        "duration": 25,
        "start_time": "2023-02-09T19:54:03.508Z"
      },
      {
        "duration": 59,
        "start_time": "2023-02-09T19:54:03.535Z"
      },
      {
        "duration": 52,
        "start_time": "2023-02-09T19:54:03.604Z"
      },
      {
        "duration": 69,
        "start_time": "2023-02-09T19:54:03.658Z"
      },
      {
        "duration": 35,
        "start_time": "2023-02-09T19:54:03.729Z"
      },
      {
        "duration": 100,
        "start_time": "2023-02-09T19:54:03.765Z"
      },
      {
        "duration": 46,
        "start_time": "2023-02-09T19:54:03.867Z"
      },
      {
        "duration": 166,
        "start_time": "2023-02-09T19:54:03.915Z"
      },
      {
        "duration": 159,
        "start_time": "2023-02-09T19:54:04.083Z"
      },
      {
        "duration": 167,
        "start_time": "2023-02-09T19:54:04.244Z"
      },
      {
        "duration": 9,
        "start_time": "2023-02-09T19:54:04.413Z"
      },
      {
        "duration": 221,
        "start_time": "2023-02-09T19:54:04.424Z"
      },
      {
        "duration": 60,
        "start_time": "2023-02-10T17:18:23.932Z"
      }
    ],
    "colab": {
      "provenance": []
    },
    "kernelspec": {
      "display_name": "Python 3 (ipykernel)",
      "language": "python",
      "name": "python3"
    },
    "language_info": {
      "codemirror_mode": {
        "name": "ipython",
        "version": 3
      },
      "file_extension": ".py",
      "mimetype": "text/x-python",
      "name": "python",
      "nbconvert_exporter": "python",
      "pygments_lexer": "ipython3",
      "version": "3.9.5"
    },
    "toc": {
      "base_numbering": 1,
      "nav_menu": {},
      "number_sections": false,
      "sideBar": true,
      "skip_h1_title": false,
      "title_cell": "Table of Contents",
      "title_sidebar": "Contents",
      "toc_cell": true,
      "toc_position": {
        "height": "calc(100% - 180px)",
        "left": "10px",
        "top": "150px",
        "width": "266.25px"
      },
      "toc_section_display": true,
      "toc_window_display": true
    }
  },
  "nbformat": 4,
  "nbformat_minor": 0
}